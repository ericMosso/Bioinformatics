{
 "cells": [
  {
   "cell_type": "code",
   "execution_count": 213,
   "id": "e1206f29-4d98-427c-a34b-d04c5a5ec1e8",
   "metadata": {
    "tags": []
   },
   "outputs": [],
   "source": [
    "from geneReader import geneReader\n",
    "\n",
    "from naiveAware import naiveAware\n",
    "\n",
    "from reverseComplement import reverseComplement\n",
    "\n",
    "from naive_mismatches import naive_mismatches\n",
    "\n",
    "from unawareNaive import unawareNaive"
   ]
  },
  {
   "cell_type": "code",
   "execution_count": 214,
   "id": "c273a4b5-32ee-46f8-9087-d01552d0d636",
   "metadata": {
    "tags": []
   },
   "outputs": [],
   "source": [
    "filename = 'lambda_virus.fa'\n",
    "\n",
    "data = open ( filename, 'r' )\n",
    "\n",
    "reads = geneReader ( filename )\n",
    "\n",
    "data.close()"
   ]
  },
  {
   "cell_type": "code",
   "execution_count": 243,
   "id": "796660e6-633b-4c17-97c1-2547f5106607",
   "metadata": {
    "tags": []
   },
   "outputs": [],
   "source": [
    "pattern = 'ACCCA'\n",
    "\n",
    "rcPattern = reverseComplement ( pattern )\n",
    "\n",
    "results = naiveAware ( pattern, reads )\n",
    "\n",
    "rcResults = naiveAware ( rcPattern, reads )\n",
    "\n",
    "mmResults = naive_mismatches ( pattern, reads )\n",
    "\n",
    "unawareResults = unawareNaive ( pattern, reads )"
   ]
  },
  {
   "cell_type": "code",
   "execution_count": 244,
   "id": "667b73bb-82a1-48f7-b657-fcf82861e80c",
   "metadata": {
    "tags": []
   },
   "outputs": [
    {
     "name": "stdout",
     "output_type": "stream",
     "text": [
      "TGGGT\n"
     ]
    }
   ],
   "source": [
    "print ( rcPattern )"
   ]
  },
  {
   "cell_type": "code",
   "execution_count": 245,
   "id": "894a1b36-0942-456a-854d-f6fba637c338",
   "metadata": {
    "tags": []
   },
   "outputs": [
    {
     "name": "stdout",
     "output_type": "stream",
     "text": [
      "offset of leftmost occurrence: 969\n"
     ]
    }
   ],
   "source": [
    "print ( 'offset of leftmost occurrence: %d' % min ( results ) )"
   ]
  },
  {
   "cell_type": "code",
   "execution_count": 246,
   "id": "e932b8b8-4644-4927-944f-965d1cb95a4e",
   "metadata": {
    "tags": []
   },
   "outputs": [
    {
     "name": "stdout",
     "output_type": "stream",
     "text": [
      "offset of leftmost rc occurrence: 969\n"
     ]
    }
   ],
   "source": [
    "print ( 'offset of leftmost rc occurrence: %d' % min ( rcResults ) )"
   ]
  },
  {
   "cell_type": "code",
   "execution_count": 247,
   "id": "9d1bb7f3-5c1d-4b4b-92ab-98db78956969",
   "metadata": {
    "tags": []
   },
   "outputs": [
    {
     "name": "stdout",
     "output_type": "stream",
     "text": [
      "occurrences: 65\n"
     ]
    }
   ],
   "source": [
    "print ( 'occurrences: %d' % len ( results ) )"
   ]
  },
  {
   "cell_type": "code",
   "execution_count": 248,
   "id": "cb369754-5312-4afc-9cc1-b6aa8612d9ec",
   "metadata": {
    "tags": []
   },
   "outputs": [
    {
     "name": "stdout",
     "output_type": "stream",
     "text": [
      "rc occurrences: 65\n"
     ]
    }
   ],
   "source": [
    "print ( 'rc occurrences: %d' % len ( rcResults ) )"
   ]
  },
  {
   "cell_type": "code",
   "execution_count": 249,
   "id": "524002b8-d2e7-4cd5-b80f-66356f61273b",
   "metadata": {},
   "outputs": [
    {
     "name": "stdout",
     "output_type": "stream",
     "text": [
      "offset of lefmost occurence with up to 2 mismatches : 1058\n"
     ]
    }
   ],
   "source": [
    "print ( 'offset of lefmost occurence with up to 2 mismatches : %d' % min ( mmResults ) )"
   ]
  },
  {
   "cell_type": "code",
   "execution_count": 250,
   "id": "778e3028-76fa-4519-b59e-70976cc494a7",
   "metadata": {
    "tags": []
   },
   "outputs": [
    {
     "name": "stdout",
     "output_type": "stream",
     "text": [
      "mm occurrences: 29\n"
     ]
    }
   ],
   "source": [
    "print ( 'mm occurrences: %d' % len ( mmResults ) )"
   ]
  },
  {
   "cell_type": "code",
   "execution_count": 251,
   "id": "75ab75b9-83f7-49ba-945e-a596f3ae97ef",
   "metadata": {
    "tags": []
   },
   "outputs": [
    {
     "name": "stdout",
     "output_type": "stream",
     "text": [
      "offset of leftmost unware occurrence: 1058\n"
     ]
    }
   ],
   "source": [
    "print ( 'offset of leftmost unware occurrence: %d' % min ( unawareResults ) )"
   ]
  },
  {
   "cell_type": "code",
   "execution_count": 252,
   "id": "f4f817e5-4f99-41b2-b813-668cc456da66",
   "metadata": {
    "tags": []
   },
   "outputs": [
    {
     "name": "stdout",
     "output_type": "stream",
     "text": [
      "unaware occurrences: 29\n"
     ]
    }
   ],
   "source": [
    "print ( 'unaware occurrences: %d' % len ( unawareResults ) )"
   ]
  },
  {
   "cell_type": "code",
   "execution_count": 225,
   "id": "6c6b7e25-1dbb-4ee5-95a6-5b287b087402",
   "metadata": {
    "tags": []
   },
   "outputs": [
    {
     "data": {
      "text/plain": [
       "[1058,\n",
       " 2950,\n",
       " 5767,\n",
       " 10237,\n",
       " 16344,\n",
       " 20899,\n",
       " 21326,\n",
       " 21451,\n",
       " 23351,\n",
       " 23460,\n",
       " 24863,\n",
       " 26378,\n",
       " 27148,\n",
       " 29004,\n",
       " 29910,\n",
       " 31277,\n",
       " 31537,\n",
       " 36021,\n",
       " 37548,\n",
       " 39480,\n",
       " 40722,\n",
       " 42169,\n",
       " 44398,\n",
       " 44403,\n",
       " 44939,\n",
       " 45658,\n",
       " 46394,\n",
       " 47141,\n",
       " 48181]"
      ]
     },
     "execution_count": 225,
     "metadata": {},
     "output_type": "execute_result"
    }
   ],
   "source": [
    "mmResults"
   ]
  },
  {
   "cell_type": "code",
   "execution_count": 237,
   "id": "a0405e96-4dd7-47cd-8859-2b4dfcc85fa3",
   "metadata": {
    "tags": []
   },
   "outputs": [],
   "source": [
    "occurrences = []\n",
    "\n",
    "t = reads\n",
    "p = pattern\n",
    "\n",
    "\n",
    "for i in range ( len ( t ) - len ( p ) + 1 ) :  # loop over alignments\n",
    "        \n",
    "        match = True\n",
    "       # errorCount = 0\n",
    "        \n",
    "        for j in range ( len ( p ) ) :  # loop over characters\n",
    "            \n",
    "           # if t [ i + j ] != p [ j ] :  # compare characters\n",
    "                \n",
    "                #errorCount += 1\n",
    "                \n",
    "            if errorCount > 2 :\n",
    "                    \n",
    "                match = False\n",
    "                    \n",
    "                break\n",
    "                    \n",
    "        if match :\n",
    "            \n",
    "            occurrences.append ( i )  # all chars matched; record"
   ]
  },
  {
   "cell_type": "code",
   "execution_count": 238,
   "id": "7c1553f3-8961-4d79-ac36-76a9ef50e12a",
   "metadata": {
    "tags": []
   },
   "outputs": [
    {
     "data": {
      "text/plain": [
       "3"
      ]
     },
     "execution_count": 238,
     "metadata": {},
     "output_type": "execute_result"
    }
   ],
   "source": [
    "errorCount"
   ]
  },
  {
   "cell_type": "code",
   "execution_count": 240,
   "id": "cfecf781-3053-49c7-94b7-e0fc76ceaf6d",
   "metadata": {
    "tags": []
   },
   "outputs": [
    {
     "data": {
      "text/plain": [
       "4266"
      ]
     },
     "execution_count": 240,
     "metadata": {},
     "output_type": "execute_result"
    }
   ],
   "source": [
    "len(occurrences)"
   ]
  },
  {
   "cell_type": "code",
   "execution_count": 242,
   "id": "2e0a9bfc-3d9f-45c5-8773-02f57d47d706",
   "metadata": {
    "tags": []
   },
   "outputs": [
    {
     "data": {
      "text/plain": [
       "29"
      ]
     },
     "execution_count": 242,
     "metadata": {},
     "output_type": "execute_result"
    }
   ],
   "source": [
    "occurrences = []\n",
    "\n",
    "# Range is the length of the strand minus the length of the pattern, \n",
    "# plus 1 to account for range starting at 0, but len starting at 1. \n",
    "\n",
    "for i in range ( len ( t ) - len ( p ) + 1 ) :  # loop over alignments\n",
    "\n",
    "    match = True\n",
    "\n",
    "    for j in range ( len ( p ) ) :  # loop over characters\n",
    "\n",
    "        if t [ i + j ] != p [ j ] :  # compare characters\n",
    "\n",
    "            match = False\n",
    "\n",
    "            break\n",
    "\n",
    "    if match:\n",
    "\n",
    "        occurrences.append ( i )  # all chars matched; record\n",
    "\n",
    "len(occurrences)"
   ]
  },
  {
   "cell_type": "code",
   "execution_count": null,
   "id": "bcf2c2d4-f0b5-46c6-b101-b1691b9e9e67",
   "metadata": {},
   "outputs": [],
   "source": []
  },
  {
   "cell_type": "code",
   "execution_count": null,
   "id": "4fb29036-5626-4444-806b-ab0bffa4b0fa",
   "metadata": {},
   "outputs": [],
   "source": []
  }
 ],
 "metadata": {
  "kernelspec": {
   "display_name": "Python 3",
   "language": "python",
   "name": "python3"
  },
  "language_info": {
   "codemirror_mode": {
    "name": "ipython",
    "version": 3
   },
   "file_extension": ".py",
   "mimetype": "text/x-python",
   "name": "python",
   "nbconvert_exporter": "python",
   "pygments_lexer": "ipython3",
   "version": "3.8.5"
  }
 },
 "nbformat": 4,
 "nbformat_minor": 5
}
