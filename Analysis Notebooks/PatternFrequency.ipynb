{
 "cells": [
  {
   "cell_type": "markdown",
   "id": "263a04b6-bbe7-425e-a059-467301ecc3a0",
   "metadata": {},
   "source": [
    "# Frequency of Kmers"
   ]
  },
  {
   "cell_type": "markdown",
   "id": "76a19523-207e-48a3-bf71-4da9297c1476",
   "metadata": {},
   "source": [
    "### Pseudocode \n",
    "##### (written by course instructors)"
   ]
  },
  {
   "cell_type": "markdown",
   "id": "391f8ba7-8993-425a-b50a-5e1297049ea4",
   "metadata": {},
   "source": [
    "FrequencyTable ( Text, k )\n",
    "\n",
    "    freqMap ← empty map\n",
    "    \n",
    "    n ← |Text|\n",
    "    \n",
    "    for i ← 0 to n − k\n",
    "    \n",
    "        Pattern ← Text ( i, k )\n",
    "        \n",
    "        if freqMap[Pattern] doesn't exist\n",
    "        \n",
    "            freqMap[Pattern] ← 1\n",
    "            \n",
    "        else\n",
    "        \n",
    "           freqMap[pattern] ← freqMap[pattern] + 1 \n",
    "            \n",
    "    return freqMap"
   ]
  },
  {
   "cell_type": "markdown",
   "id": "7eebe749-cc3c-4e67-8438-27e56d55e432",
   "metadata": {
    "tags": []
   },
   "source": [
    "___"
   ]
  },
  {
   "cell_type": "markdown",
   "id": "4ebd2021-f2dd-4b82-afdd-e9cb51844c8a",
   "metadata": {},
   "source": [
    "FrequentWords ( Text, k )\n",
    "\n",
    "    FrequentPatterns ← an empty set\n",
    "    \n",
    "    for i ← 0 to |Text| − k\n",
    "    \n",
    "        Pattern ← the k-mer Text ( i, k )\n",
    "        \n",
    "        Count(i) ← PatternCount(Text, Pattern)\n",
    "        \n",
    "    maxCount ← maximum value in array Count\n",
    "    \n",
    "    for i ← 0 to |Text| − k\n",
    "    \n",
    "        if Count(i) = maxCount\n",
    "        \n",
    "            add Text ( i, k ) to FrequentPatterns\n",
    "            \n",
    "    remove duplicates from FrequentPatterns\n",
    "    \n",
    "    return FrequentPatterns\n"
   ]
  },
  {
   "cell_type": "markdown",
   "id": "c2224fca-f74a-46f1-b92c-e8f2fe750d83",
   "metadata": {
    "tags": []
   },
   "source": [
    "___"
   ]
  },
  {
   "cell_type": "markdown",
   "id": "9de84c53-75dc-49f5-a653-62717113a695",
   "metadata": {},
   "source": [
    "BetterFrequentWords ( Text, k )\n",
    "\n",
    "    FrequentPatterns ← an array of strings of length 0\n",
    "    \n",
    "    freqMap ← FrequencyTable ( Text, k )\n",
    "    \n",
    "    max ← MaxMap ( freqMap ) \n",
    "    \n",
    "    for all strings Pattern in freqMap\n",
    "    \n",
    "        if freqMap[pattern] = max\n",
    "        \n",
    "            append Pattern to frequentPatterns\n",
    "            \n",
    "    return frequentPatterns\n"
   ]
  },
  {
   "cell_type": "markdown",
   "id": "6ca37d7a-e8cb-4c3f-a866-9aa9907f11bd",
   "metadata": {},
   "source": [
    "___"
   ]
  },
  {
   "cell_type": "markdown",
   "id": "bf3f59e7-a72a-4ea4-bbc7-cea386cbf072",
   "metadata": {},
   "source": [
    "* O ( |Text|^2 · k ) --- Complexity of a naive matching algorithm (worst case scenario) \n",
    "* O ( |Text| - k + 1 ) -- Complexity of a naive matching algorithm (best case)\n",
    "\n",
    "|Text| is size of input string. k is the length of the pattern. "
   ]
  },
  {
   "cell_type": "markdown",
   "id": "40d05fa1-731e-4fd2-8e59-6bfe7caaf260",
   "metadata": {},
   "source": [
    "### Python Code \n",
    "##### (written by me)"
   ]
  },
  {
   "cell_type": "code",
   "execution_count": 53,
   "id": "4ff1998a-5a72-40fd-885c-08246be9042c",
   "metadata": {
    "tags": []
   },
   "outputs": [],
   "source": [
    "# Opening the text file and reading it to a variable, dnaFile.\n",
    "\n",
    "dnaFile = open ( \"dataset_2_13.txt\", \"r\" )\n",
    "\n",
    "# Saving the contents of the file to a string variable.\n",
    "\n",
    "text = dnaFile.read ()\n",
    "\n",
    "# Closing the file. \n",
    "\n",
    "dnaFile.close ()\n",
    "\n",
    "k = 7"
   ]
  },
  {
   "cell_type": "markdown",
   "id": "c03dbe00-badf-40cf-ae68-801974d60366",
   "metadata": {
    "tags": []
   },
   "source": [
    "### Pattern Frequency Dictionary"
   ]
  },
  {
   "cell_type": "code",
   "execution_count": 9,
   "id": "67568618-98d7-4d02-b47c-d14593b22ec4",
   "metadata": {
    "tags": []
   },
   "outputs": [],
   "source": [
    "def freqTable ( text, k ) :\n",
    "    \n",
    "    # Creates an empty dictionary.\n",
    "    \n",
    "    freqMap = {}\n",
    "    \n",
    "    # Value for the length of the entire DNA string.\n",
    "    \n",
    "    n = len ( text )\n",
    "    \n",
    "    # Iterates over a range of values from 0 to the end of the DNA string minus the length of the string plus 1 because we are starting from 0 and len \n",
    "    # gives lengths starting at 1, basically.\n",
    "    \n",
    "    for i in range ( n - k + 1 ) :\n",
    "        \n",
    "        # 'pattern' is the text from current iteration to the current iteration plus the kmer pattern length specified. \n",
    "        \n",
    "        pattern = text [ i: ( i + k ) ]\n",
    "        \n",
    "        # Where the key, aka, pattern, in the dictionary, is already there, we add 1 to its current value.\n",
    "        \n",
    "        if pattern in freqMap : \n",
    "            \n",
    "            freqMap [ pattern ] += 1\n",
    "            \n",
    "            # Where the pattern doesn't yet exist in our new dictionary, we make a new pattern entry, so it starts off with a 1 value. \n",
    "            \n",
    "        else :\n",
    "            \n",
    "            freqMap [ pattern ] = 1\n",
    "            \n",
    "    return freqMap"
   ]
  },
  {
   "cell_type": "markdown",
   "id": "eae569df-5303-4624-8e65-edc5dcac8c5a",
   "metadata": {
    "tags": []
   },
   "source": [
    "### Maximum K's"
   ]
  },
  {
   "cell_type": "code",
   "execution_count": 47,
   "id": "63553322-13fb-4115-b703-fd4e318df7b2",
   "metadata": {
    "tags": []
   },
   "outputs": [],
   "source": [
    "def maxMap ( freqMap ) : \n",
    "    \n",
    "    maxKmer = max ( freqMap.values() )\n",
    "    \n",
    "    return maxKmer"
   ]
  },
  {
   "cell_type": "markdown",
   "id": "dca3cbea-de81-407a-9839-4d1e5f264528",
   "metadata": {
    "tags": []
   },
   "source": [
    "### Most Frequently Occurring Kmers"
   ]
  },
  {
   "cell_type": "code",
   "execution_count": 50,
   "id": "143b70c0-006b-478b-b64f-feed212da3b6",
   "metadata": {
    "tags": []
   },
   "outputs": [],
   "source": [
    "def betterFrequentWords ( text, k ) :\n",
    "\n",
    "    # Creating an empty list.\n",
    "    \n",
    "    frequentPatterns = []\n",
    "    \n",
    "    # Creates a dictionary of keys/values of all patterns of length k, along with the value of their frequences. \n",
    "\n",
    "    freqMap = freqTable ( text, k )\n",
    "    \n",
    "    # The patterns with the maximum frequency. Allows ties.\n",
    "\n",
    "    max_kmer = maxMap ( freqMap )\n",
    "    \n",
    "    # This loop adds all the DNA string patterns that have occurred the most times throughout the entire DNA length. \n",
    "\n",
    "    for pattern in freqMap :\n",
    "\n",
    "        if freqMap [ pattern ] == max_kmer : \n",
    "\n",
    "            frequentPatterns.append ( pattern ) \n",
    "\n",
    "    return frequentPatterns"
   ]
  },
  {
   "cell_type": "code",
   "execution_count": 51,
   "id": "1ceb9586-e517-45bb-a50d-8089a25feb81",
   "metadata": {},
   "outputs": [
    {
     "data": {
      "text/plain": [
       "['AATACTAAATACTATAGCTC',\n",
       " 'ATACTAAATACTATAGCTCT',\n",
       " 'AATACTATAGCTCTTAGCTC',\n",
       " 'ATACTATAGCTCTTAGCTCT',\n",
       " 'TCTGTTGTTAGGGTTGTTAG',\n",
       " 'CTGTTGTTAGGGTTGTTAGG']"
      ]
     },
     "execution_count": 51,
     "metadata": {},
     "output_type": "execute_result"
    }
   ],
   "source": [
    "betterFrequentWords( text, k )"
   ]
  },
  {
   "cell_type": "code",
   "execution_count": null,
   "id": "54203a3f-840b-4dc0-a7f8-151b5077d830",
   "metadata": {},
   "outputs": [],
   "source": []
  }
 ],
 "metadata": {
  "kernelspec": {
   "display_name": "Python 3 (ipykernel)",
   "language": "python",
   "name": "python3"
  },
  "language_info": {
   "codemirror_mode": {
    "name": "ipython",
    "version": 3
   },
   "file_extension": ".py",
   "mimetype": "text/x-python",
   "name": "python",
   "nbconvert_exporter": "python",
   "pygments_lexer": "ipython3",
   "version": "3.8.8"
  }
 },
 "nbformat": 4,
 "nbformat_minor": 5
}
