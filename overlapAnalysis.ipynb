{
 "cells": [
  {
   "cell_type": "markdown",
   "id": "c2f20eff",
   "metadata": {},
   "source": [
    "# Analysis with Overlaps"
   ]
  },
  {
   "cell_type": "markdown",
   "id": "e5192e0c",
   "metadata": {},
   "source": [
    "\n",
    "\n",
    "> In computational linguistics and computer science, edit distance is a string metric, i.e. a way of quantifying how dissimilar two strings (e.g., words) are to one another, that is measured by counting the minimum number of operations required to transform one string into the other. Edit distances find applications in natural language processing, where automatic spelling correction can determine candidate corrections for a misspelled word by selecting words from a dictionary that have a low distance to the word in question. In bioinformatics, it can be used to quantify the similarity of DNA sequences, which can be viewed as strings of the letters A, C, G and T.\n",
    "\n",
    "*[Edit Distance - Wikipedia](https://en.wikipedia.org/wiki/Edit_distance)*\n",
    "\n"
   ]
  },
  {
   "cell_type": "code",
   "execution_count": 1,
   "id": "92cb4db0",
   "metadata": {},
   "outputs": [],
   "source": [
    "from Py.geneReader import geneReader\n",
    "\n",
    "filename = 'SeqFiles/chr1.GRCh38.excerpt.fasta'\n",
    "\n",
    "data = open ( filename, 'r' )\n",
    "\n",
    "reads = geneReader ( filename )\n",
    "\n",
    "data.close ()"
   ]
  },
  {
   "cell_type": "code",
   "execution_count": 1,
   "id": "1c1fdd9b",
   "metadata": {},
   "outputs": [
    {
     "data": {
      "text/plain": [
       "'#p = \"GCGTATGC\"\\n\\n#t = \"TATTGGCTATACGGTT\"\\n\\nx = \\'shake spea\\'\\n\\ny = \\'Shakespear\\'\\n\\n\\nprint( editDistance ( x, y ) )\\n\\noutput'"
      ]
     },
     "execution_count": 1,
     "metadata": {},
     "output_type": "execute_result"
    }
   ],
   "source": [
    "from Py.editDistance import editDistance\n",
    "\n",
    "\"\"\"#p = \"GCGTATGC\"\n",
    "\n",
    "#t = \"TATTGGCTATACGGTT\"\n",
    "\n",
    "x = 'shake spea'\n",
    "\n",
    "y = 'Shakespear'\n",
    "\n",
    "\n",
    "print( editDistance ( x, y ) )\n",
    "\n",
    "output\"\"\""
   ]
  },
  {
   "cell_type": "code",
   "execution_count": 4,
   "id": "f770e8b1",
   "metadata": {},
   "outputs": [
    {
     "name": "stdout",
     "output_type": "stream",
     "text": [
      "1\n",
      "CPU times: total: 0 ns\n",
      "Wall time: 0 ns\n"
     ]
    }
   ],
   "source": [
    "%%time \n",
    "\n",
    "a = 'shake spea'\n",
    "\n",
    "b = 'Shakespear'\n",
    "\n",
    "print ( editDistance ( a, b ) )"
   ]
  },
  {
   "cell_type": "code",
   "execution_count": null,
   "id": "971f5704",
   "metadata": {},
   "outputs": [],
   "source": []
  }
 ],
 "metadata": {
  "kernelspec": {
   "display_name": "Python 3 (Spyder)",
   "language": "python3",
   "name": "python3"
  },
  "language_info": {
   "codemirror_mode": {
    "name": "ipython",
    "version": 3
   },
   "file_extension": ".py",
   "mimetype": "text/x-python",
   "name": "python",
   "nbconvert_exporter": "python",
   "pygments_lexer": "ipython3",
   "version": "3.8.8"
  }
 },
 "nbformat": 4,
 "nbformat_minor": 5
}
