{
 "cells": [
  {
   "cell_type": "markdown",
   "id": "79765217",
   "metadata": {},
   "source": [
    "# Analysis with Overlaps"
   ]
  },
  {
   "cell_type": "markdown",
   "id": "01466617",
   "metadata": {},
   "source": [
    "\n",
    "\n",
    "> In computational linguistics and computer science, edit distance is a string metric, i.e. a way of quantifying how dissimilar two strings (e.g., words) are to one another, that is measured by counting the minimum number of operations required to transform one string into the other. Edit distances find applications in natural language processing, where automatic spelling correction can determine candidate corrections for a misspelled word by selecting words from a dictionary that have a low distance to the word in question. In bioinformatics, it can be used to quantify the similarity of DNA sequences, which can be viewed as strings of the letters A, C, G and T.\n",
    "\n",
    "*[Edit Distance - Wikipedia](https://en.wikipedia.org/wiki/Edit_distance)*\n",
    "\n"
   ]
  },
  {
   "cell_type": "code",
   "execution_count": 1,
   "id": "72d84c05",
   "metadata": {},
   "outputs": [],
   "source": [
    "from Py.geneReader import geneReader\n",
    "\n",
    "filename = 'SeqFiles/chr1.GRCh38.excerpt.fasta'\n",
    "\n",
    "data = open ( filename, 'r' )\n",
    "\n",
    "reads = geneReader ( filename )\n",
    "\n",
    "data.close ()"
   ]
  },
  {
   "cell_type": "code",
   "execution_count": 1,
   "id": "df8efafc",
   "metadata": {},
   "outputs": [
    {
     "data": {
      "text/plain": [
       "'#p = \"GCGTATGC\"\\n\\n#t = \"TATTGGCTATACGGTT\"\\n\\nx = \\'shake spea\\'\\n\\ny = \\'Shakespear\\'\\n\\n\\nprint( editDistance ( x, y ) )\\n\\noutput'"
      ]
     },
     "execution_count": 1,
     "metadata": {},
     "output_type": "execute_result"
    }
   ],
   "source": [
    "from Py.editDistance import editDistance\n",
    "\n",
    "\"\"\"#p = \"GCGTATGC\"\n",
    "\n",
    "#t = \"TATTGGCTATACGGTT\"\n",
    "\n",
    "x = 'shake spea'\n",
    "\n",
    "y = 'Shakespear'\n",
    "\n",
    "\n",
    "print( editDistance ( x, y ) )\n",
    "\n",
    "output\"\"\""
   ]
  },
  {
   "cell_type": "code",
   "execution_count": 4,
   "id": "af522c74",
   "metadata": {},
   "outputs": [
    {
     "name": "stdout",
     "output_type": "stream",
     "text": [
      "1\n",
      "CPU times: total: 0 ns\n",
      "Wall time: 0 ns\n"
     ]
    }
   ],
   "source": [
    "%%time \n",
    "\n",
    "a = 'shake spea'\n",
    "\n",
    "b = 'Shakespear'\n",
    "\n",
    "print ( editDistance ( a, b ) )"
   ]
  },
  {
   "cell_type": "code",
   "execution_count": null,
   "id": "7eb219e0",
   "metadata": {},
   "outputs": [],
   "source": []
  }
 ],
 "metadata": {
  "kernelspec": {
   "display_name": "Python 3 (Spyder)",
   "language": "python3",
   "name": "python3"
  },
  "language_info": {
   "codemirror_mode": {
    "name": "ipython",
    "version": 3
   },
   "file_extension": ".py",
   "mimetype": "text/x-python",
   "name": "python",
   "nbconvert_exporter": "python",
   "pygments_lexer": "ipython3",
   "version": "3.8.8"
  }
 },
 "nbformat": 4,
 "nbformat_minor": 5
}
