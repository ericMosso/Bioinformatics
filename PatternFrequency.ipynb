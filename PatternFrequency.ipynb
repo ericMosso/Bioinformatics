{
 "cells": [
  {
   "cell_type": "markdown",
   "id": "ba5afc5b",
   "metadata": {},
   "source": [
    "# Frequency of Kmers"
   ]
  },
  {
   "cell_type": "markdown",
   "id": "deb2a471",
   "metadata": {},
   "source": [
    "### Pseudocode \n",
    "##### (written by course instructors)"
   ]
  },
  {
   "cell_type": "markdown",
   "id": "263af0b3",
   "metadata": {},
   "source": [
    "FrequencyTable ( Text, k )\n",
    "\n",
    "    freqMap ← empty map\n",
    "    \n",
    "    n ← |Text|\n",
    "    \n",
    "    for i ← 0 to n − k\n",
    "    \n",
    "        Pattern ← Text ( i, k )\n",
    "        \n",
    "        if freqMap[Pattern] doesn't exist\n",
    "        \n",
    "            freqMap[Pattern] ← 1\n",
    "            \n",
    "        else\n",
    "        \n",
    "           freqMap[pattern] ← freqMap[pattern] + 1 \n",
    "            \n",
    "    return freqMap"
   ]
  },
  {
   "cell_type": "markdown",
   "id": "4705c620",
   "metadata": {
    "tags": []
   },
   "source": [
    "___"
   ]
  },
  {
   "cell_type": "markdown",
   "id": "2b2126d9",
   "metadata": {},
   "source": [
    "FrequentWords ( Text, k )\n",
    "\n",
    "    FrequentPatterns ← an empty set\n",
    "    \n",
    "    for i ← 0 to |Text| − k\n",
    "    \n",
    "        Pattern ← the k-mer Text ( i, k )\n",
    "        \n",
    "        Count(i) ← PatternCount(Text, Pattern)\n",
    "        \n",
    "    maxCount ← maximum value in array Count\n",
    "    \n",
    "    for i ← 0 to |Text| − k\n",
    "    \n",
    "        if Count(i) = maxCount\n",
    "        \n",
    "            add Text ( i, k ) to FrequentPatterns\n",
    "            \n",
    "    remove duplicates from FrequentPatterns\n",
    "    \n",
    "    return FrequentPatterns\n"
   ]
  },
  {
   "cell_type": "markdown",
   "id": "c977e17b",
   "metadata": {
    "tags": []
   },
   "source": [
    "___"
   ]
  },
  {
   "cell_type": "markdown",
   "id": "e94ffcb4",
   "metadata": {},
   "source": [
    "BetterFrequentWords ( Text, k )\n",
    "\n",
    "    FrequentPatterns ← an array of strings of length 0\n",
    "    \n",
    "    freqMap ← FrequencyTable ( Text, k )\n",
    "    \n",
    "    max ← MaxMap ( freqMap ) \n",
    "    \n",
    "    for all strings Pattern in freqMap\n",
    "    \n",
    "        if freqMap[pattern] = max\n",
    "        \n",
    "            append Pattern to frequentPatterns\n",
    "            \n",
    "    return frequentPatterns\n"
   ]
  },
  {
   "cell_type": "markdown",
   "id": "1bb14c6a",
   "metadata": {},
   "source": [
    "___"
   ]
  },
  {
   "cell_type": "markdown",
   "id": "c401a007",
   "metadata": {},
   "source": [
    "* O ( |Text|^2 · k ) --- Complexity of a naive matching algorithm (worst case scenario) \n",
    "* O ( |Text| - k + 1 ) -- Complexity of a naive matching algorithm (best case)\n",
    "\n",
    "|Text| is size of input string. k is the length of the pattern. "
   ]
  },
  {
   "cell_type": "markdown",
   "id": "5da5a750",
   "metadata": {},
   "source": [
    "### Python Code \n",
    "##### (written by me)"
   ]
  },
  {
   "cell_type": "code",
   "execution_count": 53,
   "id": "4731a74c",
   "metadata": {
    "tags": []
   },
   "outputs": [],
   "source": [
    "# Opening the text file and reading it to a variable, dnaFile.\n",
    "\n",
    "dnaFile = open ( \"dataset_2_13.txt\", \"r\" )\n",
    "\n",
    "# Saving the contents of the file to a string variable.\n",
    "\n",
    "text = dnaFile.read ()\n",
    "\n",
    "# Closing the file. \n",
    "\n",
    "dnaFile.close ()\n",
    "\n",
    "k = 7"
   ]
  },
  {
   "cell_type": "markdown",
   "id": "5ffc5df9",
   "metadata": {
    "tags": []
   },
   "source": [
    "### Pattern Frequency Dictionary"
   ]
  },
  {
   "cell_type": "code",
   "execution_count": 9,
   "id": "117f7b5f",
   "metadata": {
    "tags": []
   },
   "outputs": [],
   "source": [
    "def freqTable ( text, k ) :\n",
    "    \n",
    "    # Creates an empty dictionary.\n",
    "    \n",
    "    freqMap = {}\n",
    "    \n",
    "    # Value for the length of the entire DNA string.\n",
    "    \n",
    "    n = len ( text )\n",
    "    \n",
    "    # Iterates over a range of values from 0 to the end of the DNA string minus the length of the string plus 1 because we are starting from 0 and len \n",
    "    # gives lengths starting at 1, basically.\n",
    "    \n",
    "    for i in range ( n - k + 1 ) :\n",
    "        \n",
    "        # 'pattern' is the text from current iteration to the current iteration plus the kmer pattern length specified. \n",
    "        \n",
    "        pattern = text [ i: ( i + k ) ]\n",
    "        \n",
    "        # Where the key, aka, pattern, in the dictionary, is already there, we add 1 to its current value.\n",
    "        \n",
    "        if pattern in freqMap : \n",
    "            \n",
    "            freqMap [ pattern ] += 1\n",
    "            \n",
    "            # Where the pattern doesn't yet exist in our new dictionary, we make a new pattern entry, so it starts off with a 1 value. \n",
    "            \n",
    "        else :\n",
    "            \n",
    "            freqMap [ pattern ] = 1\n",
    "            \n",
    "    return freqMap"
   ]
  },
  {
   "cell_type": "markdown",
   "id": "e4bacdc7",
   "metadata": {
    "tags": []
   },
   "source": [
    "### Maximum K's"
   ]
  },
  {
   "cell_type": "code",
   "execution_count": 47,
   "id": "cb24ffd2",
   "metadata": {
    "tags": []
   },
   "outputs": [],
   "source": [
    "def maxMap ( freqMap ) : \n",
    "    \n",
    "    maxKmer = max ( freqMap.values() )\n",
    "    \n",
    "    return maxKmer"
   ]
  },
  {
   "cell_type": "markdown",
   "id": "ea146ab4",
   "metadata": {
    "tags": []
   },
   "source": [
    "### Most Frequently Occurring Kmers"
   ]
  },
  {
   "cell_type": "code",
   "execution_count": 50,
   "id": "fb3ec8bf",
   "metadata": {
    "tags": []
   },
   "outputs": [],
   "source": [
    "def betterFrequentWords ( text, k ) :\n",
    "\n",
    "    # Creating an empty list.\n",
    "    \n",
    "    frequentPatterns = []\n",
    "    \n",
    "    # Creates a dictionary of keys/values of all patterns of length k, along with the value of their frequences. \n",
    "\n",
    "    freqMap = freqTable ( text, k )\n",
    "    \n",
    "    # The patterns with the maximum frequency. Allows ties.\n",
    "\n",
    "    max_kmer = maxMap ( freqMap )\n",
    "    \n",
    "    # This loop adds all the DNA string patterns that have occurred the most times throughout the entire DNA length. \n",
    "\n",
    "    for pattern in freqMap :\n",
    "\n",
    "        if freqMap [ pattern ] == max_kmer : \n",
    "\n",
    "            frequentPatterns.append ( pattern ) \n",
    "\n",
    "    return frequentPatterns"
   ]
  },
  {
   "cell_type": "code",
   "execution_count": 51,
   "id": "861d23b8",
   "metadata": {},
   "outputs": [
    {
     "data": {
      "text/plain": [
       "['AATACTAAATACTATAGCTC',\n",
       " 'ATACTAAATACTATAGCTCT',\n",
       " 'AATACTATAGCTCTTAGCTC',\n",
       " 'ATACTATAGCTCTTAGCTCT',\n",
       " 'TCTGTTGTTAGGGTTGTTAG',\n",
       " 'CTGTTGTTAGGGTTGTTAGG']"
      ]
     },
     "execution_count": 51,
     "metadata": {},
     "output_type": "execute_result"
    }
   ],
   "source": [
    "betterFrequentWords( text, k )"
   ]
  },
  {
   "cell_type": "code",
   "execution_count": null,
   "id": "6370aafc",
   "metadata": {},
   "outputs": [],
   "source": []
  }
 ],
 "metadata": {
  "kernelspec": {
   "display_name": "Python 3 (Spyder)",
   "language": "python3",
   "name": "python3"
  },
  "language_info": {
   "codemirror_mode": {
    "name": "ipython",
    "version": 3
   },
   "file_extension": ".py",
   "mimetype": "text/x-python",
   "name": "python",
   "nbconvert_exporter": "python",
   "pygments_lexer": "ipython3",
   "version": "3.8.8"
  }
 },
 "nbformat": 4,
 "nbformat_minor": 5
}
