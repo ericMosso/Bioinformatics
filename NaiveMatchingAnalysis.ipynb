{
 "cells": [
  {
   "cell_type": "markdown",
   "id": "a8c256b8",
   "metadata": {},
   "source": [
    "# Naive Matching and Analysis Practice"
   ]
  },
  {
   "cell_type": "code",
   "execution_count": 13,
   "id": "f3788d02",
   "metadata": {
    "tags": []
   },
   "outputs": [],
   "source": [
    "from geneReader import geneReader\n",
    "\n",
    "from naiveAware import naiveAware\n",
    "\n",
    "from reverseComplement import reverseComplement\n",
    "\n",
    "from naive_mismatches import naive_mismatches\n",
    "\n",
    "from unawareNaive import unawareNaive"
   ]
  },
  {
   "cell_type": "markdown",
   "id": "6856aa45",
   "metadata": {},
   "source": [
    "## Processing a FastA File"
   ]
  },
  {
   "cell_type": "code",
   "execution_count": 14,
   "id": "f99a05e1",
   "metadata": {
    "tags": []
   },
   "outputs": [],
   "source": [
    "filename = 'lambda_virus.fa'\n",
    "\n",
    "data = open ( filename, 'r' )\n",
    "\n",
    "reads = geneReader ( filename )\n",
    "\n",
    "data.close ()"
   ]
  },
  {
   "cell_type": "code",
   "execution_count": 15,
   "id": "d39e96f4",
   "metadata": {
    "tags": []
   },
   "outputs": [],
   "source": [
    "pattern = 'AGGAGGTT'\n",
    "\n",
    "# the reverse complement pattern\n",
    "\n",
    "rcPattern = reverseComplement ( pattern )\n",
    "\n",
    "# strand aware naive matching of the pattern \n",
    "\n",
    "results = naiveAware ( pattern, reads )\n",
    "\n",
    "# strand aware naive matching of the reverse complement\n",
    "\n",
    "rcResults = naiveAware ( rcPattern, reads )\n",
    "\n",
    "# naive matching allowing up to 2 mismatches in the sequence reads\n",
    "\n",
    "mmResults = naive_mismatches ( pattern, reads )\n",
    "\n",
    "# the non-strand aware version of naive matching\n",
    "\n",
    "unawareResults = unawareNaive ( pattern, reads )"
   ]
  },
  {
   "cell_type": "code",
   "execution_count": 16,
   "id": "1f113079",
   "metadata": {
    "tags": []
   },
   "outputs": [
    {
     "name": "stdout",
     "output_type": "stream",
     "text": [
      "AACCTCCT\n"
     ]
    }
   ],
   "source": [
    "print ( rcPattern )"
   ]
  },
  {
   "cell_type": "code",
   "execution_count": 17,
   "id": "bf40601c",
   "metadata": {
    "tags": []
   },
   "outputs": [
    {
     "name": "stdout",
     "output_type": "stream",
     "text": [
      "offset of leftmost occurrence: 38030\n"
     ]
    }
   ],
   "source": [
    "print ( 'offset of leftmost occurrence: %d' % min ( results ) )"
   ]
  },
  {
   "cell_type": "code",
   "execution_count": 18,
   "id": "47c37152",
   "metadata": {
    "tags": []
   },
   "outputs": [
    {
     "name": "stdout",
     "output_type": "stream",
     "text": [
      "offset of leftmost rc occurrence: 38030\n"
     ]
    }
   ],
   "source": [
    "print ( 'offset of leftmost rc occurrence: %d' % min ( rcResults ) )"
   ]
  },
  {
   "cell_type": "code",
   "execution_count": 19,
   "id": "f669ada2",
   "metadata": {
    "tags": []
   },
   "outputs": [
    {
     "name": "stdout",
     "output_type": "stream",
     "text": [
      "occurrences: 2\n"
     ]
    }
   ],
   "source": [
    "print ( 'occurrences: %d' % len ( results ) )"
   ]
  },
  {
   "cell_type": "code",
   "execution_count": 20,
   "id": "e2b21806",
   "metadata": {
    "tags": []
   },
   "outputs": [
    {
     "name": "stdout",
     "output_type": "stream",
     "text": [
      "rc occurrences: 2\n"
     ]
    }
   ],
   "source": [
    "print ( 'rc occurrences: %d' % len ( rcResults ) )"
   ]
  },
  {
   "cell_type": "code",
   "execution_count": 21,
   "id": "d6c46454",
   "metadata": {},
   "outputs": [
    {
     "name": "stdout",
     "output_type": "stream",
     "text": [
      "offset of lefmost occurence with up to 2 mismatches : 49\n"
     ]
    }
   ],
   "source": [
    "print ( 'offset of lefmost occurence with up to 2 mismatches : %d' % min ( mmResults ) )"
   ]
  },
  {
   "cell_type": "code",
   "execution_count": 22,
   "id": "d6037ba5",
   "metadata": {
    "tags": []
   },
   "outputs": [
    {
     "name": "stdout",
     "output_type": "stream",
     "text": [
      "mm occurrences: 215\n"
     ]
    }
   ],
   "source": [
    "print ( 'mm occurrences: %d' % len ( mmResults ) )"
   ]
  },
  {
   "cell_type": "code",
   "execution_count": 23,
   "id": "9784cc29",
   "metadata": {
    "tags": []
   },
   "outputs": [
    {
     "name": "stdout",
     "output_type": "stream",
     "text": [
      "offset of leftmost unware occurrence: 38030\n"
     ]
    }
   ],
   "source": [
    "print ( 'offset of leftmost unware occurrence: %d' % min ( unawareResults ) )"
   ]
  },
  {
   "cell_type": "code",
   "execution_count": 24,
   "id": "0c476da9",
   "metadata": {
    "tags": []
   },
   "outputs": [
    {
     "name": "stdout",
     "output_type": "stream",
     "text": [
      "unaware occurrences: 1\n"
     ]
    }
   ],
   "source": [
    "print ( 'unaware occurrences: %d' % len ( unawareResults ) )"
   ]
  },
  {
   "cell_type": "markdown",
   "id": "1f9ebd4c",
   "metadata": {},
   "source": [
    "## Processing a FastQ File"
   ]
  },
  {
   "cell_type": "code",
   "execution_count": 28,
   "id": "7e22e19f",
   "metadata": {},
   "outputs": [],
   "source": [
    "from geneReader_Q import geneReader_Q\n",
    "\n",
    "filename = 'ERR037900_1.first1000.fastq'\n",
    "\n",
    "data = open ( filename, 'r' )\n",
    "\n",
    "reads = geneReader_Q ( filename )\n",
    "\n",
    "data.close ()"
   ]
  },
  {
   "cell_type": "code",
   "execution_count": 29,
   "id": "50e8c34f",
   "metadata": {},
   "outputs": [],
   "source": [
    "import collections\n",
    "\n",
    "from collections import Counter\n",
    "\n",
    "# My code for reading the fast_Q file, and then determining which read cycle is bad based on position of the N's.\n",
    "\n",
    "readLines = geneReader_Q ( filename )\n",
    "\n",
    "nPos = []\n",
    "\n",
    "letter = \"N\"\n",
    "\n",
    "# Loop that will create a tally of how many times each numerical index with a letter N occurs.\n",
    "\n",
    "for i in readLines : \n",
    "                    \n",
    "    num = i.rfind ( letter )\n",
    "\n",
    "    nPos.append ( num )"
   ]
  },
  {
   "cell_type": "markdown",
   "id": "573bf483",
   "metadata": {},
   "source": [
    "### Analysis of reads to discover the faulty cycle."
   ]
  },
  {
   "cell_type": "code",
   "execution_count": 30,
   "id": "687231f2",
   "metadata": {},
   "outputs": [
    {
     "name": "stdout",
     "output_type": "stream",
     "text": [
      "Counter({'C': 29665, 'A': 24057, 'G': 22888, 'T': 22476, '\\n': 1000, 'N': 914})\n",
      "Counter({66: 901, -1: 97, 91: 1, 92: 1})\n",
      "dict_keys([66, 91, -1, 92])\n",
      "dict_values([901, 1, 97, 1])\n",
      "101\n"
     ]
    },
    {
     "data": {
      "text/plain": [
       "0      66\n",
       "1      91\n",
       "2      66\n",
       "3      66\n",
       "4      66\n",
       "       ..\n",
       "995    66\n",
       "996    66\n",
       "997    66\n",
       "998    66\n",
       "999    66\n",
       "Length: 1000, dtype: int64"
      ]
     },
     "execution_count": 30,
     "metadata": {},
     "output_type": "execute_result"
    }
   ],
   "source": [
    "import pandas as pd\n",
    "\n",
    "# Converting the list to a pandas series array. \n",
    "\n",
    "nPos2 = pd.Series ( nPos )\n",
    "\n",
    "# Counting the unique values from the \n",
    "\n",
    "count = collections.Counter ()\n",
    "\n",
    "# Loop to update counts line by line from the FastQ reads. \n",
    "\n",
    "for read in readLines:\n",
    "    \n",
    "    count.update ( read )\n",
    "    \n",
    "print ( count )\n",
    "\n",
    "print ( Counter ( nPos2 ) ) \n",
    "\n",
    "print ( Counter ( nPos2 ).keys () )\n",
    "\n",
    "print ( Counter ( nPos2 ).values () )\n",
    "\n",
    "print ( len ( readLines [ 0 ] ) )\n",
    "\n",
    "nPos2"
   ]
  },
  {
   "cell_type": "markdown",
   "id": "59bd72cc",
   "metadata": {},
   "source": [
    "_______\n",
    "\n",
    "### Conclusion: \n",
    "\n",
    "The faulty cycle very likely occurs at cycle 66 / 100 in the sequencer. The analysis shows that over 900 out of 1000 total lines contain an not identifiable nucleotide at cycle 66. "
   ]
  },
  {
   "cell_type": "code",
   "execution_count": null,
   "id": "5a7145f2",
   "metadata": {},
   "outputs": [],
   "source": []
  }
 ],
 "metadata": {
  "kernelspec": {
   "display_name": "Python 3 (Spyder)",
   "language": "python3",
   "name": "python3"
  },
  "language_info": {
   "codemirror_mode": {
    "name": "ipython",
    "version": 3
   },
   "file_extension": ".py",
   "mimetype": "text/x-python",
   "name": "python",
   "nbconvert_exporter": "python",
   "pygments_lexer": "ipython3",
   "version": "3.10.9"
  }
 },
 "nbformat": 4,
 "nbformat_minor": 5
}
