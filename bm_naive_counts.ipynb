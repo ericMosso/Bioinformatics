{
 "cells": [
  {
   "cell_type": "code",
   "execution_count": null,
   "id": "a19f1b60-3741-42b3-9001-8788b3fd2dc0",
   "metadata": {},
   "outputs": [],
   "source": [
    "\n"
   ]
  },
  {
   "cell_type": "markdown",
   "id": "70d09a0c-5e26-4816-ac59-c3e76efd8a79",
   "metadata": {},
   "source": [
    "Third, implement versions of the naive exact matching and Boyer-Moore algorithms that additionally \n",
    "count and return \n",
    "\n",
    "- (a) the number of character comparisons performed and\n",
    "\n",
    "- (b) the number of alignments tried. \n",
    "\n",
    "Roughly speaking, these measure how much work the two different algorithms are doing.\n",
    "\n"
   ]
  },
  {
   "cell_type": "code",
   "execution_count": null,
   "id": "e5821ef8-d4b7-4075-9e2c-29a426bdd8c8",
   "metadata": {},
   "outputs": [],
   "source": [
    "#from bm_with_counts import boyer_moore_with_counts\n",
    "\n",
    "from bm_preproc import BoyerMoore\n",
    "\n",
    "from bm_with_counts import boyer_moore_with_counts\n",
    "\n",
    "from geneReader import geneReader"
   ]
  },
  {
   "cell_type": "code",
   "execution_count": null,
   "id": "96b5dbfa-04c0-48a2-b46f-8088c083391b",
   "metadata": {},
   "outputs": [],
   "source": [
    "filename = 'chr1.GRCh38.excerpt.fasta'\n",
    "\n",
    "data = open ( filename, 'r' )\n",
    "\n",
    "reads = geneReader ( filename )\n",
    "\n",
    "data.close ()"
   ]
  },
  {
   "cell_type": "code",
   "execution_count": null,
   "id": "1b83750c-a6d4-460b-93ed-a3c18d0df72e",
   "metadata": {},
   "outputs": [],
   "source": [
    "t = reads\n",
    "p = 'GGCGCGGTGGCTCACGCCTGTAATCCCAGCACTTTGGGAGGCCGAGG'\n",
    "uppercase_alphabet = 'ABCDEFGHIJKLMNOPQRSTUVWXYZ'\n",
    "\n",
    "p_bm = BoyerMoore ( p, uppercase_alphabet )\n",
    "\n",
    "print ( boyer_moore_with_counts ( p, p_bm, t ) )\n"
   ]
  },
  {
   "cell_type": "code",
   "execution_count": null,
   "id": "df56e19b-197c-499f-808e-a47082629d3f",
   "metadata": {},
   "outputs": [],
   "source": [
    "from naive_with_counts import naive_with_counts\n",
    "\n",
    "from geneReader import geneReader"
   ]
  },
  {
   "cell_type": "code",
   "execution_count": null,
   "id": "4aa7e13c-4655-46f3-8feb-da0ee617eb59",
   "metadata": {},
   "outputs": [],
   "source": [
    "filename = 'chr1.GRCh38.excerpt.fasta'\n",
    "\n",
    "data = open ( filename, 'r' )\n",
    "\n",
    "reads = geneReader ( filename )\n",
    "\n",
    "data.close ()"
   ]
  },
  {
   "cell_type": "code",
   "execution_count": null,
   "id": "ea5fb8de-46c7-403e-83c5-12a32c5b8c4f",
   "metadata": {},
   "outputs": [],
   "source": [
    "t = reads\n",
    "p = 'GGCGCGGTGGCTCACGCCTGTAATCCCAGCACTTTGGGAGGCCGAGG'\n",
    "\n",
    "print ( naive_with_counts ( p, t ) )"
   ]
  },
  {
   "cell_type": "code",
   "execution_count": null,
   "id": "d8779612-cd41-4166-aa88-f7a060f3d44f",
   "metadata": {},
   "outputs": [],
   "source": []
  },
  {
   "cell_type": "code",
   "execution_count": 2,
   "id": "ac2d8383-f88d-4526-a63a-34c35f78847f",
   "metadata": {},
   "outputs": [],
   "source": [
    "from geneReader import geneReader\n",
    "\n",
    "filename = 'chr1.GRCh38.excerpt.fasta'\n",
    "\n",
    "data = open ( filename, 'r' )\n",
    "\n",
    "reads = geneReader ( filename )\n",
    "\n",
    "data.close ()\n",
    "\n",
    "from kmer_index import Index\n",
    "\n",
    "from naive_mismatches import naive_mismatches\n",
    "\n",
    "from approximate_match import approximate_match\n",
    "\n",
    "from approximate_match_idx import approximate_match_idx"
   ]
  },
  {
   "cell_type": "code",
   "execution_count": 3,
   "id": "6f904f20-d144-4fbd-86d7-904c1300eae8",
   "metadata": {},
   "outputs": [
    {
     "data": {
      "text/plain": [
       "19"
      ]
     },
     "execution_count": 3,
     "metadata": {},
     "output_type": "execute_result"
    }
   ],
   "source": [
    "p = 'GGCGCGGTGGCTCACGCCTGTAAT'\n",
    "\n",
    "len_p = len ( p )  # 24\n",
    "\n",
    "# 8-mer index\n",
    "\n",
    "k = 8\n",
    "\n",
    "# t, k, p \n",
    "\n",
    "t = reads\n",
    "    \n",
    "len (naive_mismatches ( p, t ) )"
   ]
  },
  {
   "cell_type": "code",
   "execution_count": 4,
   "id": "bb51efb8-e8db-468d-b3ee-bf9780ce711a",
   "metadata": {},
   "outputs": [
    {
     "data": {
      "text/plain": [
       "([480642,\n",
       "  651523,\n",
       "  22532,\n",
       "  273669,\n",
       "  187655,\n",
       "  83720,\n",
       "  681737,\n",
       "  717706,\n",
       "  674056,\n",
       "  185996,\n",
       "  551827,\n",
       "  282004,\n",
       "  83863,\n",
       "  262042,\n",
       "  635931,\n",
       "  471966,\n",
       "  84641,\n",
       "  160162,\n",
       "  67363,\n",
       "  572196,\n",
       "  84775,\n",
       "  760489,\n",
       "  18733,\n",
       "  322735,\n",
       "  621491,\n",
       "  719418,\n",
       "  454332,\n",
       "  588478,\n",
       "  724927,\n",
       "  205381,\n",
       "  523085,\n",
       "  108110,\n",
       "  175310,\n",
       "  707151,\n",
       "  251090,\n",
       "  613459,\n",
       "  595541,\n",
       "  657496,\n",
       "  160729,\n",
       "  56922,\n",
       "  23003,\n",
       "  191452,\n",
       "  251224,\n",
       "  551134,\n",
       "  19166,\n",
       "  646488,\n",
       "  747359,\n",
       "  23138,\n",
       "  128994,\n",
       "  421221,\n",
       "  147558,\n",
       "  364263,\n",
       "  747495,\n",
       "  364396,\n",
       "  465647,\n",
       "  632305,\n",
       "  429299,\n",
       "  480501,\n",
       "  43127,\n",
       "  746620,\n",
       "  22397],\n",
       " 90)"
      ]
     },
     "execution_count": 4,
     "metadata": {},
     "output_type": "execute_result"
    }
   ],
   "source": [
    "hit_num = approximate_match_idx ( p, t, 2 )\n",
    "approximate_match_idx ( p, t, 2 )"
   ]
  },
  {
   "cell_type": "code",
   "execution_count": null,
   "id": "df223329-823e-4bd2-8065-f4b1730a4a8f",
   "metadata": {},
   "outputs": [],
   "source": []
  },
  {
   "cell_type": "code",
   "execution_count": null,
   "id": "d074556d-6c53-4113-92a3-f1e60221aec0",
   "metadata": {},
   "outputs": [],
   "source": []
  }
 ],
 "metadata": {
  "kernelspec": {
   "display_name": "Python 3 (ipykernel)",
   "language": "python",
   "name": "python3"
  },
  "language_info": {
   "codemirror_mode": {
    "name": "ipython",
    "version": 3
   },
   "file_extension": ".py",
   "mimetype": "text/x-python",
   "name": "python",
   "nbconvert_exporter": "python",
   "pygments_lexer": "ipython3",
   "version": "3.8.8"
  }
 },
 "nbformat": 4,
 "nbformat_minor": 5
}
