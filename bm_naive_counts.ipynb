{
 "cells": [
  {
   "cell_type": "markdown",
   "id": "aa96ade6",
   "metadata": {},
   "source": [
    "# Naive, Approximate, and Boyer Moore Matching Comparisons"
   ]
  },
  {
   "cell_type": "markdown",
   "id": "08754214",
   "metadata": {},
   "source": [
    "Implementing versions of the naive exact matching and Boyer-Moore algorithms that also \n",
    "count and return \n",
    "\n",
    "-  character comparisons performed\n",
    "\n",
    "-  alignments tried\n",
    "\n",
    "We will consider these measures as approximately how efficient the algorithms are."
   ]
  },
  {
   "cell_type": "markdown",
   "id": "3cf00491",
   "metadata": {},
   "source": [
    "---\n",
    "### Boyer Moore with Pattern Preprocessing and Counts"
   ]
  },
  {
   "cell_type": "code",
   "execution_count": 1,
   "id": "a14dc774",
   "metadata": {},
   "outputs": [],
   "source": [
    "from PyScripts.bm_preproc import BoyerMoore\n",
    "\n",
    "from PyScripts.bm_with_counts import boyer_moore_with_counts\n",
    "\n",
    "from PyScripts.geneReader import geneReader"
   ]
  },
  {
   "cell_type": "code",
   "execution_count": 2,
   "id": "69e60da6",
   "metadata": {},
   "outputs": [],
   "source": [
    "filename = 'SeqFiles/chr1.GRCh38.excerpt.fasta'\n",
    "\n",
    "data = open ( filename, 'r' )\n",
    "\n",
    "reads = geneReader ( filename )\n",
    "\n",
    "data.close ()"
   ]
  },
  {
   "cell_type": "code",
   "execution_count": 3,
   "id": "43b02300",
   "metadata": {},
   "outputs": [
    {
     "name": "stdout",
     "output_type": "stream",
     "text": [
      "Boyer Moore occurrences: [56922]\n",
      "Boyer Moore alignments: 127974\n",
      "Boyer Moore character comparisons: 165191\n"
     ]
    }
   ],
   "source": [
    "t = reads\n",
    "\n",
    "p = 'GGCGCGGTGGCTCACGCCTGTAATCCCAGCACTTTGGGAGGCCGAGG'\n",
    "\n",
    "uppercase_alphabet = 'ABCDEFGHIJKLMNOPQRSTUVWXYZ'\n",
    "\n",
    "p_bm = BoyerMoore ( p, uppercase_alphabet )\n",
    "\n",
    "print ( 'Boyer Moore occurrences:', boyer_moore_with_counts ( p, p_bm, t ) [ 0 ] )\n",
    "\n",
    "print ( 'Boyer Moore alignments:', boyer_moore_with_counts ( p, p_bm, t ) [ 1 ] )\n",
    "\n",
    "print ( 'Boyer Moore character comparisons:', boyer_moore_with_counts ( p, p_bm, t ) [ 2 ] )"
   ]
  },
  {
   "cell_type": "markdown",
   "id": "3719836b",
   "metadata": {},
   "source": [
    "---\n",
    "### Naive Exact Matching Counts"
   ]
  },
  {
   "cell_type": "code",
   "execution_count": 4,
   "id": "7e681079",
   "metadata": {},
   "outputs": [],
   "source": [
    "from PyScripts.naive_with_counts import naive_with_counts\n",
    "\n",
    "from PyScripts.geneReader import geneReader"
   ]
  },
  {
   "cell_type": "code",
   "execution_count": 5,
   "id": "609997a4",
   "metadata": {},
   "outputs": [],
   "source": [
    "filename = 'SeqFiles/chr1.GRCh38.excerpt.fasta'\n",
    "\n",
    "data = open ( filename, 'r' )\n",
    "\n",
    "reads = geneReader ( filename )\n",
    "\n",
    "data.close ()"
   ]
  },
  {
   "cell_type": "code",
   "execution_count": 6,
   "id": "5db613f2",
   "metadata": {},
   "outputs": [
    {
     "name": "stdout",
     "output_type": "stream",
     "text": [
      "Naive exact matching occurrences: [56922]\n",
      "Naive exact matching alignments: 799954\n",
      "Naive exact matching character comparisons: 984143\n"
     ]
    }
   ],
   "source": [
    "t = reads\n",
    "\n",
    "p = 'GGCGCGGTGGCTCACGCCTGTAATCCCAGCACTTTGGGAGGCCGAGG'\n",
    "\n",
    "print ( 'Naive exact matching occurrences:', naive_with_counts ( p, t ) [ 0 ] )\n",
    "\n",
    "print ( 'Naive exact matching alignments:', naive_with_counts ( p, t ) [ 1 ] )\n",
    "\n",
    "print ( 'Naive exact matching character comparisons:', naive_with_counts ( p, t ) [ 2 ] )"
   ]
  },
  {
   "cell_type": "markdown",
   "id": "dd0f50fa",
   "metadata": {},
   "source": [
    "---\n",
    "### Naive Allowing Up to Two Mismatches"
   ]
  },
  {
   "cell_type": "code",
   "execution_count": 7,
   "id": "543e76cf",
   "metadata": {},
   "outputs": [],
   "source": [
    "from PyScripts.naive_mismatches import naive_mismatches\n",
    "\n",
    "from PyScripts.geneReader import geneReader"
   ]
  },
  {
   "cell_type": "code",
   "execution_count": 8,
   "id": "0a8b6ebc",
   "metadata": {
    "tags": []
   },
   "outputs": [],
   "source": [
    "filename = 'SeqFiles/chr1.GRCh38.excerpt.fasta'\n",
    "\n",
    "data = open ( filename, 'r' )\n",
    "\n",
    "reads = geneReader ( filename )\n",
    "\n",
    "data.close ()"
   ]
  },
  {
   "cell_type": "code",
   "execution_count": 9,
   "id": "4e822571",
   "metadata": {
    "tags": []
   },
   "outputs": [
    {
     "name": "stdout",
     "output_type": "stream",
     "text": [
      "Occurences using naive matching with up to 2 mismatches: 19\n"
     ]
    }
   ],
   "source": [
    "p = 'GGCGCGGTGGCTCACGCCTGTAAT'\n",
    "\n",
    "t = reads\n",
    "    \n",
    "print ( 'Occurences using naive matching with up to 2 mismatches:', len ( naive_mismatches ( p, t ) ) )"
   ]
  },
  {
   "cell_type": "markdown",
   "id": "2eb1d60f",
   "metadata": {},
   "source": [
    "---\n",
    "\n",
    "### Approximate Matching an Indexed Object, Allowing 2 Mismatches"
   ]
  },
  {
   "cell_type": "code",
   "execution_count": 10,
   "id": "a040fa19",
   "metadata": {
    "tags": []
   },
   "outputs": [],
   "source": [
    "from PyScripts.kmer_index import Index\n",
    "\n",
    "from PyScripts.approximate_match_idx import approximate_match_idx\n",
    "\n",
    "from PyScripts.geneReader import geneReader"
   ]
  },
  {
   "cell_type": "code",
   "execution_count": 11,
   "id": "de17e998",
   "metadata": {
    "tags": []
   },
   "outputs": [],
   "source": [
    "filename = 'SeqFiles/chr1.GRCh38.excerpt.fasta'\n",
    "\n",
    "data = open ( filename, 'r' )\n",
    "\n",
    "reads = geneReader ( filename )\n",
    "\n",
    "data.close ()"
   ]
  },
  {
   "cell_type": "code",
   "execution_count": 12,
   "id": "cd38cf16",
   "metadata": {
    "tags": []
   },
   "outputs": [
    {
     "name": "stdout",
     "output_type": "stream",
     "text": [
      "Approximate Matches of an Indexed Object: 90\n"
     ]
    }
   ],
   "source": [
    "p = 'GGCGCGGTGGCTCACGCCTGTAAT'\n",
    "\n",
    "t = reads\n",
    "\n",
    "print ( 'Approximate Matches of an Indexed Object:', approximate_match_idx ( p, t, 2 ) )"
   ]
  },
  {
   "cell_type": "markdown",
   "id": "d1e68ad7",
   "metadata": {},
   "source": [
    "---\n",
    "### Approximate Matching with a Boyer Moore Object, Up to 2 Mismatches"
   ]
  },
  {
   "cell_type": "code",
   "execution_count": 13,
   "id": "3e6bbeda",
   "metadata": {
    "tags": []
   },
   "outputs": [],
   "source": [
    "from PyScripts.approximate_match import approximate_match\n",
    "\n",
    "from PyScripts.geneReader import geneReader"
   ]
  },
  {
   "cell_type": "code",
   "execution_count": 14,
   "id": "f47951f6",
   "metadata": {
    "tags": []
   },
   "outputs": [],
   "source": [
    "filename = 'SeqFiles/chr1.GRCh38.excerpt.fasta'\n",
    "\n",
    "data = open ( filename, 'r' )\n",
    "\n",
    "reads = geneReader ( filename )\n",
    "\n",
    "data.close ()"
   ]
  },
  {
   "cell_type": "code",
   "execution_count": 15,
   "id": "abec1b85",
   "metadata": {
    "tags": []
   },
   "outputs": [
    {
     "name": "stdout",
     "output_type": "stream",
     "text": [
      "Matches using Approximate Matching with Boyer Moore Object: 61\n"
     ]
    }
   ],
   "source": [
    "p = 'GGCGCGGTGGCTCACGCCTGTAAT'\n",
    "\n",
    "t = reads\n",
    "\n",
    "print ( 'Matches using Approximate Matching with Boyer Moore Object:', len ( approximate_match ( p, t, 2 ) ) )"
   ]
  },
  {
   "cell_type": "markdown",
   "id": "d553a051",
   "metadata": {
    "tags": []
   },
   "source": [
    "---"
   ]
  },
  {
   "cell_type": "markdown",
   "id": "44014657",
   "metadata": {},
   "source": [
    "### Occurences Using a SubseqIndex Object, Up to 2 Mismatches"
   ]
  },
  {
   "cell_type": "code",
   "execution_count": 16,
   "id": "7e669d1a",
   "metadata": {},
   "outputs": [],
   "source": [
    "from PyScripts.subSequenceIdx import SubSeqIndex\n",
    "\n",
    "from PyScripts.approximate_match_subseq import approximate_match_subseq\n",
    "\n",
    "from PyScripts.geneReader import geneReader"
   ]
  },
  {
   "cell_type": "code",
   "execution_count": 17,
   "id": "d9d25fa0",
   "metadata": {},
   "outputs": [],
   "source": [
    "filename = 'SeqFiles/chr1.GRCh38.excerpt.fasta'\n",
    "\n",
    "data = open ( filename, 'r' )\n",
    "\n",
    "reads = geneReader ( filename )\n",
    "\n",
    "data.close ()"
   ]
  },
  {
   "cell_type": "code",
   "execution_count": 18,
   "id": "161ac899",
   "metadata": {
    "tags": []
   },
   "outputs": [
    {
     "name": "stdout",
     "output_type": "stream",
     "text": [
      "Matches with an indexed object using subsequences: 79\n"
     ]
    }
   ],
   "source": [
    "p = 'GGCGCGGTGGCTCACGCCTGTAAT'\n",
    "\n",
    "t = reads\n",
    "\n",
    "n = 2\n",
    "\n",
    "ival = 3\n",
    "\n",
    "print ( 'Matches with an indexed object using subsequences:', approximate_match_subseq ( p, t, n, ival ) [ 1 ] )"
   ]
  }
 ],
 "metadata": {
  "kernelspec": {
   "display_name": "Python 3 (Spyder)",
   "language": "python3",
   "name": "python3"
  },
  "language_info": {
   "codemirror_mode": {
    "name": "ipython",
    "version": 3
   },
   "file_extension": ".py",
   "mimetype": "text/x-python",
   "name": "python",
   "nbconvert_exporter": "python",
   "pygments_lexer": "ipython3",
   "version": "3.8.8"
  }
 },
 "nbformat": 4,
 "nbformat_minor": 5
}
