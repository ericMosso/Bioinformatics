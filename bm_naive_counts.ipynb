{
 "cells": [
  {
   "cell_type": "markdown",
   "id": "4618eea5",
   "metadata": {},
   "source": [
    "# Matching Comparisons"
   ]
  },
  {
   "cell_type": "markdown",
   "id": "73ac134b",
   "metadata": {},
   "source": [
    "Implementing versions of the naive exact matching and Boyer-Moore algorithms that also \n",
    "count and return \n",
    "\n",
    "-  character comparisons performed\n",
    "\n",
    "-  alignments tried\n",
    "\n",
    "We will consider these measures as approximately how efficient the algorithms are."
   ]
  },
  {
   "cell_type": "markdown",
   "id": "cc7c1501",
   "metadata": {},
   "source": [
    "---\n",
    "### Boyer Moore with Pattern Preprocessing and Counts"
   ]
  },
  {
   "cell_type": "code",
   "execution_count": 1,
   "id": "abb977af",
   "metadata": {},
   "outputs": [],
   "source": [
    "from PyScripts.bm_preproc import BoyerMoore\n",
    "\n",
    "from PyScripts.bm_with_counts import boyer_moore_with_counts\n",
    "\n",
    "from PyScripts.geneReader import geneReader"
   ]
  },
  {
   "cell_type": "code",
   "execution_count": 2,
   "id": "bb628c82",
   "metadata": {},
   "outputs": [],
   "source": [
    "filename = 'SeqFiles/chr1.GRCh38.excerpt.fasta'\n",
    "\n",
    "data = open ( filename, 'r' )\n",
    "\n",
    "reads = geneReader ( filename )\n",
    "\n",
    "data.close ()"
   ]
  },
  {
   "cell_type": "code",
   "execution_count": 3,
   "id": "267ee9ee",
   "metadata": {},
   "outputs": [
    {
     "name": "stdout",
     "output_type": "stream",
     "text": [
      "Boyer Moore occurrences: [56922]\n",
      "Boyer Moore alignments: 127974\n",
      "Boyer Moore character comparisons: 165191\n"
     ]
    }
   ],
   "source": [
    "t = reads\n",
    "\n",
    "p = 'GGCGCGGTGGCTCACGCCTGTAATCCCAGCACTTTGGGAGGCCGAGG'\n",
    "\n",
    "uppercase_alphabet = 'ABCDEFGHIJKLMNOPQRSTUVWXYZ'\n",
    "\n",
    "p_bm = BoyerMoore ( p, uppercase_alphabet )\n",
    "\n",
    "print ( 'Boyer Moore occurrences:', boyer_moore_with_counts ( p, p_bm, t ) [ 0 ] )\n",
    "\n",
    "print ( 'Boyer Moore alignments:', boyer_moore_with_counts ( p, p_bm, t ) [ 1 ] )\n",
    "\n",
    "print ( 'Boyer Moore character comparisons:', boyer_moore_with_counts ( p, p_bm, t ) [ 2 ] )"
   ]
  },
  {
   "cell_type": "markdown",
   "id": "797d458f",
   "metadata": {},
   "source": [
    "---\n",
    "### Naive Exact Matching Counts"
   ]
  },
  {
   "cell_type": "code",
   "execution_count": 4,
   "id": "5a9bf613",
   "metadata": {},
   "outputs": [],
   "source": [
    "from Py.naive_with_counts import naive_with_counts\n",
    "\n",
    "from Py.geneReader import geneReader"
   ]
  },
  {
   "cell_type": "code",
   "execution_count": 5,
   "id": "bd94ec82",
   "metadata": {},
   "outputs": [],
   "source": [
    "filename = 'SeqFiles/chr1.GRCh38.excerpt.fasta'\n",
    "\n",
    "data = open ( filename, 'r' )\n",
    "\n",
    "reads = geneReader ( filename )\n",
    "\n",
    "data.close ()"
   ]
  },
  {
   "cell_type": "code",
   "execution_count": 6,
   "id": "401bb9c6",
   "metadata": {},
   "outputs": [
    {
     "name": "stdout",
     "output_type": "stream",
     "text": [
      "Naive exact matching occurrences: [56922]\n",
      "Naive exact matching alignments: 799954\n",
      "Naive exact matching character comparisons: 984143\n"
     ]
    }
   ],
   "source": [
    "t = reads\n",
    "\n",
    "p = 'GGCGCGGTGGCTCACGCCTGTAATCCCAGCACTTTGGGAGGCCGAGG'\n",
    "\n",
    "print ( 'Naive exact matching occurrences:', naive_with_counts ( p, t ) [ 0 ] )\n",
    "\n",
    "print ( 'Naive exact matching alignments:', naive_with_counts ( p, t ) [ 1 ] )\n",
    "\n",
    "print ( 'Naive exact matching character comparisons:', naive_with_counts ( p, t ) [ 2 ] )"
   ]
  },
  {
   "cell_type": "markdown",
   "id": "b8990e44",
   "metadata": {},
   "source": [
    "---\n",
    "### Naive Allowing Up to Two Mismatches"
   ]
  },
  {
   "cell_type": "code",
   "execution_count": 7,
   "id": "9cee5bb8",
   "metadata": {},
   "outputs": [],
   "source": [
    "from Py.naive_mismatches import naive_mismatches\n",
    "\n",
    "from Py.geneReader import geneReader"
   ]
  },
  {
   "cell_type": "code",
   "execution_count": 8,
   "id": "cf5838b1",
   "metadata": {
    "tags": []
   },
   "outputs": [],
   "source": [
    "filename = 'SeqFiles/chr1.GRCh38.excerpt.fasta'\n",
    "\n",
    "data = open ( filename, 'r' )\n",
    "\n",
    "reads = geneReader ( filename )\n",
    "\n",
    "data.close ()"
   ]
  },
  {
   "cell_type": "code",
   "execution_count": 9,
   "id": "7e047211",
   "metadata": {
    "tags": []
   },
   "outputs": [
    {
     "name": "stdout",
     "output_type": "stream",
     "text": [
      "Occurences using naive matching with up to 2 mismatches: 19\n"
     ]
    }
   ],
   "source": [
    "p = 'GGCGCGGTGGCTCACGCCTGTAAT'\n",
    "\n",
    "t = reads\n",
    "    \n",
    "print ( 'Occurences using naive matching with up to 2 mismatches:', len ( naive_mismatches ( p, t ) ) )"
   ]
  },
  {
   "cell_type": "markdown",
   "id": "3b0b55fb",
   "metadata": {},
   "source": [
    "---\n",
    "\n",
    "### Approximate Matching an Indexed Object, Allowing 2 Mismatches"
   ]
  },
  {
   "cell_type": "code",
   "execution_count": 1,
   "id": "2272dae7",
   "metadata": {
    "tags": []
   },
   "outputs": [],
   "source": [
    "from Py.kmer_index import Index\n",
    "\n",
    "from Py.approximate_match_idx import approximate_match_idx\n",
    "\n",
    "from Py.geneReader import geneReader"
   ]
  },
  {
   "cell_type": "code",
   "execution_count": 2,
   "id": "57562962",
   "metadata": {
    "tags": []
   },
   "outputs": [],
   "source": [
    "filename = 'SeqFiles/chr1.GRCh38.excerpt.fasta'\n",
    "\n",
    "data = open ( filename, 'r' )\n",
    "\n",
    "reads = geneReader ( filename )\n",
    "\n",
    "data.close ()"
   ]
  },
  {
   "cell_type": "code",
   "execution_count": 3,
   "id": "ff5eda69",
   "metadata": {
    "tags": []
   },
   "outputs": [
    {
     "name": "stdout",
     "output_type": "stream",
     "text": [
      "Approximate Matches of an Indexed Object: 90\n"
     ]
    }
   ],
   "source": [
    "p = 'GGCGCGGTGGCTCACGCCTGTAAT'\n",
    "\n",
    "t = reads\n",
    "\n",
    "print ( 'Approximate Matches of an Indexed Object:', approximate_match_idx ( p, t, 2 ) )"
   ]
  },
  {
   "cell_type": "markdown",
   "id": "4d8dfd08",
   "metadata": {},
   "source": [
    "---\n",
    "### Approximate Matching with a Boyer Moore Object, Up to 2 Mismatches"
   ]
  },
  {
   "cell_type": "code",
   "execution_count": 13,
   "id": "559200b2",
   "metadata": {
    "tags": []
   },
   "outputs": [],
   "source": [
    "from Py.approximate_match import approximate_match\n",
    "\n",
    "from Py.geneReader import geneReader"
   ]
  },
  {
   "cell_type": "code",
   "execution_count": 14,
   "id": "766a3bc5",
   "metadata": {
    "tags": []
   },
   "outputs": [],
   "source": [
    "filename = 'SeqFiles/chr1.GRCh38.excerpt.fasta'\n",
    "\n",
    "data = open ( filename, 'r' )\n",
    "\n",
    "reads = geneReader ( filename )\n",
    "\n",
    "data.close ()"
   ]
  },
  {
   "cell_type": "code",
   "execution_count": 15,
   "id": "7dfe26b5",
   "metadata": {
    "tags": []
   },
   "outputs": [
    {
     "name": "stdout",
     "output_type": "stream",
     "text": [
      "Matches using Approximate Matching with Boyer Moore Object: 61\n"
     ]
    }
   ],
   "source": [
    "p = 'GGCGCGGTGGCTCACGCCTGTAAT'\n",
    "\n",
    "t = reads\n",
    "\n",
    "print ( 'Matches using Approximate Matching with Boyer Moore Object:', len ( approximate_match ( p, t, 2 ) ) )"
   ]
  },
  {
   "cell_type": "markdown",
   "id": "e323d550",
   "metadata": {
    "tags": []
   },
   "source": [
    "---"
   ]
  },
  {
   "cell_type": "markdown",
   "id": "43550764",
   "metadata": {},
   "source": [
    "### Occurences Using a SubseqIndex Object, Up to 2 Mismatches"
   ]
  },
  {
   "cell_type": "code",
   "execution_count": 16,
   "id": "fed6dbc3",
   "metadata": {},
   "outputs": [],
   "source": [
    "from Py.subSequenceIdx import SubSeqIndex\n",
    "\n",
    "from Py.approximate_match_subseq import approximate_match_subseq\n",
    "\n",
    "from Py.geneReader import geneReader"
   ]
  },
  {
   "cell_type": "code",
   "execution_count": 17,
   "id": "798bc993",
   "metadata": {},
   "outputs": [],
   "source": [
    "filename = 'SeqFiles/chr1.GRCh38.excerpt.fasta'\n",
    "\n",
    "data = open ( filename, 'r' )\n",
    "\n",
    "reads = geneReader ( filename )\n",
    "\n",
    "data.close ()"
   ]
  },
  {
   "cell_type": "code",
   "execution_count": 18,
   "id": "ec5c8506",
   "metadata": {
    "tags": []
   },
   "outputs": [
    {
     "name": "stdout",
     "output_type": "stream",
     "text": [
      "Matches with an indexed object using subsequences: 79\n"
     ]
    }
   ],
   "source": [
    "p = 'GGCGCGGTGGCTCACGCCTGTAAT'\n",
    "\n",
    "t = reads\n",
    "\n",
    "n = 2\n",
    "\n",
    "ival = 3\n",
    "\n",
    "print ( 'Matches with an indexed object using subsequences:', approximate_match_subseq ( p, t, n, ival ) [ 1 ] )"
   ]
  }
 ],
 "metadata": {
  "kernelspec": {
   "display_name": "Python 3 (ipykernel)",
   "language": "python",
   "name": "python3"
  },
  "language_info": {
   "codemirror_mode": {
    "name": "ipython",
    "version": 3
   },
   "file_extension": ".py",
   "mimetype": "text/x-python",
   "name": "python",
   "nbconvert_exporter": "python",
   "pygments_lexer": "ipython3",
   "version": "3.8.8"
  }
 },
 "nbformat": 4,
 "nbformat_minor": 5
}
