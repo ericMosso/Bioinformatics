{
 "cells": [
  {
   "cell_type": "markdown",
   "id": "8252f973",
   "metadata": {},
   "source": [
    "# Overlaps and Edit Distance - An Analysis"
   ]
  },
  {
   "cell_type": "markdown",
   "id": "016e0877",
   "metadata": {},
   "source": [
    "\n",
    "\n",
    "> In computational linguistics and computer science, edit distance is a string metric, i.e. a way of quantifying how dissimilar two strings (e.g., words) are to one another, that is measured by counting the minimum number of operations required to transform one string into the other. Edit distances find applications in natural language processing, where automatic spelling correction can determine candidate corrections for a misspelled word by selecting words from a dictionary that have a low distance to the word in question. In bioinformatics, it can be used to quantify the similarity of DNA sequences, which can be viewed as strings of the letters A, C, G and T.\n",
    "\n",
    "*[Edit Distance - Wikipedia](https://en.wikipedia.org/wiki/Edit_distance)*\n",
    "\n"
   ]
  },
  {
   "cell_type": "code",
   "execution_count": null,
   "id": "11e26aff",
   "metadata": {},
   "outputs": [],
   "source": [
    "from Py.geneReader import geneReader\n",
    "\n",
    "filename = 'SeqFiles/chr1.GRCh38.excerpt.fasta'\n",
    "\n",
    "data = open ( filename, 'r' )\n",
    "\n",
    "reads = geneReader ( filename )\n",
    "\n",
    "data.close ()"
   ]
  },
  {
   "cell_type": "code",
   "execution_count": null,
   "id": "dadd3126",
   "metadata": {},
   "outputs": [],
   "source": [
    "# %%time\n",
    "\n",
    "from Py.editDistance import editDistance\n",
    "\n",
    "import numpy as np\n",
    "\n",
    "\n",
    "\n",
    "p = \"GCGTATGC\"\n",
    "\n",
    "t = \"TATTGGCTATACGGTT\"\n",
    "\n",
    "\n",
    "#edm.view()\n",
    "\n",
    "editDistance ( t, p )"
   ]
  },
  {
   "cell_type": "code",
   "execution_count": null,
   "id": "113ce69c",
   "metadata": {},
   "outputs": [],
   "source": [
    "''' %%time \n",
    "\n",
    "a = 'shake spea'\n",
    "\n",
    "b = 'Shakespear'\n",
    "\n",
    "print ( editDistance ( a, b ) ) '''"
   ]
  },
  {
   "cell_type": "code",
   "execution_count": null,
   "id": "58409389",
   "metadata": {},
   "outputs": [],
   "source": [
    "'''from Py.approximate_match import approximate_match\n",
    "\n",
    "p = \"GCGTATGC\"\n",
    "\n",
    "t = \"TATTGGCTATACGGTT\"\n",
    "\n",
    "n = 0\n",
    "\n",
    "print ( approximate_match ( p, t, n ) )\n",
    "'''"
   ]
  },
  {
   "cell_type": "code",
   "execution_count": 44,
   "id": "286e94fa",
   "metadata": {},
   "outputs": [],
   "source": [
    "\n",
    "x = \"GCGTATGC\"\n",
    "\n",
    "y = \"TATTGGCTATACGGTT\"\n",
    "\n",
    "D = [ ]\n",
    "\n",
    "# D1 = [ ]\n",
    "\n",
    "# Range covers the offset row plus the length of the pattern\n",
    "\n",
    "for i in range ( len ( x ) + 1 ) :\n",
    "\n",
    "    # Initializes the dimensions of the matrix with 0s. \n",
    "\n",
    "    D.append ( [ 0 ] * ( len ( y ) + 1 ) )\n",
    "\n",
    "\n",
    "dnp = np.matrix ( D )\n",
    "\n",
    "dnp = dnp.view ( )\n"
   ]
  },
  {
   "cell_type": "code",
   "execution_count": 46,
   "id": "29553f31",
   "metadata": {},
   "outputs": [
    {
     "name": "stdout",
     "output_type": "stream",
     "text": [
      "Length of pattern: 8\n"
     ]
    }
   ],
   "source": [
    "print ( 'Length of pattern:', len  ( x ) )"
   ]
  },
  {
   "cell_type": "code",
   "execution_count": 51,
   "id": "ba73dfc7",
   "metadata": {},
   "outputs": [
    {
     "name": "stdout",
     "output_type": "stream",
     "text": [
      "Length of sequence:  16\n"
     ]
    }
   ],
   "source": [
    "print ( 'Length of sequence: ', len ( y ) )"
   ]
  },
  {
   "cell_type": "code",
   "execution_count": 47,
   "id": "e99e3aad",
   "metadata": {},
   "outputs": [
    {
     "name": "stdout",
     "output_type": "stream",
     "text": [
      "[[0 0 0 0 0 0 0 0 0 0 0 0 0 0 0 0 0]\n",
      " [0 0 0 0 0 0 0 0 0 0 0 0 0 0 0 0 0]\n",
      " [0 0 0 0 0 0 0 0 0 0 0 0 0 0 0 0 0]\n",
      " [0 0 0 0 0 0 0 0 0 0 0 0 0 0 0 0 0]\n",
      " [0 0 0 0 0 0 0 0 0 0 0 0 0 0 0 0 0]\n",
      " [0 0 0 0 0 0 0 0 0 0 0 0 0 0 0 0 0]\n",
      " [0 0 0 0 0 0 0 0 0 0 0 0 0 0 0 0 0]\n",
      " [0 0 0 0 0 0 0 0 0 0 0 0 0 0 0 0 0]\n",
      " [0 0 0 0 0 0 0 0 0 0 0 0 0 0 0 0 0]]\n"
     ]
    }
   ],
   "source": [
    "print ( dnp )"
   ]
  },
  {
   "cell_type": "code",
   "execution_count": 52,
   "id": "105d0e19",
   "metadata": {},
   "outputs": [
    {
     "data": {
      "text/plain": [
       "(9, 17)"
      ]
     },
     "execution_count": 52,
     "metadata": {},
     "output_type": "execute_result"
    }
   ],
   "source": [
    "np.shape ( dnp )"
   ]
  },
  {
   "cell_type": "code",
   "execution_count": null,
   "id": "b65ef45c",
   "metadata": {},
   "outputs": [],
   "source": []
  }
 ],
 "metadata": {
  "kernelspec": {
   "display_name": "Python 3 (Spyder)",
   "language": "python3",
   "name": "python3"
  },
  "language_info": {
   "codemirror_mode": {
    "name": "ipython",
    "version": 3
   },
   "file_extension": ".py",
   "mimetype": "text/x-python",
   "name": "python",
   "nbconvert_exporter": "python",
   "pygments_lexer": "ipython3",
   "version": "3.10.9"
  }
 },
 "nbformat": 4,
 "nbformat_minor": 5
}
