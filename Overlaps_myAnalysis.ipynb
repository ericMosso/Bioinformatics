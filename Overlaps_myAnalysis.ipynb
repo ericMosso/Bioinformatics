{
 "cells": [
  {
   "cell_type": "markdown",
   "id": "8571543e",
   "metadata": {},
   "source": [
    "# Overlaps and Edit Distance - An Analysis"
   ]
  },
  {
   "cell_type": "markdown",
   "id": "ba8c3402",
   "metadata": {},
   "source": [
    "\n",
    "\n",
    "> In computational linguistics and computer science, edit distance is a string metric, i.e. a way of quantifying how dissimilar two strings (e.g., words) are to one another, that is measured by counting the minimum number of operations required to transform one string into the other. Edit distances find applications in natural language processing, where automatic spelling correction can determine candidate corrections for a misspelled word by selecting words from a dictionary that have a low distance to the word in question. In bioinformatics, it can be used to quantify the similarity of DNA sequences, which can be viewed as strings of the letters A, C, G and T.\n",
    "\n",
    "*[Edit Distance - Wikipedia](https://en.wikipedia.org/wiki/Edit_distance)*\n",
    "\n"
   ]
  },
  {
   "cell_type": "code",
   "execution_count": null,
   "id": "8a1b2464",
   "metadata": {},
   "outputs": [],
   "source": [
    "from Py.geneReader import geneReader\n",
    "\n",
    "filename = 'SeqFiles/chr1.GRCh38.excerpt.fasta'\n",
    "\n",
    "data = open ( filename, 'r' )\n",
    "\n",
    "reads = geneReader ( filename )\n",
    "\n",
    "data.close ()"
   ]
  },
  {
   "cell_type": "code",
   "execution_count": null,
   "id": "d8c646c2",
   "metadata": {},
   "outputs": [],
   "source": [
    "from Py.editDistance import editDistance\n",
    "\n",
    "import numpy as np"
   ]
  },
  {
   "cell_type": "code",
   "execution_count": null,
   "id": "de243bb8",
   "metadata": {},
   "outputs": [],
   "source": [
    "x = \"GATTTACCAGATTGAG\"\n",
    "\n",
    "y = reads\n",
    "\n",
    "D = [ ]"
   ]
  },
  {
   "cell_type": "code",
   "execution_count": null,
   "id": "11fe0751",
   "metadata": {},
   "outputs": [],
   "source": [
    "# Range covers the offset row plus the length of the pattern\n",
    "\n",
    "for i in range ( len ( x ) + 1 ) :\n",
    "\n",
    "    # Initializes the dimensions of the matrix with 0s. \n",
    "\n",
    "    D.append ( [ 0 ] * ( len ( y ) + 1 ) )"
   ]
  },
  {
   "cell_type": "code",
   "execution_count": null,
   "id": "7696669f",
   "metadata": {},
   "outputs": [],
   "source": [
    "print ( 'Length of pattern:', len  ( x ) )"
   ]
  },
  {
   "cell_type": "code",
   "execution_count": null,
   "id": "7d3365e5",
   "metadata": {},
   "outputs": [],
   "source": [
    "print ( 'Length of sequence:', len ( y ) )"
   ]
  },
  {
   "cell_type": "code",
   "execution_count": null,
   "id": "a5700359",
   "metadata": {},
   "outputs": [],
   "source": [
    "D1 = np.matrix ( D )\n",
    "\n",
    "D1 = D1.view ( )\n",
    "\n",
    "print ( D1 )"
   ]
  },
  {
   "cell_type": "code",
   "execution_count": null,
   "id": "6ad5e3f7",
   "metadata": {},
   "outputs": [],
   "source": [
    "np.shape ( D )"
   ]
  },
  {
   "cell_type": "code",
   "execution_count": null,
   "id": "ac40cfc3",
   "metadata": {},
   "outputs": [],
   "source": [
    "for i in range ( len ( x ) + 1 ) :\n",
    "\n",
    "    D [ i ] [ 0 ] = i"
   ]
  },
  {
   "cell_type": "code",
   "execution_count": null,
   "id": "7b7d0738",
   "metadata": {},
   "outputs": [],
   "source": [
    "D1 = np.matrix ( D )\n",
    "\n",
    "D1 = D1.view ( )\n",
    "\n",
    "print ( D1 )"
   ]
  },
  {
   "cell_type": "code",
   "execution_count": null,
   "id": "fb61ae2f",
   "metadata": {},
   "outputs": [],
   "source": [
    "for j in range ( len ( y ) + 1 ) :\n",
    "        \n",
    "    D [ 0 ] [ j ] = 0"
   ]
  },
  {
   "cell_type": "code",
   "execution_count": null,
   "id": "ff2aa47e",
   "metadata": {},
   "outputs": [],
   "source": [
    "D1 = np.matrix ( D )\n",
    "\n",
    "D1 = D1.view ( )\n",
    "\n",
    "print ( D1 )"
   ]
  },
  {
   "cell_type": "code",
   "execution_count": null,
   "id": "628d5f8a",
   "metadata": {},
   "outputs": [],
   "source": [
    "# Fills in the rest of the matrix rows and columns.\n",
    "#\n",
    "# Starts at  row 1. \n",
    "\n",
    "for i in range ( 1, len ( x ) + 1 ) :\n",
    "\n",
    "    # goes by column, starts at column 1\n",
    "\n",
    "    for j in range ( 1, len ( y ) + 1 ) : \n",
    "\n",
    "    # value that is left adjacent to the current value, \n",
    "        # plus 1 is the penalty for character skipping\n",
    "\n",
    "        distHor = D [ i ] [ j - 1 ] + 1 \n",
    "\n",
    "        # value that is up adjacent to the current value, \n",
    "            # plus 1 is the penalty for character skipping\n",
    "\n",
    "        distVer = D [ i - 1 ] [ j ] + 1\n",
    "\n",
    "        # edit distance does not further increase if there is a match\n",
    "\n",
    "            # aka, if matches, does not incur penalty\n",
    "\n",
    "        if x [ i - 1 ] == y [ j - 1 ] : \n",
    "\n",
    "            # Diagonal up/left distance\n",
    "\n",
    "            distDiag = D [ i - 1 ] [ j - 1 ] \n",
    "\n",
    "\n",
    "        # otherwise, diagonal distance value increases by 1\n",
    "\n",
    "        else :\n",
    "\n",
    "            distDiag = D [ i - 1 ] [ j - 1 ] + 1 \n",
    "\n",
    "\n",
    "        # min () takes the minimum edit distance of the 3 possible values\n",
    "        # so this value will be inserted for the current iteration\n",
    "        # of row i, column j. \n",
    "\n",
    "        D [ i ] [ j ] = min ( distHor, distVer, distDiag ) "
   ]
  },
  {
   "cell_type": "code",
   "execution_count": null,
   "id": "e32384b3",
   "metadata": {},
   "outputs": [],
   "source": [
    "D1 = np.matrix ( D )\n",
    "\n",
    "D1 = D1.view ( )\n",
    "\n",
    "print ( D1 )"
   ]
  },
  {
   "cell_type": "code",
   "execution_count": null,
   "id": "cfe9797e",
   "metadata": {},
   "outputs": [],
   "source": [
    "# We are interested in the minimum value of the bottom row.\n",
    "\n",
    "print ( min ( D [ -1 ] ) )"
   ]
  },
  {
   "cell_type": "code",
   "execution_count": 1,
   "id": "dd6447eb",
   "metadata": {},
   "outputs": [
    {
     "name": "stdout",
     "output_type": "stream",
     "text": [
      "CPU times: total: 0 ns\n",
      "Wall time: 20.5 ms\n"
     ]
    },
    {
     "data": {
      "text/plain": [
       "\u001b[1;31mType:\u001b[0m        list\n",
       "\u001b[1;31mString form:\u001b[0m ['TAAACAAGCAGTAGTAATTCCTGCTTTATCAAGATAATTTTTCGACTCATCAGAAATATCCGAAAGTGTTAACTTCTGCGTCATGGAAGCGATAA <...> GGCCTCTATTAAGCTCATTCAGGCTTCTGCCGTTTTGGATTTAACCGAAGATGATTTCGATTTTCTGACTAGTAACAAAGTTTGGATTGCTACTG']\n",
       "\u001b[1;31mLength:\u001b[0m      10000\n",
       "\u001b[1;31mDocstring:\u001b[0m  \n",
       "Built-in mutable sequence.\n",
       "\n",
       "If no argument is given, the constructor creates a new empty list.\n",
       "The argument must be an iterable if specified."
      ]
     },
     "metadata": {},
     "output_type": "display_data"
    }
   ],
   "source": [
    "%%time\n",
    "\n",
    "from Py.geneReader_Q import geneReader_Q\n",
    "\n",
    "filename = 'SeqFiles/ERR266411_1.for_asm.fastq'\n",
    "\n",
    "reads = geneReader_Q ( filename )\n",
    "\n",
    "?reads"
   ]
  },
  {
   "cell_type": "code",
   "execution_count": 7,
   "id": "52387560",
   "metadata": {},
   "outputs": [
    {
     "data": {
      "text/plain": [
       "[(1, 2), (1, 3), (2, 1), (2, 3), (3, 1), (3, 2)]"
      ]
     },
     "execution_count": 7,
     "metadata": {},
     "output_type": "execute_result"
    }
   ],
   "source": [
    "from itertools import permutations\n",
    "\n",
    "list ( permutations ( [ 1, 2, 3 ], 2 ) )"
   ]
  },
  {
   "cell_type": "code",
   "execution_count": 2,
   "id": "a555412a",
   "metadata": {},
   "outputs": [
    {
     "data": {
      "text/plain": [
       "\u001b[1;31mType:\u001b[0m        set\n",
       "\u001b[1;31mString form:\u001b[0m set()\n",
       "\u001b[1;31mLength:\u001b[0m      0\n",
       "\u001b[1;31mDocstring:\u001b[0m  \n",
       "set() -> new empty set object\n",
       "set(iterable) -> new set object\n",
       "\n",
       "Build an unordered collection of unique elements."
      ]
     },
     "metadata": {},
     "output_type": "display_data"
    }
   ],
   "source": [
    "# Starting with an empty set object, we will then add every k-mer association to it\n",
    "\n",
    "k = 30\n",
    "\n",
    "setObj = set()\n",
    "\n",
    "?setObj"
   ]
  },
  {
   "cell_type": "code",
   "execution_count": 21,
   "id": "1c537094",
   "metadata": {},
   "outputs": [
    {
     "name": "stdout",
     "output_type": "stream",
     "text": [
      "CPU times: total: 0 ns\n",
      "Wall time: 0 ns\n"
     ]
    },
    {
     "data": {
      "text/plain": [
       "\u001b[1;31mType:\u001b[0m        set\n",
       "\u001b[1;31mString form:\u001b[0m {'TTATCAAGATAATTTTTCGACTCATCAGAA', 'TCCTGCTTTATCAAGATAATTTTTCGACTC', 'CGAAAGTGTTAACTTCTGCGTCATGGA <...> GAAAGTGTTAACTTCTGCGTCATGGAA', 'TCAAGATAATTTTTCGACTCATCAGAAATA', 'TTAACTTCTGCGTCATGGAAGCGATAAAAC'}\n",
       "\u001b[1;31mLength:\u001b[0m      71\n",
       "\u001b[1;31mDocstring:\u001b[0m  \n",
       "set() -> new empty set object\n",
       "set(iterable) -> new set object\n",
       "\n",
       "Build an unordered collection of unique elements."
      ]
     },
     "metadata": {},
     "output_type": "display_data"
    }
   ],
   "source": [
    "%%time\n",
    "\n",
    "k = 30\n",
    "\n",
    "# Example is for only the first read in the file. \n",
    "\n",
    "read = reads [ 0 ]\n",
    "\n",
    "for i in range ( 0, len ( read ) - k + 1 ) :\n",
    "    \n",
    "    # We use the add method because we are dealing with a set, not a list.\n",
    "    \n",
    "    setObj.add ( read [ i : i + k ] )\n",
    "    \n",
    "?setObj"
   ]
  },
  {
   "cell_type": "code",
   "execution_count": 17,
   "id": "5389f27a",
   "metadata": {},
   "outputs": [
    {
     "data": {
      "text/plain": [
       "\u001b[1;31mType:\u001b[0m        set\n",
       "\u001b[1;31mString form:\u001b[0m set()\n",
       "\u001b[1;31mLength:\u001b[0m      0\n",
       "\u001b[1;31mDocstring:\u001b[0m  \n",
       "set() -> new empty set object\n",
       "set(iterable) -> new set object\n",
       "\n",
       "Build an unordered collection of unique elements."
      ]
     },
     "metadata": {},
     "output_type": "display_data"
    }
   ],
   "source": [
    "# Starting with an empty set object, we will then add every k-mer association to it\n",
    "\n",
    "k = 30\n",
    "\n",
    "def kmerExtract ( read, k ) :\n",
    "\n",
    "    setObj = set ()\n",
    "\n",
    "    for i in range ( 0, len ( read ) - k + 1 ) :\n",
    "\n",
    "        # We use the add method because we are dealing with a set, \n",
    "        # not a list.\n",
    "\n",
    "        setObj.add ( read [ i : i + k ] )\n",
    "    \n",
    "    return setObj\n",
    "\n",
    "?setObj"
   ]
  },
  {
   "cell_type": "code",
   "execution_count": 5,
   "id": "3a7d4fe1",
   "metadata": {},
   "outputs": [
    {
     "name": "stdout",
     "output_type": "stream",
     "text": [
      "CPU times: total: 203 ms\n",
      "Wall time: 588 ms\n"
     ]
    },
    {
     "data": {
      "text/plain": [
       "\u001b[1;31mType:\u001b[0m        dict\n",
       "\u001b[1;31mString form:\u001b[0m {'AGTAGTAATTCCTGCTTTATCAAGATAATT': {'TAAACAAGCAGTAGTAATTCCTGCTTTATCAAGATAATTTTTCGACTCATCAGAAATATC <...> AACGCGAACAATTCAGCGGCTTTAACCGGACGGTCGGCCCCGATAATAATGATTGCCGTAAATTCAGGGCTTTCCAGGATTAGGCAGGCCGTTT'}}\n",
       "\u001b[1;31mLength:\u001b[0m      108344\n",
       "\u001b[1;31mDocstring:\u001b[0m  \n",
       "dict() -> new empty dictionary\n",
       "dict(mapping) -> new dictionary initialized from a mapping object's\n",
       "    (key, value) pairs\n",
       "dict(iterable) -> new dictionary initialized as if via:\n",
       "    d = {}\n",
       "    for k, v in iterable:\n",
       "        d[k] = v\n",
       "dict(**kwargs) -> new dictionary initialized with the name=value pairs\n",
       "    in the keyword argument list.  For example:  dict(one=1, two=2)"
      ]
     },
     "metadata": {},
     "output_type": "display_data"
    }
   ],
   "source": [
    "%%time\n",
    "\n",
    "kmerDictionary = { }\n",
    "\n",
    "for read in reads :\n",
    "    \n",
    "    kmerSetObjs = kmerExtract ( read, k )\n",
    "    \n",
    "    for kmerSetObj in kmerSetObjs : \n",
    "        \n",
    "        if not kmerSetObj in kmerDictionary.keys () :\n",
    "            \n",
    "            kmerDictionary [ kmerSetObj ] = set ()\n",
    "            \n",
    "            kmerDictionary [ kmerSetObj ].add ( read )\n",
    "            \n",
    "?kmerDictionary           "
   ]
  },
  {
   "cell_type": "code",
   "execution_count": 12,
   "id": "1a4f43e6",
   "metadata": {},
   "outputs": [
    {
     "name": "stdout",
     "output_type": "stream",
     "text": [
      "CPU times: total: 0 ns\n",
      "Wall time: 21.6 ms\n"
     ]
    },
    {
     "data": {
      "text/plain": [
       "\u001b[1;31mType:\u001b[0m        dict\n",
       "\u001b[1;31mString form:\u001b[0m {'CTGTAGCCGACGTTTTGGCGGCGCAACCTGTGACGACAAATCTGCTCAAATTTATGCGCGCTTCGATAAAAATGATTGGCGTATCCAACCTGCAG <...> GTTTTGGATTTAACCGAAGATGATTTCGATTTTCTGACTAGTAACAAAGTTTGGATTGCTACTGACCGCTCTCGTGCTCGTCGCTGCGTTGAGGC'}\n",
       "\u001b[1;31mLength:\u001b[0m      5274\n",
       "\u001b[1;31mDocstring:\u001b[0m  \n",
       "dict() -> new empty dictionary\n",
       "dict(mapping) -> new dictionary initialized from a mapping object's\n",
       "    (key, value) pairs\n",
       "dict(iterable) -> new dictionary initialized as if via:\n",
       "    d = {}\n",
       "    for k, v in iterable:\n",
       "        d[k] = v\n",
       "dict(**kwargs) -> new dictionary initialized with the name=value pairs\n",
       "    in the keyword argument list.  For example:  dict(one=1, two=2)"
      ]
     },
     "metadata": {},
     "output_type": "display_data"
    }
   ],
   "source": [
    "%%time\n",
    "\n",
    "from Py.overlap import overlap\n",
    "\n",
    "kmerPairs = [ ]\n",
    "\n",
    "overgraph = { }\n",
    "\n",
    "for a in reads :\n",
    "    \n",
    "    a_suffix = a [ - k : ]\n",
    "    \n",
    "    a_suffix_reads = kmerDictionary [ a_suffix ]\n",
    "    \n",
    "    for b in a_suffix_reads : \n",
    "        \n",
    "        if ( not a == b and overlap ( a, b, k ) ) :\n",
    "            \n",
    "            kmerPairs.append ( ( a, b ) )\n",
    "            \n",
    "            overgraph [ a ] = b \n",
    "            \n",
    "\n",
    "?overgraph"
   ]
  },
  {
   "cell_type": "code",
   "execution_count": 26,
   "id": "219e3245",
   "metadata": {},
   "outputs": [
    {
     "data": {
      "text/plain": [
       "5274"
      ]
     },
     "execution_count": 26,
     "metadata": {},
     "output_type": "execute_result"
    }
   ],
   "source": [
    "len ( kmerPairs )"
   ]
  },
  {
   "cell_type": "code",
   "execution_count": null,
   "id": "935b070f",
   "metadata": {},
   "outputs": [],
   "source": [
    "for pair in kmerPairs : \n",
    "    \n",
    "    print ( set ( pair [ 0 ] ) )"
   ]
  },
  {
   "cell_type": "code",
   "execution_count": 30,
   "id": "97b4e240",
   "metadata": {},
   "outputs": [
    {
     "name": "stdout",
     "output_type": "stream",
     "text": [
      "5274\n"
     ]
    }
   ],
   "source": []
  },
  {
   "cell_type": "code",
   "execution_count": 14,
   "id": "6f14193b",
   "metadata": {},
   "outputs": [
    {
     "data": {
      "text/plain": [
       "\u001b[1;31mType:\u001b[0m        dict\n",
       "\u001b[1;31mString form:\u001b[0m {'AGTAGTAATTCCTGCTTTATCAAGATAATT': {'TAAACAAGCAGTAGTAATTCCTGCTTTATCAAGATAATTTTTCGACTCATCAGAAATATC <...> AACGCGAACAATTCAGCGGCTTTAACCGGACGGTCGGCCCCGATAATAATGATTGCCGTAAATTCAGGGCTTTCCAGGATTAGGCAGGCCGTTT'}}\n",
       "\u001b[1;31mLength:\u001b[0m      108344\n",
       "\u001b[1;31mDocstring:\u001b[0m  \n",
       "dict() -> new empty dictionary\n",
       "dict(mapping) -> new dictionary initialized from a mapping object's\n",
       "    (key, value) pairs\n",
       "dict(iterable) -> new dictionary initialized as if via:\n",
       "    d = {}\n",
       "    for k, v in iterable:\n",
       "        d[k] = v\n",
       "dict(**kwargs) -> new dictionary initialized with the name=value pairs\n",
       "    in the keyword argument list.  For example:  dict(one=1, two=2)"
      ]
     },
     "metadata": {},
     "output_type": "display_data"
    }
   ],
   "source": [
    "?kmerDictionary"
   ]
  },
  {
   "cell_type": "code",
   "execution_count": 16,
   "id": "756c5ba3",
   "metadata": {},
   "outputs": [
    {
     "ename": "SyntaxError",
     "evalue": "incomplete input (3370027603.py, line 5)",
     "output_type": "error",
     "traceback": [
      "\u001b[1;36m  Cell \u001b[1;32mIn[16], line 5\u001b[1;36m\u001b[0m\n\u001b[1;33m    \u001b[0m\n\u001b[1;37m    ^\u001b[0m\n\u001b[1;31mSyntaxError\u001b[0m\u001b[1;31m:\u001b[0m incomplete input\n"
     ]
    }
   ],
   "source": [
    "aSuffixDictionary = {}\n",
    "\n",
    "for a in reads :\n",
    "    \n",
    "    aSuffixDictionary [ a ] = reads[a]\n",
    "    \n",
    "    \n",
    "    \n",
    "    "
   ]
  },
  {
   "cell_type": "code",
   "execution_count": null,
   "id": "9ea653e0",
   "metadata": {},
   "outputs": [],
   "source": [
    "%%time \n",
    "\n",
    "\n",
    "# Returns all kmers of of min length k for a read \n",
    "\n",
    "k = 30\n",
    "\n",
    "kmerExtract ( read, k )\n",
    "\n",
    "kmerDict = { }\n",
    "\n",
    "i = 0\n",
    "\n",
    "for read in reads :\n",
    "    \n",
    "    if ( not i > 0 ) :\n",
    "        \n",
    "        kmerDict [ read ] = kmerExtract ( read, k )\n",
    "        \n",
    "    i += 1\n",
    "    \n",
    "kmerDict"
   ]
  },
  {
   "cell_type": "code",
   "execution_count": 77,
   "id": "3108024a",
   "metadata": {},
   "outputs": [
    {
     "name": "stdout",
     "output_type": "stream",
     "text": [
      "CPU times: total: 0 ns\n",
      "Wall time: 1.5 ms\n"
     ]
    },
    {
     "data": {
      "text/plain": [
       "\u001b[1;31mType:\u001b[0m        dict\n",
       "\u001b[1;31mString form:\u001b[0m {'TAAACAAGCAGTAGTAATTCCTGCTTTATCAAGATAATTTTTCGACTCATCAGAAATATCCGAAAGTGTTAACTTCTGCGTCATGGAAGCGATAA <...> AAAGTGTTAACTTCTGCGTCATGGAC', 'ACAAGCAGTAGTAATTCCTGCTTTATCAAG', 'TTTTCGACTCATCAGAAATATACGAAAGTG'}}\n",
       "\u001b[1;31mLength:\u001b[0m      2\n",
       "\u001b[1;31mDocstring:\u001b[0m  \n",
       "dict() -> new empty dictionary\n",
       "dict(mapping) -> new dictionary initialized from a mapping object's\n",
       "    (key, value) pairs\n",
       "dict(iterable) -> new dictionary initialized as if via:\n",
       "    d = {}\n",
       "    for k, v in iterable:\n",
       "        d[k] = v\n",
       "dict(**kwargs) -> new dictionary initialized with the name=value pairs\n",
       "    in the keyword argument list.  For example:  dict(one=1, two=2)"
      ]
     },
     "metadata": {},
     "output_type": "display_data"
    }
   ],
   "source": [
    "%%time \n",
    "\n",
    "\n",
    "# Returns all kmers of of min length k for a read \n",
    "\n",
    "k = 30\n",
    "\n",
    "kmerExtract ( read, k )\n",
    "\n",
    "kmerDict = { }\n",
    "\n",
    "i = 0\n",
    "\n",
    "for read in reads :    \n",
    "    \n",
    "    if ( not i > 1 ) :\n",
    "        \n",
    "        kmerDict [ read ] = kmerExtract ( read, k )\n",
    "        \n",
    "    \n",
    "    i += 1\n",
    "    \n",
    "?kmerDict"
   ]
  },
  {
   "cell_type": "code",
   "execution_count": 69,
   "id": "01a3cc7c",
   "metadata": {},
   "outputs": [
    {
     "name": "stdout",
     "output_type": "stream",
     "text": [
      "AACTTCTGCGTCATGGAAGCGATAAAACTC TAAACAAGCAGTAGTAATTCCTGCTTTATCAAGATAATTTTTCGACTCATCAGAAATATCCGAAAGTGTTAACTTCTGCGTCATGGAAGCGATAAAACTC\n",
      "CTTCTGCGTCATGGACACGAAAAAACTCCC AACAAGCAGTAGTAATTCCTGCTTTATCAAGATAATTTTTCGACTCATCAGAAATATACGAAAGTGTTAACTTCTGCGTCATGGACACGAAAAAACTCCC\n"
     ]
    }
   ],
   "source": [
    "i = 0\n",
    "\n",
    "pairset = set()\n",
    "\n",
    "for a in kmerDict ( ) :\n",
    "    \n",
    "    temp = a\n",
    "    \n",
    "    sfxA = a [ - k : ]\n",
    "    \n",
    "    \n",
    "    "
   ]
  },
  {
   "cell_type": "code",
   "execution_count": 86,
   "id": "f7bdc096",
   "metadata": {},
   "outputs": [
    {
     "name": "stdout",
     "output_type": "stream",
     "text": [
      "{'AGTAGTAATTCCTGCTTTATCAAGATAATT', 'TTCCTGCTTTATCAAGATAATTTTTCGACT', 'TCAGAAATATCCGAAAGTGTTAACTTCTGC', 'CCTGCTTTATCAAGATAATTTTTCGACTCA', 'CTTTATCAAGATAATTTTTCGACTCATCAG', 'AATATCCGAAAGTGTTAACTTCTGCGTCAT', 'AAAGTGTTAACTTCTGCGTCATGGAAGCGA', 'TTAACTTCTGCGTCATGGAAGCGATAAAAC', 'ATTTTTCGACTCATCAGAAATATCCGAAAG', 'CGACTCATCAGAAATATCCGAAAGTGTTAA', 'ATCAGAAATATCCGAAAGTGTTAACTTCTG', 'GCTTTATCAAGATAATTTTTCGACTCATCA', 'AGAAATATCCGAAAGTGTTAACTTCTGCGT', 'CAAGCAGTAGTAATTCCTGCTTTATCAAGA', 'TTTATCAAGATAATTTTTCGACTCATCAGA', 'AAACAAGCAGTAGTAATTCCTGCTTTATCA', 'AAGCAGTAGTAATTCCTGCTTTATCAAGAT', 'ATAATTTTTCGACTCATCAGAAATATCCGA', 'AATTCCTGCTTTATCAAGATAATTTTTCGA', 'GAAATATCCGAAAGTGTTAACTTCTGCGTC', 'AACTTCTGCGTCATGGAAGCGATAAAACTC', 'TCCGAAAGTGTTAACTTCTGCGTCATGGAA', 'CAGAAATATCCGAAAGTGTTAACTTCTGCG', 'GTTAACTTCTGCGTCATGGAAGCGATAAAA', 'ACTCATCAGAAATATCCGAAAGTGTTAACT', 'ATATCCGAAAGTGTTAACTTCTGCGTCATG', 'AGTGTTAACTTCTGCGTCATGGAAGCGATA', 'TATCAAGATAATTTTTCGACTCATCAGAAA', 'AAGATAATTTTTCGACTCATCAGAAATATC', 'GTAGTAATTCCTGCTTTATCAAGATAATTT', 'TAATTCCTGCTTTATCAAGATAATTTTTCG', 'AGCAGTAGTAATTCCTGCTTTATCAAGATA', 'TGCTTTATCAAGATAATTTTTCGACTCATC', 'TCGACTCATCAGAAATATCCGAAAGTGTTA', 'TTATCAAGATAATTTTTCGACTCATCAGAA', 'GTGTTAACTTCTGCGTCATGGAAGCGATAA', 'TAACTTCTGCGTCATGGAAGCGATAAAACT', 'TAATTTTTCGACTCATCAGAAATATCCGAA', 'AATTTTTCGACTCATCAGAAATATCCGAAA', 'CTCATCAGAAATATCCGAAAGTGTTAACTT', 'CCGAAAGTGTTAACTTCTGCGTCATGGAAG', 'AAGTGTTAACTTCTGCGTCATGGAAGCGAT', 'TAGTAATTCCTGCTTTATCAAGATAATTTT', 'AACAAGCAGTAGTAATTCCTGCTTTATCAA', 'GTAATTCCTGCTTTATCAAGATAATTTTTC', 'TCAAGATAATTTTTCGACTCATCAGAAATA', 'TAAACAAGCAGTAGTAATTCCTGCTTTATC', 'CAAGATAATTTTTCGACTCATCAGAAATAT', 'TGTTAACTTCTGCGTCATGGAAGCGATAAA', 'CATCAGAAATATCCGAAAGTGTTAACTTCT', 'AGTAATTCCTGCTTTATCAAGATAATTTTT', 'CAGTAGTAATTCCTGCTTTATCAAGATAAT', 'TATCCGAAAGTGTTAACTTCTGCGTCATGG', 'TTTTCGACTCATCAGAAATATCCGAAAGTG', 'ATCAAGATAATTTTTCGACTCATCAGAAAT', 'GACTCATCAGAAATATCCGAAAGTGTTAAC', 'AAATATCCGAAAGTGTTAACTTCTGCGTCA', 'ATCCGAAAGTGTTAACTTCTGCGTCATGGA', 'TTCGACTCATCAGAAATATCCGAAAGTGTT', 'GATAATTTTTCGACTCATCAGAAATATCCG', 'GCAGTAGTAATTCCTGCTTTATCAAGATAA', 'TTTTTCGACTCATCAGAAATATCCGAAAGT', 'CGAAAGTGTTAACTTCTGCGTCATGGAAGC', 'ATTCCTGCTTTATCAAGATAATTTTTCGAC', 'GAAAGTGTTAACTTCTGCGTCATGGAAGCG', 'TCCTGCTTTATCAAGATAATTTTTCGACTC', 'CTGCTTTATCAAGATAATTTTTCGACTCAT', 'TCATCAGAAATATCCGAAAGTGTTAACTTC', 'TTTCGACTCATCAGAAATATCCGAAAGTGT', 'ACAAGCAGTAGTAATTCCTGCTTTATCAAG', 'AGATAATTTTTCGACTCATCAGAAATATCC'}\n",
      "{'AGTAGTAATTCCTGCTTTATCAAGATAATT', 'TTCCTGCTTTATCAAGATAATTTTTCGACT', 'AAAGTGTTAACTTCTGCGTCATGGACACGA', 'CCTGCTTTATCAAGATAATTTTTCGACTCA', 'CTTTATCAAGATAATTTTTCGACTCATCAG', 'ATTTTTCGACTCATCAGAAATATACGAAAG', 'CATCAGAAATATACGAAAGTGTTAACTTCT', 'TCGACTCATCAGAAATATACGAAAGTGTTA', 'GCTTTATCAAGATAATTTTTCGACTCATCA', 'CAAGCAGTAGTAATTCCTGCTTTATCAAGA', 'TTTATCAAGATAATTTTTCGACTCATCAGA', 'TTTCGACTCATCAGAAATATACGAAAGTGT', 'ACTCATCAGAAATATACGAAAGTGTTAACT', 'AAGCAGTAGTAATTCCTGCTTTATCAAGAT', 'AATTCCTGCTTTATCAAGATAATTTTTCGA', 'TTTTTCGACTCATCAGAAATATACGAAAGT', 'TCAGAAATATACGAAAGTGTTAACTTCTGC', 'GAAAGTGTTAACTTCTGCGTCATGGACACG', 'AATTTTTCGACTCATCAGAAATATACGAAA', 'AAGATAATTTTTCGACTCATCAGAAATATA', 'GATAATTTTTCGACTCATCAGAAATATACG', 'GAAATATACGAAAGTGTTAACTTCTGCGTC', 'AATATACGAAAGTGTTAACTTCTGCGTCAT', 'ATATACGAAAGTGTTAACTTCTGCGTCATG', 'GTGTTAACTTCTGCGTCATGGACACGAAAA', 'TATCAAGATAATTTTTCGACTCATCAGAAA', 'AACTTCTGCGTCATGGACACGAAAAAACTC', 'AGATAATTTTTCGACTCATCAGAAATATAC', 'GACTCATCAGAAATATACGAAAGTGTTAAC', 'GTAGTAATTCCTGCTTTATCAAGATAATTT', 'TAATTCCTGCTTTATCAAGATAATTTTTCG', 'CGAAAGTGTTAACTTCTGCGTCATGGACAC', 'TATACGAAAGTGTTAACTTCTGCGTCATGG', 'AGCAGTAGTAATTCCTGCTTTATCAAGATA', 'TGCTTTATCAAGATAATTTTTCGACTCATC', 'TTATCAAGATAATTTTTCGACTCATCAGAA', 'AGTGTTAACTTCTGCGTCATGGACACGAAA', 'AAGTGTTAACTTCTGCGTCATGGACACGAA', 'ATAATTTTTCGACTCATCAGAAATATACGA', 'CTCATCAGAAATATACGAAAGTGTTAACTT', 'AAATATACGAAAGTGTTAACTTCTGCGTCA', 'TGTTAACTTCTGCGTCATGGACACGAAAAA', 'CGACTCATCAGAAATATACGAAAGTGTTAA', 'TAGTAATTCCTGCTTTATCAAGATAATTTT', 'AACAAGCAGTAGTAATTCCTGCTTTATCAA', 'GTAATTCCTGCTTTATCAAGATAATTTTTC', 'TCAAGATAATTTTTCGACTCATCAGAAATA', 'ACGAAAGTGTTAACTTCTGCGTCATGGACA', 'CAAGATAATTTTTCGACTCATCAGAAATAT', 'CAGAAATATACGAAAGTGTTAACTTCTGCG', 'TTCGACTCATCAGAAATATACGAAAGTGTT', 'GTTAACTTCTGCGTCATGGACACGAAAAAA', 'AGAAATATACGAAAGTGTTAACTTCTGCGT', 'ATCAGAAATATACGAAAGTGTTAACTTCTG', 'ACTTCTGCGTCATGGACACGAAAAAACTCC', 'AGTAATTCCTGCTTTATCAAGATAATTTTT', 'CAGTAGTAATTCCTGCTTTATCAAGATAAT', 'ATACGAAAGTGTTAACTTCTGCGTCATGGA', 'ATCAAGATAATTTTTCGACTCATCAGAAAT', 'TTAACTTCTGCGTCATGGACACGAAAAAAC', 'TCATCAGAAATATACGAAAGTGTTAACTTC', 'CTTCTGCGTCATGGACACGAAAAAACTCCC', 'GCAGTAGTAATTCCTGCTTTATCAAGATAA', 'TAATTTTTCGACTCATCAGAAATATACGAA', 'ATTCCTGCTTTATCAAGATAATTTTTCGAC', 'TCCTGCTTTATCAAGATAATTTTTCGACTC', 'CTGCTTTATCAAGATAATTTTTCGACTCAT', 'TAACTTCTGCGTCATGGACACGAAAAAACT', 'TACGAAAGTGTTAACTTCTGCGTCATGGAC', 'ACAAGCAGTAGTAATTCCTGCTTTATCAAG', 'TTTTCGACTCATCAGAAATATACGAAAGTG'}\n"
     ]
    }
   ],
   "source": [
    "for i in kmerDict :\n",
    "    \n",
    "    \n",
    "    print ( kmerDict[i] )\n",
    "    \n",
    "    i"
   ]
  },
  {
   "cell_type": "code",
   "execution_count": null,
   "id": "50c832fc",
   "metadata": {},
   "outputs": [],
   "source": []
  }
 ],
 "metadata": {
  "kernelspec": {
   "display_name": "Python 3 (Spyder)",
   "language": "python3",
   "name": "python3"
  },
  "language_info": {
   "codemirror_mode": {
    "name": "ipython",
    "version": 3
   },
   "file_extension": ".py",
   "mimetype": "text/x-python",
   "name": "python",
   "nbconvert_exporter": "python",
   "pygments_lexer": "ipython3",
   "version": "3.10.9"
  }
 },
 "nbformat": 4,
 "nbformat_minor": 5
}
