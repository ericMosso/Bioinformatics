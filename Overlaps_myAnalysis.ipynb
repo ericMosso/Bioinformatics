{
 "cells": [
  {
   "cell_type": "markdown",
   "id": "b5a6f7d5",
   "metadata": {},
   "source": [
    "# Overlaps and Edit Distance - An Analysis"
   ]
  },
  {
   "cell_type": "markdown",
   "id": "8306a753",
   "metadata": {},
   "source": [
    "\n",
    "\n",
    "> In computational linguistics and computer science, edit distance is a string metric, i.e. a way of quantifying how dissimilar two strings (e.g., words) are to one another, that is measured by counting the minimum number of operations required to transform one string into the other. Edit distances find applications in natural language processing, where automatic spelling correction can determine candidate corrections for a misspelled word by selecting words from a dictionary that have a low distance to the word in question. In bioinformatics, it can be used to quantify the similarity of DNA sequences, which can be viewed as strings of the letters A, C, G and T.\n",
    "\n",
    "*[Edit Distance - Wikipedia](https://en.wikipedia.org/wiki/Edit_distance)*\n",
    "\n"
   ]
  },
  {
   "cell_type": "code",
   "execution_count": null,
   "id": "ea501c41",
   "metadata": {},
   "outputs": [],
   "source": [
    "from Py.geneReader import geneReader\n",
    "\n",
    "filename = 'SeqFiles/chr1.GRCh38.excerpt.fasta'\n",
    "\n",
    "data = open ( filename, 'r' )\n",
    "\n",
    "reads = geneReader ( filename )\n",
    "\n",
    "data.close ()"
   ]
  },
  {
   "cell_type": "code",
   "execution_count": null,
   "id": "d8364697",
   "metadata": {},
   "outputs": [],
   "source": [
    "from Py.editDistance import editDistance\n",
    "\n",
    "import numpy as np"
   ]
  },
  {
   "cell_type": "code",
   "execution_count": null,
   "id": "013db620",
   "metadata": {},
   "outputs": [],
   "source": [
    "x = \"GATTTACCAGATTGAG\"\n",
    "\n",
    "y = reads\n",
    "\n",
    "D = [ ]"
   ]
  },
  {
   "cell_type": "code",
   "execution_count": null,
   "id": "3e5892c4",
   "metadata": {},
   "outputs": [],
   "source": [
    "# Range covers the offset row plus the length of the pattern\n",
    "\n",
    "for i in range ( len ( x ) + 1 ) :\n",
    "\n",
    "    # Initializes the dimensions of the matrix with 0s. \n",
    "\n",
    "    D.append ( [ 0 ] * ( len ( y ) + 1 ) )"
   ]
  },
  {
   "cell_type": "code",
   "execution_count": null,
   "id": "22abc7a5",
   "metadata": {},
   "outputs": [],
   "source": [
    "print ( 'Length of pattern:', len  ( x ) )"
   ]
  },
  {
   "cell_type": "code",
   "execution_count": null,
   "id": "2cb62095",
   "metadata": {},
   "outputs": [],
   "source": [
    "print ( 'Length of sequence:', len ( y ) )"
   ]
  },
  {
   "cell_type": "code",
   "execution_count": null,
   "id": "390de722",
   "metadata": {},
   "outputs": [],
   "source": [
    "D1 = np.matrix ( D )\n",
    "\n",
    "D1 = D1.view ( )\n",
    "\n",
    "print ( D1 )"
   ]
  },
  {
   "cell_type": "code",
   "execution_count": null,
   "id": "2a661610",
   "metadata": {},
   "outputs": [],
   "source": [
    "np.shape ( D )"
   ]
  },
  {
   "cell_type": "code",
   "execution_count": null,
   "id": "eb453518",
   "metadata": {},
   "outputs": [],
   "source": [
    "for i in range ( len ( x ) + 1 ) :\n",
    "\n",
    "    D [ i ] [ 0 ] = i"
   ]
  },
  {
   "cell_type": "code",
   "execution_count": null,
   "id": "4d2841f8",
   "metadata": {},
   "outputs": [],
   "source": [
    "D1 = np.matrix ( D )\n",
    "\n",
    "D1 = D1.view ( )\n",
    "\n",
    "print ( D1 )"
   ]
  },
  {
   "cell_type": "code",
   "execution_count": null,
   "id": "50f8a4bd",
   "metadata": {},
   "outputs": [],
   "source": [
    "for j in range ( len ( y ) + 1 ) :\n",
    "        \n",
    "    D [ 0 ] [ j ] = 0"
   ]
  },
  {
   "cell_type": "code",
   "execution_count": null,
   "id": "6871e5c3",
   "metadata": {},
   "outputs": [],
   "source": [
    "D1 = np.matrix ( D )\n",
    "\n",
    "D1 = D1.view ( )\n",
    "\n",
    "print ( D1 )"
   ]
  },
  {
   "cell_type": "code",
   "execution_count": null,
   "id": "d31df2ab",
   "metadata": {},
   "outputs": [],
   "source": [
    "# Fills in the rest of the matrix rows and columns.\n",
    "#\n",
    "# Starts at  row 1. \n",
    "\n",
    "for i in range ( 1, len ( x ) + 1 ) :\n",
    "\n",
    "    # goes by column, starts at column 1\n",
    "\n",
    "    for j in range ( 1, len ( y ) + 1 ) : \n",
    "\n",
    "    # value that is left adjacent to the current value, \n",
    "        # plus 1 is the penalty for character skipping\n",
    "\n",
    "        distHor = D [ i ] [ j - 1 ] + 1 \n",
    "\n",
    "        # value that is up adjacent to the current value, \n",
    "            # plus 1 is the penalty for character skipping\n",
    "\n",
    "        distVer = D [ i - 1 ] [ j ] + 1\n",
    "\n",
    "        # edit distance does not further increase if there is a match\n",
    "\n",
    "            # aka, if matches, does not incur penalty\n",
    "\n",
    "        if x [ i - 1 ] == y [ j - 1 ] : \n",
    "\n",
    "            # Diagonal up/left distance\n",
    "\n",
    "            distDiag = D [ i - 1 ] [ j - 1 ] \n",
    "\n",
    "\n",
    "        # otherwise, diagonal distance value increases by 1\n",
    "\n",
    "        else :\n",
    "\n",
    "            distDiag = D [ i - 1 ] [ j - 1 ] + 1 \n",
    "\n",
    "\n",
    "        # min () takes the minimum edit distance of the 3 possible values\n",
    "        # so this value will be inserted for the current iteration\n",
    "        # of row i, column j. \n",
    "\n",
    "        D [ i ] [ j ] = min ( distHor, distVer, distDiag ) "
   ]
  },
  {
   "cell_type": "code",
   "execution_count": null,
   "id": "bdf63497",
   "metadata": {},
   "outputs": [],
   "source": [
    "D1 = np.matrix ( D )\n",
    "\n",
    "D1 = D1.view ( )\n",
    "\n",
    "print ( D1 )"
   ]
  },
  {
   "cell_type": "code",
   "execution_count": null,
   "id": "c66a61e7",
   "metadata": {},
   "outputs": [],
   "source": [
    "# We are interested in the minimum value of the bottom row.\n",
    "\n",
    "print ( min ( D [ -1 ] ) )"
   ]
  },
  {
   "cell_type": "code",
   "execution_count": 33,
   "id": "9f7e2765",
   "metadata": {},
   "outputs": [],
   "source": [
    "from Py.geneReader_Q import geneReader_Q\n",
    "\n",
    "filename = 'SeqFiles/ERR266411_1.for_asm.fastq'\n",
    "\n",
    "reads = geneReader_Q ( filename )"
   ]
  },
  {
   "cell_type": "code",
   "execution_count": 34,
   "id": "8a5732bc",
   "metadata": {},
   "outputs": [
    {
     "data": {
      "text/plain": [
       "['TAAACAAGCAGTAGTAATTCCTGCTTTATCAAGATAATTTTTCGACTCATCAGAAATATCCGAAAGTGTTAACTTCTGCGTCATGGAAGCGATAAAACTC',\n",
       " 'AACAAGCAGTAGTAATTCCTGCTTTATCAAGATAATTTTTCGACTCATCAGAAATATACGAAAGTGTTAACTTCTGCGTCATGGACACGAAAAAACTCCC',\n",
       " 'AACAAGCAGTAGTAATTCCTGCTTTATCAAGATAATTTTTCGACTCATCAGAAATATCCGAAAGTGTTAACTTCTGCGTCATGGAAGCGATAAAACTCTG',\n",
       " 'AGCCGACGTTTTGGCGGCGCAACCTGTGACGACAAATCTGCTCAAATTTATGCGCGCTTCGATAAAAATGATTGGCGTATCCAACCTGCAGAGTTTTATC',\n",
       " 'GACAAATCTGCTCAAATTTATGCGCGCTTCGATAAAAATGATTGGCGTATCCAACCTGCAGAGTTTTATCGCTTCCATGACGCAGAAGTTAACACTTTCG',\n",
       " 'CTGTAGCCGACGTTTTGGCGGCGCAACCTGTGACGACAAATCTGCTCAAATTTATGCGCGCTTCGATAAAAATGATTGGCGTATCCAACCTGCAGAGTTT',\n",
       " 'CTGTGACGACAAATCTGCTCAAATTTATGCGCGCTTCGATAAAAATGATTGGCGTATCCAACCTGCAGAGTTTTATCGCTTCCATGACGCAGAAGTTAAC',\n",
       " 'CAAATCTGCTCAAATTTATGCGCGCTTCGATAAAAATGATTGGCGTATCCAACCTGCAGAGTTTTATCGCTTCCATGACGCAGAAGTTAACACTTTCGGA',\n",
       " 'GTAAACAAGCAGTAGTAATTCCTGCTTTATCAAGATAATTTTTCGACTCATCAGCAATATCCGAAAGAGTTAACTTTTGCGTCATGGAAGCGATAAAACC',\n",
       " 'GTAAACAAGCAGTAGTAATTCCTGCTTTATCAAGATAATTTTTCGACTCATCAGAAATATCCGAAAGTGTTAACTTCTGCGTCATGGAAGCGATAAAACT']"
      ]
     },
     "execution_count": 34,
     "metadata": {},
     "output_type": "execute_result"
    }
   ],
   "source": [
    "# Checking that our function works by outputting the first 10 sequences. \n",
    "\n",
    "reads[:10]"
   ]
  },
  {
   "cell_type": "code",
   "execution_count": null,
   "id": "06294d80",
   "metadata": {},
   "outputs": [],
   "source": [
    "from itertools import permutations\n",
    "\n",
    "list ( permutations ( [ 1, 2, 3 ], 2 ) )"
   ]
  },
  {
   "cell_type": "code",
   "execution_count": 31,
   "id": "d8c54e88",
   "metadata": {},
   "outputs": [
    {
     "data": {
      "text/plain": [
       "\u001b[1;31mType:\u001b[0m        set\n",
       "\u001b[1;31mString form:\u001b[0m set()\n",
       "\u001b[1;31mLength:\u001b[0m      0\n",
       "\u001b[1;31mDocstring:\u001b[0m  \n",
       "set() -> new empty set object\n",
       "set(iterable) -> new set object\n",
       "\n",
       "Build an unordered collection of unique elements."
      ]
     },
     "metadata": {},
     "output_type": "display_data"
    }
   ],
   "source": [
    "# Starting with an empty set object, we will then add every k-mer association to it\n",
    "\n",
    "k = 30\n",
    "\n",
    "setObj = set()\n",
    "\n",
    "?setObj"
   ]
  },
  {
   "cell_type": "code",
   "execution_count": 51,
   "id": "117a9af5",
   "metadata": {},
   "outputs": [
    {
     "data": {
      "text/plain": [
       "\u001b[1;31mType:\u001b[0m        set\n",
       "\u001b[1;31mString form:\u001b[0m {'AGCAGTAGTAATTCCTGCTTTATCAAGATA', 'TCCTGCTTTATCAAGATAATTTTTCGACTC', 'CTTTATCAAGATAATTTTTCGACTCAT <...> GCAGTAGTAATTCCTGCTTTATCAAGA', 'TATCAAGATAATTTTTCGACTCATCAGAAA', 'GAAAGTGTTAACTTCTGCGTCATGGAAGCG'}\n",
       "\u001b[1;31mLength:\u001b[0m      71\n",
       "\u001b[1;31mDocstring:\u001b[0m  \n",
       "set() -> new empty set object\n",
       "set(iterable) -> new set object\n",
       "\n",
       "Build an unordered collection of unique elements."
      ]
     },
     "metadata": {},
     "output_type": "display_data"
    }
   ],
   "source": [
    "k = 30\n",
    "\n",
    "read = reads [ 0 ]\n",
    "\n",
    "for i in range ( 0, len ( read ) - k + 1 ) :\n",
    "    \n",
    "    # We use the add method because we are dealing with a set, not a list.\n",
    "    \n",
    "    setObj.add ( read [ i : i + k ] )\n",
    "    \n",
    "?setObj"
   ]
  },
  {
   "cell_type": "code",
   "execution_count": null,
   "id": "c95d7905",
   "metadata": {},
   "outputs": [],
   "source": []
  }
 ],
 "metadata": {
  "kernelspec": {
   "display_name": "Python 3 (Spyder)",
   "language": "python3",
   "name": "python3"
  },
  "language_info": {
   "codemirror_mode": {
    "name": "ipython",
    "version": 3
   },
   "file_extension": ".py",
   "mimetype": "text/x-python",
   "name": "python",
   "nbconvert_exporter": "python",
   "pygments_lexer": "ipython3",
   "version": "3.10.9"
  }
 },
 "nbformat": 4,
 "nbformat_minor": 5
}
