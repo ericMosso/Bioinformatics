{
 "cells": [
  {
   "cell_type": "markdown",
   "id": "e7883dd7",
   "metadata": {},
   "source": [
    "# Overlaps and Edit Distance - An Analysis"
   ]
  },
  {
   "cell_type": "markdown",
   "id": "f193a7a1",
   "metadata": {},
   "source": [
    "\n",
    "\n",
    "> In computational linguistics and computer science, edit distance is a string metric, i.e. a way of quantifying how dissimilar two strings (e.g., words) are to one another, that is measured by counting the minimum number of operations required to transform one string into the other. Edit distances find applications in natural language processing, where automatic spelling correction can determine candidate corrections for a misspelled word by selecting words from a dictionary that have a low distance to the word in question. In bioinformatics, it can be used to quantify the similarity of DNA sequences, which can be viewed as strings of the letters A, C, G and T.\n",
    "\n",
    "*[Edit Distance - Wikipedia](https://en.wikipedia.org/wiki/Edit_distance)*\n",
    "\n"
   ]
  },
  {
   "cell_type": "code",
   "execution_count": null,
   "id": "8b61831b",
   "metadata": {},
   "outputs": [],
   "source": [
    "from Py.geneReader import geneReader\n",
    "\n",
    "filename = 'SeqFiles/chr1.GRCh38.excerpt.fasta'\n",
    "\n",
    "data = open ( filename, 'r' )\n",
    "\n",
    "reads = geneReader ( filename )\n",
    "\n",
    "data.close ()"
   ]
  },
  {
   "cell_type": "code",
   "execution_count": null,
   "id": "fabd9679",
   "metadata": {},
   "outputs": [],
   "source": [
    "from Py.editDistance import editDistance\n",
    "\n",
    "import numpy as np"
   ]
  },
  {
   "cell_type": "code",
   "execution_count": null,
   "id": "63e053db",
   "metadata": {},
   "outputs": [],
   "source": [
    "x = \"GATTTACCAGATTGAG\"\n",
    "\n",
    "y = reads\n",
    "\n",
    "D = [ ]"
   ]
  },
  {
   "cell_type": "code",
   "execution_count": null,
   "id": "caa22b53",
   "metadata": {},
   "outputs": [],
   "source": [
    "# Range covers the offset row plus the length of the pattern\n",
    "\n",
    "for i in range ( len ( x ) + 1 ) :\n",
    "\n",
    "    # Initializes the dimensions of the matrix with 0s. \n",
    "\n",
    "    D.append ( [ 0 ] * ( len ( y ) + 1 ) )"
   ]
  },
  {
   "cell_type": "code",
   "execution_count": null,
   "id": "3e480aba",
   "metadata": {},
   "outputs": [],
   "source": [
    "print ( 'Length of pattern:', len  ( x ) )"
   ]
  },
  {
   "cell_type": "code",
   "execution_count": null,
   "id": "b8c0011a",
   "metadata": {},
   "outputs": [],
   "source": [
    "print ( 'Length of sequence:', len ( y ) )"
   ]
  },
  {
   "cell_type": "code",
   "execution_count": null,
   "id": "24adac75",
   "metadata": {},
   "outputs": [],
   "source": [
    "D1 = np.matrix ( D )\n",
    "\n",
    "D1 = D1.view ( )\n",
    "\n",
    "print ( D1 )"
   ]
  },
  {
   "cell_type": "code",
   "execution_count": null,
   "id": "76f4d2a4",
   "metadata": {},
   "outputs": [],
   "source": [
    "np.shape ( D )"
   ]
  },
  {
   "cell_type": "code",
   "execution_count": null,
   "id": "4abf9e3e",
   "metadata": {},
   "outputs": [],
   "source": [
    "for i in range ( len ( x ) + 1 ) :\n",
    "\n",
    "    D [ i ] [ 0 ] = i"
   ]
  },
  {
   "cell_type": "code",
   "execution_count": null,
   "id": "6e3268e6",
   "metadata": {},
   "outputs": [],
   "source": [
    "D1 = np.matrix ( D )\n",
    "\n",
    "D1 = D1.view ( )\n",
    "\n",
    "print ( D1 )"
   ]
  },
  {
   "cell_type": "code",
   "execution_count": null,
   "id": "8f6d5e92",
   "metadata": {},
   "outputs": [],
   "source": [
    "for j in range ( len ( y ) + 1 ) :\n",
    "        \n",
    "    D [ 0 ] [ j ] = 0"
   ]
  },
  {
   "cell_type": "code",
   "execution_count": null,
   "id": "768c23fb",
   "metadata": {},
   "outputs": [],
   "source": [
    "D1 = np.matrix ( D )\n",
    "\n",
    "D1 = D1.view ( )\n",
    "\n",
    "print ( D1 )"
   ]
  },
  {
   "cell_type": "code",
   "execution_count": null,
   "id": "ee1e96f1",
   "metadata": {},
   "outputs": [],
   "source": [
    "# Fills in the rest of the matrix rows and columns.\n",
    "#\n",
    "# Starts at  row 1. \n",
    "\n",
    "for i in range ( 1, len ( x ) + 1 ) :\n",
    "\n",
    "    # goes by column, starts at column 1\n",
    "\n",
    "    for j in range ( 1, len ( y ) + 1 ) : \n",
    "\n",
    "    # value that is left adjacent to the current value, \n",
    "        # plus 1 is the penalty for character skipping\n",
    "\n",
    "        distHor = D [ i ] [ j - 1 ] + 1 \n",
    "\n",
    "        # value that is up adjacent to the current value, \n",
    "            # plus 1 is the penalty for character skipping\n",
    "\n",
    "        distVer = D [ i - 1 ] [ j ] + 1\n",
    "\n",
    "        # edit distance does not further increase if there is a match\n",
    "\n",
    "            # aka, if matches, does not incur penalty\n",
    "\n",
    "        if x [ i - 1 ] == y [ j - 1 ] : \n",
    "\n",
    "            # Diagonal up/left distance\n",
    "\n",
    "            distDiag = D [ i - 1 ] [ j - 1 ] \n",
    "\n",
    "\n",
    "        # otherwise, diagonal distance value increases by 1\n",
    "\n",
    "        else :\n",
    "\n",
    "            distDiag = D [ i - 1 ] [ j - 1 ] + 1 \n",
    "\n",
    "\n",
    "        # min () takes the minimum edit distance of the 3 possible values\n",
    "        # so this value will be inserted for the current iteration\n",
    "        # of row i, column j. \n",
    "\n",
    "        D [ i ] [ j ] = min ( distHor, distVer, distDiag ) "
   ]
  },
  {
   "cell_type": "code",
   "execution_count": null,
   "id": "d8995225",
   "metadata": {},
   "outputs": [],
   "source": [
    "D1 = np.matrix ( D )\n",
    "\n",
    "D1 = D1.view ( )\n",
    "\n",
    "print ( D1 )"
   ]
  },
  {
   "cell_type": "code",
   "execution_count": null,
   "id": "6da53fa7",
   "metadata": {},
   "outputs": [],
   "source": [
    "# We are interested in the minimum value of the bottom row.\n",
    "\n",
    "print ( min ( D [ -1 ] ) )"
   ]
  },
  {
   "cell_type": "code",
   "execution_count": null,
   "id": "e22f6f99",
   "metadata": {},
   "outputs": [],
   "source": [
    "from Py.geneReader_Q import geneReader_Q\n",
    "\n",
    "filename = 'SeqFiles/ERR266411_1.for_asm.fastq'\n",
    "\n",
    "reads = geneReader_Q ( filename )"
   ]
  },
  {
   "cell_type": "code",
   "execution_count": null,
   "id": "55d93e9c",
   "metadata": {},
   "outputs": [],
   "source": [
    "# Checking that our function works by outputting the first 10 sequences. \n",
    "\n",
    "reads[:10]"
   ]
  },
  {
   "cell_type": "code",
   "execution_count": null,
   "id": "032b1572",
   "metadata": {},
   "outputs": [],
   "source": [
    "from itertools import permutations\n",
    "\n",
    "list ( permutations ( [ 1, 2, 3 ], 2 ) )"
   ]
  },
  {
   "cell_type": "code",
   "execution_count": null,
   "id": "54e9867c",
   "metadata": {},
   "outputs": [],
   "source": [
    "# Starting with an empty set object, we will then add every k-mer association to it\n",
    "\n",
    "k = 30\n",
    "\n",
    "setObj = set()\n",
    "\n",
    "?setObj"
   ]
  },
  {
   "cell_type": "code",
   "execution_count": null,
   "id": "76e99ea6",
   "metadata": {},
   "outputs": [],
   "source": [
    "k = 30\n",
    "\n",
    "\n",
    "# Example is for only the first read in the file. \n",
    "\n",
    "read = reads [ 0 ]\n",
    "\n",
    "for i in range ( 0, len ( read ) - k + 1 ) :\n",
    "    \n",
    "    # We use the add method because we are dealing with a set, not a list.\n",
    "    \n",
    "    setObj.add ( read [ i : i + k ] )\n",
    "    \n",
    "?setObj"
   ]
  },
  {
   "cell_type": "code",
   "execution_count": null,
   "id": "224e8d08",
   "metadata": {},
   "outputs": [],
   "source": [
    "k = 30\n",
    "\n",
    "\n",
    "# Example is for only the first read in the file. \n",
    "\n",
    "read = reads [ 1 ]\n",
    "\n",
    "for i in range ( 0, len ( read ) - k + 1 ) :\n",
    "    \n",
    "    # We use the add method because we are dealing with a set, not a list.\n",
    "    \n",
    "    setObj.add ( read [ i : i + k ] )\n",
    "    \n",
    "?setObj"
   ]
  },
  {
   "cell_type": "code",
   "execution_count": 32,
   "id": "9909baa9",
   "metadata": {},
   "outputs": [
    {
     "data": {
      "text/plain": [
       "{'AAACAAGCAGTAGTAATTCCTGCTTTATCA',\n",
       " 'AAAGTGTTAACTTCTGCGTCATGGAAGCGA',\n",
       " 'AAATATCCGAAAGTGTTAACTTCTGCGTCA',\n",
       " 'AACAAGCAGTAGTAATTCCTGCTTTATCAA',\n",
       " 'AACTTCTGCGTCATGGAAGCGATAAAACTC',\n",
       " 'AAGATAATTTTTCGACTCATCAGAAATATC',\n",
       " 'AAGCAGTAGTAATTCCTGCTTTATCAAGAT',\n",
       " 'AAGTGTTAACTTCTGCGTCATGGAAGCGAT',\n",
       " 'AATATCCGAAAGTGTTAACTTCTGCGTCAT',\n",
       " 'AATTCCTGCTTTATCAAGATAATTTTTCGA',\n",
       " 'AATTTTTCGACTCATCAGAAATATCCGAAA',\n",
       " 'ACAAGCAGTAGTAATTCCTGCTTTATCAAG',\n",
       " 'ACTCATCAGAAATATCCGAAAGTGTTAACT',\n",
       " 'AGAAATATCCGAAAGTGTTAACTTCTGCGT',\n",
       " 'AGATAATTTTTCGACTCATCAGAAATATCC',\n",
       " 'AGCAGTAGTAATTCCTGCTTTATCAAGATA',\n",
       " 'AGTAATTCCTGCTTTATCAAGATAATTTTT',\n",
       " 'AGTAGTAATTCCTGCTTTATCAAGATAATT',\n",
       " 'AGTGTTAACTTCTGCGTCATGGAAGCGATA',\n",
       " 'ATAATTTTTCGACTCATCAGAAATATCCGA',\n",
       " 'ATATCCGAAAGTGTTAACTTCTGCGTCATG',\n",
       " 'ATCAAGATAATTTTTCGACTCATCAGAAAT',\n",
       " 'ATCAGAAATATCCGAAAGTGTTAACTTCTG',\n",
       " 'ATCCGAAAGTGTTAACTTCTGCGTCATGGA',\n",
       " 'ATTCCTGCTTTATCAAGATAATTTTTCGAC',\n",
       " 'ATTTTTCGACTCATCAGAAATATCCGAAAG',\n",
       " 'CAAGATAATTTTTCGACTCATCAGAAATAT',\n",
       " 'CAAGCAGTAGTAATTCCTGCTTTATCAAGA',\n",
       " 'CAGAAATATCCGAAAGTGTTAACTTCTGCG',\n",
       " 'CAGTAGTAATTCCTGCTTTATCAAGATAAT',\n",
       " 'CATCAGAAATATCCGAAAGTGTTAACTTCT',\n",
       " 'CCGAAAGTGTTAACTTCTGCGTCATGGAAG',\n",
       " 'CCTGCTTTATCAAGATAATTTTTCGACTCA',\n",
       " 'CGAAAGTGTTAACTTCTGCGTCATGGAAGC',\n",
       " 'CGACTCATCAGAAATATCCGAAAGTGTTAA',\n",
       " 'CTCATCAGAAATATCCGAAAGTGTTAACTT',\n",
       " 'CTGCTTTATCAAGATAATTTTTCGACTCAT',\n",
       " 'CTTTATCAAGATAATTTTTCGACTCATCAG',\n",
       " 'GAAAGTGTTAACTTCTGCGTCATGGAAGCG',\n",
       " 'GAAATATCCGAAAGTGTTAACTTCTGCGTC',\n",
       " 'GACTCATCAGAAATATCCGAAAGTGTTAAC',\n",
       " 'GATAATTTTTCGACTCATCAGAAATATCCG',\n",
       " 'GCAGTAGTAATTCCTGCTTTATCAAGATAA',\n",
       " 'GCTTTATCAAGATAATTTTTCGACTCATCA',\n",
       " 'GTAATTCCTGCTTTATCAAGATAATTTTTC',\n",
       " 'GTAGTAATTCCTGCTTTATCAAGATAATTT',\n",
       " 'GTGTTAACTTCTGCGTCATGGAAGCGATAA',\n",
       " 'GTTAACTTCTGCGTCATGGAAGCGATAAAA',\n",
       " 'TAAACAAGCAGTAGTAATTCCTGCTTTATC',\n",
       " 'TAACTTCTGCGTCATGGAAGCGATAAAACT',\n",
       " 'TAATTCCTGCTTTATCAAGATAATTTTTCG',\n",
       " 'TAATTTTTCGACTCATCAGAAATATCCGAA',\n",
       " 'TAGTAATTCCTGCTTTATCAAGATAATTTT',\n",
       " 'TATCAAGATAATTTTTCGACTCATCAGAAA',\n",
       " 'TATCCGAAAGTGTTAACTTCTGCGTCATGG',\n",
       " 'TCAAGATAATTTTTCGACTCATCAGAAATA',\n",
       " 'TCAGAAATATCCGAAAGTGTTAACTTCTGC',\n",
       " 'TCATCAGAAATATCCGAAAGTGTTAACTTC',\n",
       " 'TCCGAAAGTGTTAACTTCTGCGTCATGGAA',\n",
       " 'TCCTGCTTTATCAAGATAATTTTTCGACTC',\n",
       " 'TCGACTCATCAGAAATATCCGAAAGTGTTA',\n",
       " 'TGCTTTATCAAGATAATTTTTCGACTCATC',\n",
       " 'TGTTAACTTCTGCGTCATGGAAGCGATAAA',\n",
       " 'TTAACTTCTGCGTCATGGAAGCGATAAAAC',\n",
       " 'TTATCAAGATAATTTTTCGACTCATCAGAA',\n",
       " 'TTCCTGCTTTATCAAGATAATTTTTCGACT',\n",
       " 'TTCGACTCATCAGAAATATCCGAAAGTGTT',\n",
       " 'TTTATCAAGATAATTTTTCGACTCATCAGA',\n",
       " 'TTTCGACTCATCAGAAATATCCGAAAGTGT',\n",
       " 'TTTTCGACTCATCAGAAATATCCGAAAGTG',\n",
       " 'TTTTTCGACTCATCAGAAATATCCGAAAGT'}"
      ]
     },
     "execution_count": 32,
     "metadata": {},
     "output_type": "execute_result"
    }
   ],
   "source": [
    "# Starting with an empty set object, we will then add every k-mer association to it\n",
    "\n",
    "k = 30\n",
    "\n",
    "def getKmers ( read, k ) :\n",
    "\n",
    "    setObj = set ()\n",
    "\n",
    "    for i in range ( 0, len ( read ) - k + 1 ) :\n",
    "\n",
    "        # We use the add method because we are dealing with a set, \n",
    "        # not a list.\n",
    "\n",
    "        setObj.add ( read [ i : i + k ] )\n",
    "    \n",
    "    return setObj\n",
    "\n",
    "setObj"
   ]
  },
  {
   "cell_type": "code",
   "execution_count": 35,
   "id": "60e41212",
   "metadata": {},
   "outputs": [
    {
     "data": {
      "text/plain": [
       "\u001b[1;31mType:\u001b[0m        dict\n",
       "\u001b[1;31mString form:\u001b[0m {'CTTTATCAAGATAATTTTTCGACTCATCAG': {'TAAACAAGCAGTAGTAATTCCTGCTTTATCAAGATAATTTTTCGACTCATCAGAAATATC <...> AGCAGTAGTAATTCCTGCTTTATCAAGATAATTTTTCGACTCATCAGAAATATCCGAAAGTGTTAACTTCTGCGTCATGGAAGCGATAAAACTC'}}\n",
       "\u001b[1;31mLength:\u001b[0m      71\n",
       "\u001b[1;31mDocstring:\u001b[0m  \n",
       "dict() -> new empty dictionary\n",
       "dict(mapping) -> new dictionary initialized from a mapping object's\n",
       "    (key, value) pairs\n",
       "dict(iterable) -> new dictionary initialized as if via:\n",
       "    d = {}\n",
       "    for k, v in iterable:\n",
       "        d[k] = v\n",
       "dict(**kwargs) -> new dictionary initialized with the name=value pairs\n",
       "    in the keyword argument list.  For example:  dict(one=1, two=2)"
      ]
     },
     "metadata": {},
     "output_type": "display_data"
    }
   ],
   "source": [
    "kmerDictionary = {}\n",
    "\n",
    "for kmer in setObj :\n",
    "    \n",
    "    if not kmer in kmerDictionary.keys () :\n",
    "        \n",
    "        kmerDictionary [ kmer ] = set ()\n",
    "\n",
    "        kmerDictionary [ kmer ].add ( read )\n",
    "    \n",
    "?kmerDictionary"
   ]
  },
  {
   "cell_type": "code",
   "execution_count": null,
   "id": "cc84c584",
   "metadata": {},
   "outputs": [],
   "source": [
    "from Py.overlap import overlap\n",
    "\n",
    "setpairs = [ ]\n",
    "\n",
    "for a in reads :\n",
    "    \n",
    "    akmer = a [ -k : ]\n",
    "    \n",
    "    b = kmerDictionary\n",
    "    \n",
    "    #bkmer = kmerDictionary [ a [ : k ] ]\n",
    "    \n",
    "    for bkmer in kmerDictionary :\n",
    "        \n",
    "        if ( not akmer [ -k : ] == bkmer [ : k ] and overlap ( akmer, bkmer, k ) ) :\n",
    "            \n",
    "            setpairs.append( ( a, b ) )\n",
    "    \n",
    "    \n",
    "setpairs"
   ]
  },
  {
   "cell_type": "code",
   "execution_count": null,
   "id": "ef4906d5",
   "metadata": {},
   "outputs": [],
   "source": [
    "setpairs = [ ]\n",
    "\n",
    "for a in kmerDictionary :\n",
    "    \n",
    "    akmer = a [ -k : ]\n",
    "    setpairs.append(akmer)\n",
    "    \n",
    "setpairs"
   ]
  },
  {
   "cell_type": "code",
   "execution_count": null,
   "id": "2e0e8fe9",
   "metadata": {},
   "outputs": [],
   "source": [
    "setpairs = [ ]\n",
    "\n",
    "for b in reads :\n",
    "    \n",
    "    bkmer = b [ : k ]\n",
    "    \n",
    "    setpairs.append (bkmer)\n",
    "\n",
    "setpairs"
   ]
  },
  {
   "cell_type": "code",
   "execution_count": null,
   "id": "e3b02e9c",
   "metadata": {},
   "outputs": [],
   "source": [
    "if ( akmer != bkmer and overlap ( akmer, bkmer, k ) ) :\n",
    "    \n",
    "    setpairs.append ( akmer, bkmer )"
   ]
  },
  {
   "cell_type": "code",
   "execution_count": 37,
   "id": "fb239165",
   "metadata": {},
   "outputs": [
    {
     "ename": "KeyError",
     "evalue": "'CTTCTGCGTCATGGACACGAAAAAACTCCC'",
     "output_type": "error",
     "traceback": [
      "Traceback \u001b[1;36m(most recent call last)\u001b[0m:\n",
      "\u001b[1;36m  Cell \u001b[1;32mIn[37], line 7\u001b[1;36m\n\u001b[1;33m    for b in kmerDictionary [ akmer ] :\u001b[1;36m\n",
      "\u001b[1;31mKeyError\u001b[0m\u001b[1;31m:\u001b[0m 'CTTCTGCGTCATGGACACGAAAAAACTCCC'\n"
     ]
    }
   ],
   "source": [
    "setpairs = [ ]\n",
    "\n",
    "for a in reads :\n",
    "    \n",
    "    akmer = a [ -k : ]\n",
    "    \n",
    "    for b in kmerDictionary [ akmer ] :\n",
    "            \n",
    "        if ( a != b and overlap ( a, b, k ) ) :\n",
    "    \n",
    "            setpairs.append ( a, b )\n",
    "    \n",
    "\n",
    "setpairs"
   ]
  },
  {
   "cell_type": "code",
   "execution_count": 36,
   "id": "3b4a3bac",
   "metadata": {},
   "outputs": [
    {
     "data": {
      "text/plain": [
       "'TGACTAGTAACAAAGTTTGGATTGCTACTG'"
      ]
     },
     "execution_count": 36,
     "metadata": {},
     "output_type": "execute_result"
    }
   ],
   "source": [
    "for a in reads :\n",
    "    \n",
    "    akmer = a [ -k : ]\n",
    "    \n",
    "akmer"
   ]
  },
  {
   "cell_type": "code",
   "execution_count": null,
   "id": "dcc6a067",
   "metadata": {},
   "outputs": [],
   "source": [
    "setpairs = [ ]\n",
    "\n",
    "for a in reads :\n",
    "    \n",
    "    akmer = a [ -k : ]\n",
    "    \n",
    "    currentset = kmerDictionary [ akmer ]\n",
    "    \n",
    "    for bread in currentset :\n",
    "        \n",
    "        if bread != kmer_read : \n",
    "            \n",
    "            \n",
    "    \n"
   ]
  }
 ],
 "metadata": {
  "kernelspec": {
   "display_name": "Python 3 (Spyder)",
   "language": "python3",
   "name": "python3"
  },
  "language_info": {
   "codemirror_mode": {
    "name": "ipython",
    "version": 3
   },
   "file_extension": ".py",
   "mimetype": "text/x-python",
   "name": "python",
   "nbconvert_exporter": "python",
   "pygments_lexer": "ipython3",
   "version": "3.8.8"
  }
 },
 "nbformat": 4,
 "nbformat_minor": 5
}
