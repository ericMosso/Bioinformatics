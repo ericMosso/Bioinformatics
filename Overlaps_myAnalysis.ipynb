{
 "cells": [
  {
   "cell_type": "markdown",
   "id": "816dbe5e",
   "metadata": {},
   "source": [
    "# Overlaps and Edit Distance - An Analysis"
   ]
  },
  {
   "cell_type": "markdown",
   "id": "a9f2b0ba",
   "metadata": {},
   "source": [
    "\n",
    "\n",
    "> In computational linguistics and computer science, edit distance is a string metric, i.e. a way of quantifying how dissimilar two strings (e.g., words) are to one another, that is measured by counting the minimum number of operations required to transform one string into the other. Edit distances find applications in natural language processing, where automatic spelling correction can determine candidate corrections for a misspelled word by selecting words from a dictionary that have a low distance to the word in question. In bioinformatics, it can be used to quantify the similarity of DNA sequences, which can be viewed as strings of the letters A, C, G and T.\n",
    "\n",
    "*[Edit Distance - Wikipedia](https://en.wikipedia.org/wiki/Edit_distance)*\n",
    "\n"
   ]
  },
  {
   "cell_type": "code",
   "execution_count": 1,
   "id": "6a7f6572",
   "metadata": {},
   "outputs": [],
   "source": [
    "from Py.geneReader import geneReader\n",
    "\n",
    "filename = 'SeqFiles/chr1.GRCh38.excerpt.fasta'\n",
    "\n",
    "data = open ( filename, 'r' )\n",
    "\n",
    "reads = geneReader ( filename )\n",
    "\n",
    "data.close ()"
   ]
  },
  {
   "cell_type": "code",
   "execution_count": 6,
   "id": "98c6e8df",
   "metadata": {},
   "outputs": [
    {
     "name": "stdout",
     "output_type": "stream",
     "text": [
      "[[ 0  1  2  3  4  5  6  7  8]\n",
      " [ 1  1  2  3  3  4  5  6  7]\n",
      " [ 2  2  2  3  4  3  4  5  6]\n",
      " [ 3  3  3  3  3  4  3  4  5]\n",
      " [ 4  4  4  4  3  4  4  4  5]\n",
      " [ 5  4  5  4  4  4  5  4  5]\n",
      " [ 6  5  5  5  5  5  5  5  5]\n",
      " [ 7  6  5  6  6  6  6  6  5]\n",
      " [ 8  7  6  6  6  7  6  7  6]\n",
      " [ 9  8  7  7  7  6  7  7  7]\n",
      " [10  9  8  8  7  7  6  7  8]\n",
      " [11 10  9  9  8  7  7  7  8]\n",
      " [12 11 10 10  9  8  8  8  7]\n",
      " [13 12 11 10 10  9  9  8  8]\n",
      " [14 13 12 11 11 10 10  9  9]\n",
      " [15 14 13 12 11 11 10 10 10]\n",
      " [16 15 14 13 12 12 11 11 11]]\n"
     ]
    }
   ],
   "source": [
    "# %%time\n",
    "\n",
    "from Py.editDistance import editDistance\n",
    "\n",
    "import numpy as np\n",
    "\n",
    "\n",
    "\n",
    "p = \"GCGTATGC\"\n",
    "\n",
    "t = \"TATTGGCTATACGGTT\"\n",
    "\n",
    "edm = np.matrix(editDistance ( t, p ) )\n",
    "\n",
    "edm = edm.view()\n",
    "\n",
    "print ( edm )"
   ]
  },
  {
   "cell_type": "code",
   "execution_count": 3,
   "id": "dec63826",
   "metadata": {},
   "outputs": [
    {
     "data": {
      "text/plain": [
       "\" %%time \\n\\na = 'shake spea'\\n\\nb = 'Shakespear'\\n\\nprint ( editDistance ( a, b ) ) \""
      ]
     },
     "execution_count": 3,
     "metadata": {},
     "output_type": "execute_result"
    }
   ],
   "source": [
    "''' %%time \n",
    "\n",
    "a = 'shake spea'\n",
    "\n",
    "b = 'Shakespear'\n",
    "\n",
    "print ( editDistance ( a, b ) ) '''"
   ]
  },
  {
   "cell_type": "code",
   "execution_count": null,
   "id": "e14fb7f9",
   "metadata": {},
   "outputs": [],
   "source": [
    "'''from Py.approximate_match import approximate_match\n",
    "\n",
    "p = \"GCGTATGC\"\n",
    "\n",
    "t = \"TATTGGCTATACGGTT\"\n",
    "\n",
    "n = 0\n",
    "\n",
    "print ( approximate_match ( p, t, n ) )\n",
    "'''"
   ]
  },
  {
   "cell_type": "code",
   "execution_count": null,
   "id": "75e11910",
   "metadata": {},
   "outputs": [],
   "source": []
  }
 ],
 "metadata": {
  "kernelspec": {
   "display_name": "Python 3 (Spyder)",
   "language": "python3",
   "name": "python3"
  },
  "language_info": {
   "codemirror_mode": {
    "name": "ipython",
    "version": 3
   },
   "file_extension": ".py",
   "mimetype": "text/x-python",
   "name": "python",
   "nbconvert_exporter": "python",
   "pygments_lexer": "ipython3",
   "version": "3.8.8"
  }
 },
 "nbformat": 4,
 "nbformat_minor": 5
}
