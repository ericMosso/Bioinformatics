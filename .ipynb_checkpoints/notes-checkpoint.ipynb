{
 "cells": [
  {
   "cell_type": "markdown",
   "id": "bd47cafd",
   "metadata": {},
   "source": [
    "|X| == |Y|\n",
    "\n",
    "## editDistance ( X, Y ) <= hammingDistance ( X, Y )\n",
    "\n",
    "|X| != |Y| ?\n",
    "\n",
    "    -editDistance has to be at least as great as the absolute difference in lengths between X and Y. \n",
    "\n",
    "    -editDistance ( X, Y ) >= | |X| - |Y| |\n",
    "\n"
   ]
  }
 ],
 "metadata": {
  "kernelspec": {
   "display_name": "Python 3 (Spyder)",
   "language": "python3",
   "name": "python3"
  },
  "language_info": {
   "codemirror_mode": {
    "name": "ipython",
    "version": 3
   },
   "file_extension": ".py",
   "mimetype": "text/x-python",
   "name": "python",
   "nbconvert_exporter": "python",
   "pygments_lexer": "ipython3",
   "version": "3.8.8"
  }
 },
 "nbformat": 4,
 "nbformat_minor": 5
}
