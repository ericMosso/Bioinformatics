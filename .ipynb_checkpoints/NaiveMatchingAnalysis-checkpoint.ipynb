{
 "cells": [
  {
   "cell_type": "markdown",
   "id": "5860a137-0a69-4fbc-844c-cfcd68de6fb2",
   "metadata": {},
   "source": [
    "# Naive Matching and Analysis Practice"
   ]
  },
  {
   "cell_type": "code",
   "execution_count": 13,
   "id": "e1206f29-4d98-427c-a34b-d04c5a5ec1e8",
   "metadata": {
    "tags": []
   },
   "outputs": [],
   "source": [
    "from geneReader import geneReader\n",
    "\n",
    "from naiveAware import naiveAware\n",
    "\n",
    "from reverseComplement import reverseComplement\n",
    "\n",
    "from naive_mismatches import naive_mismatches\n",
    "\n",
    "from unawareNaive import unawareNaive"
   ]
  },
  {
   "cell_type": "markdown",
   "id": "17113062-265b-4fe9-9eaa-9f51065015b3",
   "metadata": {},
   "source": [
    "## Processing a FastA File"
   ]
  },
  {
   "cell_type": "code",
   "execution_count": 14,
   "id": "c273a4b5-32ee-46f8-9087-d01552d0d636",
   "metadata": {
    "tags": []
   },
   "outputs": [],
   "source": [
    "filename = 'lambda_virus.fa'\n",
    "\n",
    "data = open ( filename, 'r' )\n",
    "\n",
    "reads = geneReader ( filename )\n",
    "\n",
    "data.close ()"
   ]
  },
  {
   "cell_type": "code",
   "execution_count": 15,
   "id": "796660e6-633b-4c17-97c1-2547f5106607",
   "metadata": {
    "tags": []
   },
   "outputs": [],
   "source": [
    "pattern = 'AGGAGGTT'\n",
    "\n",
    "# the reverse complement pattern\n",
    "\n",
    "rcPattern = reverseComplement ( pattern )\n",
    "\n",
    "# strand aware naive matching of the pattern \n",
    "\n",
    "results = naiveAware ( pattern, reads )\n",
    "\n",
    "# strand aware naive matching of the reverse complement\n",
    "\n",
    "rcResults = naiveAware ( rcPattern, reads )\n",
    "\n",
    "# naive matching allowing up to 2 mismatches in the sequence reads\n",
    "\n",
    "mmResults = naive_mismatches ( pattern, reads )\n",
    "\n",
    "# the non-strand aware version of naive matching\n",
    "\n",
    "unawareResults = unawareNaive ( pattern, reads )"
   ]
  },
  {
   "cell_type": "code",
   "execution_count": 16,
   "id": "667b73bb-82a1-48f7-b657-fcf82861e80c",
   "metadata": {
    "tags": []
   },
   "outputs": [
    {
     "name": "stdout",
     "output_type": "stream",
     "text": [
      "AACCTCCT\n"
     ]
    }
   ],
   "source": [
    "print ( rcPattern )"
   ]
  },
  {
   "cell_type": "code",
   "execution_count": 17,
   "id": "894a1b36-0942-456a-854d-f6fba637c338",
   "metadata": {
    "tags": []
   },
   "outputs": [
    {
     "name": "stdout",
     "output_type": "stream",
     "text": [
      "offset of leftmost occurrence: 38030\n"
     ]
    }
   ],
   "source": [
    "print ( 'offset of leftmost occurrence: %d' % min ( results ) )"
   ]
  },
  {
   "cell_type": "code",
   "execution_count": 18,
   "id": "e932b8b8-4644-4927-944f-965d1cb95a4e",
   "metadata": {
    "tags": []
   },
   "outputs": [
    {
     "name": "stdout",
     "output_type": "stream",
     "text": [
      "offset of leftmost rc occurrence: 38030\n"
     ]
    }
   ],
   "source": [
    "print ( 'offset of leftmost rc occurrence: %d' % min ( rcResults ) )"
   ]
  },
  {
   "cell_type": "code",
   "execution_count": 19,
   "id": "9d1bb7f3-5c1d-4b4b-92ab-98db78956969",
   "metadata": {
    "tags": []
   },
   "outputs": [
    {
     "name": "stdout",
     "output_type": "stream",
     "text": [
      "occurrences: 2\n"
     ]
    }
   ],
   "source": [
    "print ( 'occurrences: %d' % len ( results ) )"
   ]
  },
  {
   "cell_type": "code",
   "execution_count": 20,
   "id": "cb369754-5312-4afc-9cc1-b6aa8612d9ec",
   "metadata": {
    "tags": []
   },
   "outputs": [
    {
     "name": "stdout",
     "output_type": "stream",
     "text": [
      "rc occurrences: 2\n"
     ]
    }
   ],
   "source": [
    "print ( 'rc occurrences: %d' % len ( rcResults ) )"
   ]
  },
  {
   "cell_type": "code",
   "execution_count": 21,
   "id": "524002b8-d2e7-4cd5-b80f-66356f61273b",
   "metadata": {},
   "outputs": [
    {
     "name": "stdout",
     "output_type": "stream",
     "text": [
      "offset of lefmost occurence with up to 2 mismatches : 49\n"
     ]
    }
   ],
   "source": [
    "print ( 'offset of lefmost occurence with up to 2 mismatches : %d' % min ( mmResults ) )"
   ]
  },
  {
   "cell_type": "code",
   "execution_count": 22,
   "id": "778e3028-76fa-4519-b59e-70976cc494a7",
   "metadata": {
    "tags": []
   },
   "outputs": [
    {
     "name": "stdout",
     "output_type": "stream",
     "text": [
      "mm occurrences: 215\n"
     ]
    }
   ],
   "source": [
    "print ( 'mm occurrences: %d' % len ( mmResults ) )"
   ]
  },
  {
   "cell_type": "code",
   "execution_count": 23,
   "id": "75ab75b9-83f7-49ba-945e-a596f3ae97ef",
   "metadata": {
    "tags": []
   },
   "outputs": [
    {
     "name": "stdout",
     "output_type": "stream",
     "text": [
      "offset of leftmost unware occurrence: 38030\n"
     ]
    }
   ],
   "source": [
    "print ( 'offset of leftmost unware occurrence: %d' % min ( unawareResults ) )"
   ]
  },
  {
   "cell_type": "code",
   "execution_count": 24,
   "id": "f4f817e5-4f99-41b2-b813-668cc456da66",
   "metadata": {
    "tags": []
   },
   "outputs": [
    {
     "name": "stdout",
     "output_type": "stream",
     "text": [
      "unaware occurrences: 1\n"
     ]
    }
   ],
   "source": [
    "print ( 'unaware occurrences: %d' % len ( unawareResults ) )"
   ]
  },
  {
   "cell_type": "markdown",
   "id": "ac7d7472-955b-4e70-9d0f-7ed4302e308b",
   "metadata": {},
   "source": [
    "## Processing a FastQ File"
   ]
  },
  {
   "cell_type": "code",
   "execution_count": 28,
   "id": "4fb29036-5626-4444-806b-ab0bffa4b0fa",
   "metadata": {},
   "outputs": [],
   "source": [
    "from geneReader_Q import geneReader_Q\n",
    "\n",
    "filename = 'ERR037900_1.first1000.fastq'\n",
    "\n",
    "data = open ( filename, 'r' )\n",
    "\n",
    "reads = geneReader_Q ( filename )\n",
    "\n",
    "data.close ()"
   ]
  },
  {
   "cell_type": "code",
   "execution_count": 29,
   "id": "0b4645fd-fe0e-4ac8-b13a-d38e23133447",
   "metadata": {},
   "outputs": [],
   "source": [
    "import collections\n",
    "\n",
    "from collections import Counter\n",
    "\n",
    "# My code for reading the fast_Q file, and then determining which read cycle is bad based on position of the N's.\n",
    "\n",
    "readLines = geneReader_Q ( filename )\n",
    "\n",
    "nPos = []\n",
    "\n",
    "letter = \"N\"\n",
    "\n",
    "\n",
    "for i in readLines : \n",
    "                    \n",
    "    num = i.rfind ( letter )\n",
    "\n",
    "    nPos.append ( num )"
   ]
  },
  {
   "cell_type": "markdown",
   "id": "a55d5b82-eea3-48f8-ac91-89b5952870a1",
   "metadata": {},
   "source": [
    "### Analysis of reads to discover the faulty cycle."
   ]
  },
  {
   "cell_type": "code",
   "execution_count": 30,
   "id": "3cd651d4-0f0f-4025-aa71-4c85c5c3ece4",
   "metadata": {},
   "outputs": [
    {
     "name": "stdout",
     "output_type": "stream",
     "text": [
      "Counter({'C': 29665, 'A': 24057, 'G': 22888, 'T': 22476, '\\n': 1000, 'N': 914})\n",
      "Counter({66: 901, -1: 97, 91: 1, 92: 1})\n",
      "dict_keys([66, 91, -1, 92])\n",
      "dict_values([901, 1, 97, 1])\n",
      "101\n"
     ]
    },
    {
     "data": {
      "text/plain": [
       "0      66\n",
       "1      91\n",
       "2      66\n",
       "3      66\n",
       "4      66\n",
       "       ..\n",
       "995    66\n",
       "996    66\n",
       "997    66\n",
       "998    66\n",
       "999    66\n",
       "Length: 1000, dtype: int64"
      ]
     },
     "execution_count": 30,
     "metadata": {},
     "output_type": "execute_result"
    }
   ],
   "source": [
    "import pandas as pd\n",
    "\n",
    "nPos2 = pd.Series ( nPos )\n",
    "\n",
    "count = collections.Counter ()\n",
    "\n",
    "for read in readLines:\n",
    "    \n",
    "    count.update ( read )\n",
    "    \n",
    "print ( count )\n",
    "\n",
    "print ( Counter ( nPos2 ) ) \n",
    "\n",
    "print ( Counter ( nPos2 ).keys () )\n",
    "\n",
    "print ( Counter ( nPos2 ).values () )\n",
    "\n",
    "print ( len ( readLines [ 0 ] ) )\n",
    "\n",
    "nPos2"
   ]
  },
  {
   "cell_type": "markdown",
   "id": "fa3a1e46-021c-40c0-960a-d6e0fdfef7e9",
   "metadata": {},
   "source": [
    "_______\n",
    "\n",
    "The faulty cycle very likely occurs at cycle 66 / 100 in the sequencer. "
   ]
  },
  {
   "cell_type": "code",
   "execution_count": null,
   "id": "f2decc63-cbb2-4cef-ae18-7b07df6122fc",
   "metadata": {},
   "outputs": [],
   "source": []
  }
 ],
 "metadata": {
  "kernelspec": {
   "display_name": "Python 3 (ipykernel)",
   "language": "python",
   "name": "python3"
  },
  "language_info": {
   "codemirror_mode": {
    "name": "ipython",
    "version": 3
   },
   "file_extension": ".py",
   "mimetype": "text/x-python",
   "name": "python",
   "nbconvert_exporter": "python",
   "pygments_lexer": "ipython3",
   "version": "3.8.8"
  }
 },
 "nbformat": 4,
 "nbformat_minor": 5
}
