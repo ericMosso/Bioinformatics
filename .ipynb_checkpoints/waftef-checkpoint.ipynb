{
 "cells": [
  {
   "cell_type": "code",
   "execution_count": 1,
   "id": "da91aed6-3759-4494-b91d-e2df62e96d0c",
   "metadata": {},
   "outputs": [
    {
     "data": {
      "text/plain": [
       "['C:\\\\Users\\\\ecmos\\\\Genome Sequencing Practice\\\\Bioinformatics\\\\Analysis Notebooks',\n",
       " 'C:\\\\Users\\\\ecmos\\\\anaconda3\\\\python38.zip',\n",
       " 'C:\\\\Users\\\\ecmos\\\\anaconda3\\\\DLLs',\n",
       " 'C:\\\\Users\\\\ecmos\\\\anaconda3\\\\lib',\n",
       " 'C:\\\\Users\\\\ecmos\\\\anaconda3',\n",
       " '',\n",
       " 'C:\\\\Users\\\\ecmos\\\\AppData\\\\Roaming\\\\Python\\\\Python38\\\\site-packages',\n",
       " 'C:\\\\Users\\\\ecmos\\\\anaconda3\\\\lib\\\\site-packages',\n",
       " 'C:\\\\Users\\\\ecmos\\\\anaconda3\\\\lib\\\\site-packages\\\\win32',\n",
       " 'C:\\\\Users\\\\ecmos\\\\anaconda3\\\\lib\\\\site-packages\\\\win32\\\\lib',\n",
       " 'C:\\\\Users\\\\ecmos\\\\anaconda3\\\\lib\\\\site-packages\\\\Pythonwin']"
      ]
     },
     "execution_count": 1,
     "metadata": {},
     "output_type": "execute_result"
    }
   ],
   "source": [
    "import sys\n",
    "sys.path"
   ]
  },
  {
   "cell_type": "code",
   "execution_count": null,
   "id": "6c7bc938-b8ee-4b18-9350-74842f897f76",
   "metadata": {},
   "outputs": [],
   "source": []
  }
 ],
 "metadata": {
  "kernelspec": {
   "display_name": "Python 3 (ipykernel)",
   "language": "python",
   "name": "python3"
  },
  "language_info": {
   "codemirror_mode": {
    "name": "ipython",
    "version": 3
   },
   "file_extension": ".py",
   "mimetype": "text/x-python",
   "name": "python",
   "nbconvert_exporter": "python",
   "pygments_lexer": "ipython3",
   "version": "3.8.8"
  }
 },
 "nbformat": 4,
 "nbformat_minor": 5
}
