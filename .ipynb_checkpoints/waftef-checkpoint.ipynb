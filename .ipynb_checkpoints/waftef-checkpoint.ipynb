{
 "cells": [
  {
   "cell_type": "code",
   "execution_count": 1,
   "id": "da91aed6-3759-4494-b91d-e2df62e96d0c",
   "metadata": {},
   "outputs": [],
   "source": [
    "import sys\n",
    "import os\n",
    "\n",
    "module_path = os.path.abspath ( os.path.join ( '..' ) ) \n",
    "\n",
    "if module_path not in sys.path :\n",
    "    \n",
    "    sys.path.append ( module_path + \"\\\\PyScripts\" )\n",
    "\n",
    "from match import match"
   ]
  },
  {
   "cell_type": "code",
   "execution_count": 2,
   "id": "6c7bc938-b8ee-4b18-9350-74842f897f76",
   "metadata": {},
   "outputs": [
    {
     "data": {
      "text/plain": [
       "<function match.match(s1, s2)>"
      ]
     },
     "execution_count": 2,
     "metadata": {},
     "output_type": "execute_result"
    }
   ],
   "source": [
    "match"
   ]
  },
  {
   "cell_type": "code",
   "execution_count": null,
   "id": "3165da25-e7ef-4bc2-97d0-a085adc927aa",
   "metadata": {},
   "outputs": [],
   "source": []
  }
 ],
 "metadata": {
  "kernelspec": {
   "display_name": "Python 3 (ipykernel)",
   "language": "python",
   "name": "python3"
  },
  "language_info": {
   "codemirror_mode": {
    "name": "ipython",
    "version": 3
   },
   "file_extension": ".py",
   "mimetype": "text/x-python",
   "name": "python",
   "nbconvert_exporter": "python",
   "pygments_lexer": "ipython3",
   "version": "3.8.8"
  }
 },
 "nbformat": 4,
 "nbformat_minor": 5
}
