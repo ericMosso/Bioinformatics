{
 "cells": [
  {
   "cell_type": "code",
   "execution_count": 45,
   "id": "18c3b5db-f144-45b5-84fe-10f86a67e888",
   "metadata": {},
   "outputs": [],
   "source": [
    "def geneReader ( filename ) :\n",
    "    \n",
    "    genome = ''\n",
    "    \n",
    "    with open ( filename, 'r' ) as f :\n",
    "        \n",
    "        for line in f :\n",
    "            \n",
    "            # ignore header line with genome information\n",
    "            \n",
    "            if not line [ 0 ] == '>' :\n",
    "                \n",
    "                genome += line.rstrip()\n",
    "                \n",
    "    return genome"
   ]
  },
  {
   "cell_type": "code",
   "execution_count": 46,
   "id": "c273a4b5-32ee-46f8-9087-d01552d0d636",
   "metadata": {},
   "outputs": [],
   "source": [
    "filename = 'lambda_virus.fa'\n",
    "\n",
    "data = open ( filename, 'r' )\n",
    "\n",
    "reads = geneReader ( filename )\n",
    "\n",
    "data.close()"
   ]
  },
  {
   "cell_type": "code",
   "execution_count": 47,
   "id": "8fafe114-bb3a-4c6a-90ba-49067a75e2c2",
   "metadata": {},
   "outputs": [],
   "source": [
    "from reverseComplement import reverseComplement\n",
    "\n",
    "readsRC = reverseComplement ( reads )"
   ]
  },
  {
   "cell_type": "code",
   "execution_count": 57,
   "id": "796660e6-633b-4c17-97c1-2547f5106607",
   "metadata": {},
   "outputs": [],
   "source": [
    "from naive import naive\n",
    "\n",
    "pattern = 'ATTA'\n",
    "\n",
    "naiveMatching = naive ( pattern, reads )\n",
    "naiveMatchingRC = naive ( pattern, readsRC )"
   ]
  },
  {
   "cell_type": "code",
   "execution_count": null,
   "id": "8c64561d-cab0-4e56-b7a4-1d5833c0311a",
   "metadata": {},
   "outputs": [],
   "source": [
    "naiveMatching, naiveMatchingRC"
   ]
  },
  {
   "cell_type": "code",
   "execution_count": 58,
   "id": "568da5ca-d63c-4d24-972e-84999a2d9894",
   "metadata": {},
   "outputs": [
    {
     "data": {
      "text/plain": [
       "189"
      ]
     },
     "execution_count": 58,
     "metadata": {},
     "output_type": "execute_result"
    }
   ],
   "source": [
    "len(naiveMatching)"
   ]
  },
  {
   "cell_type": "code",
   "execution_count": 59,
   "id": "d4539f71-ddde-4350-90a9-0a944d185ac6",
   "metadata": {},
   "outputs": [
    {
     "data": {
      "text/plain": [
       "194"
      ]
     },
     "execution_count": 59,
     "metadata": {},
     "output_type": "execute_result"
    }
   ],
   "source": [
    "len(naiveMatchingRC)"
   ]
  }
 ],
 "metadata": {
  "kernelspec": {
   "display_name": "Python 3 (ipykernel)",
   "language": "python",
   "name": "python3"
  },
  "language_info": {
   "codemirror_mode": {
    "name": "ipython",
    "version": 3
   },
   "file_extension": ".py",
   "mimetype": "text/x-python",
   "name": "python",
   "nbconvert_exporter": "python",
   "pygments_lexer": "ipython3",
   "version": "3.8.8"
  }
 },
 "nbformat": 4,
 "nbformat_minor": 5
}
