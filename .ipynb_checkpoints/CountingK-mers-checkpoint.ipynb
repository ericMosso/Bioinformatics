{
 "cells": [
  {
   "cell_type": "markdown",
   "metadata": {},
   "source": [
    "## Count ( Text, Pattern )\n",
    " \n",
    "* Checks whether each k-mer substring of Text matches Pattern.\n",
    "* K-mer starting at position i of Text as Text ( i, k ).\n",
    "* Text begins at position 0. \n",
    "* Text ends at position |Text| - 1.\n",
    "* |Text| is number of symbols in Text.\n",
    "* Text ( 4,3 ), is starting at position 4, length of 3"
   ]
  },
  {
   "cell_type": "code",
   "execution_count": 79,
   "metadata": {},
   "outputs": [],
   "source": [
    "import numpy as np"
   ]
  },
  {
   "cell_type": "markdown",
   "metadata": {},
   "source": [
    "## Pseudocode"
   ]
  },
  {
   "cell_type": "code",
   "execution_count": null,
   "metadata": {},
   "outputs": [],
   "source": [
    "PatternCount ( Text, Pattern )\n",
    "\n",
    "  count ← 0\n",
    "    \n",
    "  for i ← 0 to |Text| − |Pattern|\n",
    "\n",
    "    if Text ( i, |Pattern| ) = Pattern\n",
    "    \n",
    "      count ← count + 1\n",
    "        \n",
    "  return count"
   ]
  },
  {
   "cell_type": "markdown",
   "metadata": {},
   "source": [
    "## Python code"
   ]
  },
  {
   "cell_type": "code",
   "execution_count": 4,
   "metadata": {
    "scrolled": true
   },
   "outputs": [],
   "source": [
    "import numpy as np\n",
    "\n",
    "\n",
    "def PatternCount ( text, pattern ) :\n",
    "    \n",
    "    # Defining the pattern length variable. \n",
    "\n",
    "    patternLen = len ( pattern )\n",
    "    \n",
    "    # Definining the length of the range to loop over.\n",
    "\n",
    "    loopLen = len ( text ) - len ( pattern )\n",
    "    \n",
    "    # Defining an efficient numpy array to loop over. \n",
    "\n",
    "    dnaRange = np.arange ( loopLen )\n",
    "    \n",
    "    # Initializing the count to 0.\n",
    "    \n",
    "    count = 0\n",
    "    \n",
    "    # Loops over the predefined numpy array.\n",
    "    \n",
    "    for i in dnaRange:\n",
    "        \n",
    "        # Checks if the substring within the text string matches the pattern string.\n",
    "        \n",
    "        # Range goes from current i value, to current i value added to the length of the pattern.\n",
    "         \n",
    "        if text [ i : i + patternLen ] == pattern :\n",
    "        \n",
    "        # Increments the count by one if there is a match.\n",
    "        \n",
    "         count = count + 1\n",
    "    \n",
    "    # Prints the count.\n",
    "    \n",
    "    print ( count )"
   ]
  },
  {
   "cell_type": "markdown",
   "metadata": {
    "tags": []
   },
   "source": [
    "#### Example with a DNA file:"
   ]
  },
  {
   "cell_type": "code",
   "execution_count": 11,
   "metadata": {
    "tags": []
   },
   "outputs": [
    {
     "name": "stdout",
     "output_type": "stream",
     "text": [
      "3\n"
     ]
    }
   ],
   "source": [
    "# Opening the text file and reading it to a variable, dnaFile.\n",
    "\n",
    "dnaFile = open ( \"dataset_2_6.txt\", \"r\" )\n",
    "\n",
    "# Saving the contents of the file to a string variable.\n",
    "\n",
    "text = dnaFile.read ()\n",
    "\n",
    "# Closing the file. \n",
    "\n",
    "dnaFile.close ()\n",
    "\n",
    "pattern = 'ACT'\n",
    "\n",
    "PatternCount ( text, pattern )"
   ]
  },
  {
   "cell_type": "markdown",
   "metadata": {},
   "source": [
    "#### Example using simple strings:"
   ]
  },
  {
   "cell_type": "code",
   "execution_count": 12,
   "metadata": {},
   "outputs": [
    {
     "name": "stdout",
     "output_type": "stream",
     "text": [
      "5\n"
     ]
    }
   ],
   "source": [
    "# Other user defined function call example:\n",
    "\n",
    "PatternCount ( 'CGCGATACGTTACATACATGATAGACCGCGCGCGATCATATCGCGATTATC', 'CGCG' )"
   ]
  }
 ],
 "metadata": {
  "kernelspec": {
   "display_name": "Python 3",
   "language": "python",
   "name": "python3"
  },
  "language_info": {
   "codemirror_mode": {
    "name": "ipython",
    "version": 3
   },
   "file_extension": ".py",
   "mimetype": "text/x-python",
   "name": "python",
   "nbconvert_exporter": "python",
   "pygments_lexer": "ipython3",
   "version": "3.8.5"
  }
 },
 "nbformat": 4,
 "nbformat_minor": 4
}
