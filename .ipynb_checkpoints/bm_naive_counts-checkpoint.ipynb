{
 "cells": [
  {
   "cell_type": "markdown",
   "id": "dc4952d9",
   "metadata": {},
   "source": [
    "# Naive, Approximate, and Boyer Moore Matching Comparisons"
   ]
  },
  {
   "cell_type": "markdown",
   "id": "b438c261",
   "metadata": {},
   "source": [
    "Implementing versions of the naive exact matching and Boyer-Moore algorithms that also \n",
    "count and return \n",
    "\n",
    "-  character comparisons performed\n",
    "\n",
    "-  alignments tried\n",
    "\n",
    "We will consider these measures as approximately how efficient the algorithms are."
   ]
  },
  {
   "cell_type": "markdown",
   "id": "b326e885",
   "metadata": {},
   "source": [
    "---\n",
    "### Boyer Moore with Pattern Preprocessing and Counts"
   ]
  },
  {
   "cell_type": "code",
   "execution_count": 1,
   "id": "81b64617",
   "metadata": {},
   "outputs": [],
   "source": [
    "from PyScripts.bm_preproc import BoyerMoore\n",
    "\n",
    "from PyScripts.bm_with_counts import boyer_moore_with_counts\n",
    "\n",
    "from PyScripts.geneReader import geneReader"
   ]
  },
  {
   "cell_type": "code",
   "execution_count": 2,
   "id": "1bcac5be",
   "metadata": {},
   "outputs": [],
   "source": [
    "filename = 'Sequencing_Files/chr1.GRCh38.excerpt.fasta'\n",
    "\n",
    "data = open ( filename, 'r' )\n",
    "\n",
    "reads = geneReader ( filename )\n",
    "\n",
    "data.close ()"
   ]
  },
  {
   "cell_type": "code",
   "execution_count": 3,
   "id": "b3146938",
   "metadata": {},
   "outputs": [
    {
     "name": "stdout",
     "output_type": "stream",
     "text": [
      "Boyer Moore occurrences: [56922]\n",
      "Boyer Moore alignments: 127974\n",
      "Boyer Moore character comparisons: 165191\n"
     ]
    }
   ],
   "source": [
    "t = reads\n",
    "\n",
    "p = 'GGCGCGGTGGCTCACGCCTGTAATCCCAGCACTTTGGGAGGCCGAGG'\n",
    "\n",
    "uppercase_alphabet = 'ABCDEFGHIJKLMNOPQRSTUVWXYZ'\n",
    "\n",
    "p_bm = BoyerMoore ( p, uppercase_alphabet )\n",
    "\n",
    "print ( 'Boyer Moore occurrences:', boyer_moore_with_counts ( p, p_bm, t ) [ 0 ] )\n",
    "\n",
    "print ( 'Boyer Moore alignments:', boyer_moore_with_counts ( p, p_bm, t ) [ 1 ] )\n",
    "\n",
    "print ( 'Boyer Moore character comparisons:', boyer_moore_with_counts ( p, p_bm, t ) [ 2 ] )"
   ]
  },
  {
   "cell_type": "markdown",
   "id": "e1d9e163",
   "metadata": {},
   "source": [
    "---\n",
    "### Naive Exact Matching Counts"
   ]
  },
  {
   "cell_type": "code",
   "execution_count": 4,
   "id": "47cda605",
   "metadata": {},
   "outputs": [],
   "source": [
    "from PyScripts.naive_with_counts import naive_with_counts\n",
    "\n",
    "from PyScripts.geneReader import geneReader"
   ]
  },
  {
   "cell_type": "code",
   "execution_count": 5,
   "id": "fe8a3d0d",
   "metadata": {},
   "outputs": [],
   "source": [
    "filename = 'SeqFiles/chr1.GRCh38.excerpt.fasta'\n",
    "\n",
    "data = open ( filename, 'r' )\n",
    "\n",
    "reads = geneReader ( filename )\n",
    "\n",
    "data.close ()"
   ]
  },
  {
   "cell_type": "code",
   "execution_count": 6,
   "id": "b80d7d9a",
   "metadata": {},
   "outputs": [
    {
     "name": "stdout",
     "output_type": "stream",
     "text": [
      "Naive exact matching occurrences: [56922]\n",
      "Naive exact matching alignments: 799954\n",
      "Naive exact matching character comparisons: 984143\n"
     ]
    }
   ],
   "source": [
    "t = reads\n",
    "\n",
    "p = 'GGCGCGGTGGCTCACGCCTGTAATCCCAGCACTTTGGGAGGCCGAGG'\n",
    "\n",
    "print ( 'Naive exact matching occurrences:', naive_with_counts ( p, t ) [ 0 ] )\n",
    "\n",
    "print ( 'Naive exact matching alignments:', naive_with_counts ( p, t ) [ 1 ] )\n",
    "\n",
    "print ( 'Naive exact matching character comparisons:', naive_with_counts ( p, t ) [ 2 ] )"
   ]
  },
  {
   "cell_type": "markdown",
   "id": "5c2460ea",
   "metadata": {},
   "source": [
    "---\n",
    "### Naive Allowing Up to Two Mismatches"
   ]
  },
  {
   "cell_type": "code",
   "execution_count": 9,
   "id": "3cb6d855",
   "metadata": {},
   "outputs": [],
   "source": [
    "from PyScripts.naive_mismatches import naive_mismatches\n",
    "\n",
    "from PyScripts.geneReader import geneReader"
   ]
  },
  {
   "cell_type": "code",
   "execution_count": 10,
   "id": "60795a54",
   "metadata": {
    "tags": []
   },
   "outputs": [],
   "source": [
    "filename = 'SeqFiles/chr1.GRCh38.excerpt.fasta'\n",
    "\n",
    "data = open ( filename, 'r' )\n",
    "\n",
    "reads = geneReader ( filename )\n",
    "\n",
    "data.close ()"
   ]
  },
  {
   "cell_type": "code",
   "execution_count": 11,
   "id": "f935d0bd",
   "metadata": {
    "tags": []
   },
   "outputs": [
    {
     "name": "stdout",
     "output_type": "stream",
     "text": [
      "Occurences using naive matching with up to 2 mismatches: 19\n"
     ]
    }
   ],
   "source": [
    "p = 'GGCGCGGTGGCTCACGCCTGTAAT'\n",
    "\n",
    "t = reads\n",
    "    \n",
    "print ( 'Occurences using naive matching with up to 2 mismatches:', len ( naive_mismatches ( p, t ) ) )"
   ]
  },
  {
   "cell_type": "markdown",
   "id": "05bffb6f",
   "metadata": {},
   "source": [
    "---\n",
    "\n",
    "### Approximate Matching an Indexed Object, Allowing 2 Mismatches"
   ]
  },
  {
   "cell_type": "code",
   "execution_count": null,
   "id": "97989d01",
   "metadata": {
    "tags": []
   },
   "outputs": [],
   "source": [
    "from PyScripts.kmer_index import Index\n",
    "\n",
    "from PyScripts.approximate_match_idx import approximate_match_idx"
   ]
  },
  {
   "cell_type": "code",
   "execution_count": null,
   "id": "41e88d76",
   "metadata": {
    "tags": []
   },
   "outputs": [],
   "source": [
    "from geneReader import geneReader\n",
    "\n",
    "filename = 'chr1.GRCh38.excerpt.fasta'\n",
    "\n",
    "data = open ( filename, 'r' )\n",
    "\n",
    "reads = geneReader ( filename )\n",
    "\n",
    "data.close ()"
   ]
  },
  {
   "cell_type": "code",
   "execution_count": null,
   "id": "a0f30327",
   "metadata": {
    "tags": []
   },
   "outputs": [],
   "source": [
    "p = 'GGCGCGGTGGCTCACGCCTGTAAT'\n",
    "\n",
    "t = reads\n",
    "\n",
    "print ( 'Approximate Matches of an Indexed Object:', approximate_match_idx ( p, t, 2 ) )"
   ]
  },
  {
   "cell_type": "markdown",
   "id": "74fc7ac8",
   "metadata": {},
   "source": [
    "---\n",
    "### Approximate Matching with a Boyer Moore Object, Up to 2 Mismatches"
   ]
  },
  {
   "cell_type": "code",
   "execution_count": null,
   "id": "f58b532e",
   "metadata": {
    "tags": []
   },
   "outputs": [],
   "source": [
    "from approximate_match import approximate_match\n",
    "\n",
    "from geneReader import geneReader"
   ]
  },
  {
   "cell_type": "code",
   "execution_count": null,
   "id": "d7538aea",
   "metadata": {
    "tags": []
   },
   "outputs": [],
   "source": [
    "filename = 'chr1.GRCh38.excerpt.fasta'\n",
    "\n",
    "data = open ( filename, 'r' )\n",
    "\n",
    "reads = geneReader ( filename )\n",
    "\n",
    "data.close ()"
   ]
  },
  {
   "cell_type": "code",
   "execution_count": null,
   "id": "c62e8bc3",
   "metadata": {
    "tags": []
   },
   "outputs": [],
   "source": [
    "p = 'GGCGCGGTGGCTCACGCCTGTAAT'\n",
    "\n",
    "t = reads\n",
    "\n",
    "print ( 'Matches using Approximate Matching with Boyer Moore Object:', len ( approximate_match ( p, t, 2 ) ) )"
   ]
  },
  {
   "cell_type": "markdown",
   "id": "aeeba245",
   "metadata": {
    "tags": []
   },
   "source": [
    "---"
   ]
  },
  {
   "cell_type": "markdown",
   "id": "8a35dae4",
   "metadata": {},
   "source": [
    "### Occurences Using a SubseqIndex Object, Up to 2 Mismatches"
   ]
  },
  {
   "cell_type": "code",
   "execution_count": null,
   "id": "e8db3775",
   "metadata": {},
   "outputs": [],
   "source": [
    "from SubseqIndex import SubseqIndex\n",
    "\n",
    "from approximate_match_subseq import approximate_match_subseq\n",
    "\n",
    "from geneReader import geneReader"
   ]
  },
  {
   "cell_type": "code",
   "execution_count": null,
   "id": "3838c3b5",
   "metadata": {},
   "outputs": [],
   "source": [
    "filename = 'chr1.GRCh38.excerpt.fasta'\n",
    "\n",
    "data = open ( filename, 'r' )\n",
    "\n",
    "reads = geneReader ( filename )\n",
    "\n",
    "data.close ()"
   ]
  },
  {
   "cell_type": "code",
   "execution_count": null,
   "id": "2372ca2e",
   "metadata": {
    "tags": []
   },
   "outputs": [],
   "source": [
    "p = 'GGCGCGGTGGCTCACGCCTGTAAT'\n",
    "\n",
    "t = reads\n",
    "\n",
    "n = 2\n",
    "\n",
    "ival = 3\n",
    "\n",
    "print ( 'Matches with an indexed object using subsequences:', approximate_match_subseq ( p, t, n, ival ) [ 1 ] )"
   ]
  },
  {
   "cell_type": "code",
   "execution_count": null,
   "id": "66723d7e",
   "metadata": {},
   "outputs": [],
   "source": []
  }
 ],
 "metadata": {
  "kernelspec": {
   "display_name": "Python 3 (Spyder)",
   "language": "python3",
   "name": "python3"
  },
  "language_info": {
   "codemirror_mode": {
    "name": "ipython",
    "version": 3
   },
   "file_extension": ".py",
   "mimetype": "text/x-python",
   "name": "python",
   "nbconvert_exporter": "python",
   "pygments_lexer": "ipython3",
   "version": "3.8.8"
  }
 },
 "nbformat": 4,
 "nbformat_minor": 5
}
