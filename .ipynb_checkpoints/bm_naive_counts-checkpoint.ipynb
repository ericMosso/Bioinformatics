{
 "cells": [
  {
   "cell_type": "markdown",
   "id": "8a100202-76b8-4624-a40f-bcead44102dc",
   "metadata": {},
   "source": [
    "# Naive, BM: Comparing"
   ]
  },
  {
   "cell_type": "markdown",
   "id": "70d09a0c-5e26-4816-ac59-c3e76efd8a79",
   "metadata": {},
   "source": [
    "Implementing versions of the naive exact matching and Boyer-Moore algorithms that also \n",
    "count and return \n",
    "\n",
    "-  character comparisons performed\n",
    "\n",
    "-  alignments tried\n",
    "\n",
    "We will consider these measures as approximately how efficient the algorithms are."
   ]
  },
  {
   "cell_type": "markdown",
   "id": "a8bf8901-3b13-4d75-9224-32927ee112f6",
   "metadata": {},
   "source": [
    "---\n",
    "### Boyer Moore Counts"
   ]
  },
  {
   "cell_type": "code",
   "execution_count": null,
   "id": "e5821ef8-d4b7-4075-9e2c-29a426bdd8c8",
   "metadata": {},
   "outputs": [],
   "source": [
    "from bm_preproc import BoyerMoore\n",
    "\n",
    "from bm_with_counts import boyer_moore_with_counts\n",
    "\n",
    "from geneReader import geneReader"
   ]
  },
  {
   "cell_type": "code",
   "execution_count": null,
   "id": "96b5dbfa-04c0-48a2-b46f-8088c083391b",
   "metadata": {},
   "outputs": [],
   "source": [
    "filename = 'chr1.GRCh38.excerpt.fasta'\n",
    "\n",
    "data = open ( filename, 'r' )\n",
    "\n",
    "reads = geneReader ( filename )\n",
    "\n",
    "data.close ()"
   ]
  },
  {
   "cell_type": "code",
   "execution_count": null,
   "id": "1b83750c-a6d4-460b-93ed-a3c18d0df72e",
   "metadata": {},
   "outputs": [],
   "source": [
    "t = reads\n",
    "\n",
    "p = 'GGCGCGGTGGCTCACGCCTGTAATCCCAGCACTTTGGGAGGCCGAGG'\n",
    "\n",
    "uppercase_alphabet = 'ABCDEFGHIJKLMNOPQRSTUVWXYZ'\n",
    "\n",
    "p_bm = BoyerMoore ( p, uppercase_alphabet )\n",
    "\n",
    "print ( 'Boyer Moore occurrences:', boyer_moore_with_counts ( p, p_bm, t ) [ 0 ] )\n",
    "\n",
    "print ( 'Boyer Moore alignments:', boyer_moore_with_counts ( p, p_bm, t ) [ 1 ] )\n",
    "\n",
    "print ( 'Boyer Moore character comparisons:', boyer_moore_with_counts ( p, p_bm, t ) [ 2 ] )"
   ]
  },
  {
   "cell_type": "markdown",
   "id": "75307387-398f-415f-ae17-06e68fdb27b3",
   "metadata": {},
   "source": [
    "---\n",
    "### Naive Exact Matching Counts"
   ]
  },
  {
   "cell_type": "code",
   "execution_count": null,
   "id": "df56e19b-197c-499f-808e-a47082629d3f",
   "metadata": {},
   "outputs": [],
   "source": [
    "from naive_with_counts import naive_with_counts\n",
    "\n",
    "from geneReader import geneReader"
   ]
  },
  {
   "cell_type": "code",
   "execution_count": null,
   "id": "4aa7e13c-4655-46f3-8feb-da0ee617eb59",
   "metadata": {},
   "outputs": [],
   "source": [
    "filename = 'chr1.GRCh38.excerpt.fasta'\n",
    "\n",
    "data = open ( filename, 'r' )\n",
    "\n",
    "reads = geneReader ( filename )\n",
    "\n",
    "data.close ()"
   ]
  },
  {
   "cell_type": "code",
   "execution_count": null,
   "id": "ea5fb8de-46c7-403e-83c5-12a32c5b8c4f",
   "metadata": {},
   "outputs": [],
   "source": [
    "t = reads\n",
    "\n",
    "p = 'GGCGCGGTGGCTCACGCCTGTAATCCCAGCACTTTGGGAGGCCGAGG'\n",
    "\n",
    "print ( 'Naive exact matching occurrences:', naive_with_counts ( p, t ) [ 0 ] )\n",
    "\n",
    "print ( 'Naive exact matching alignments:', naive_with_counts ( p, t ) [ 1 ] )\n",
    "\n",
    "print ( 'Naive exact matching character comparisons:', naive_with_counts ( p, t ) [ 2 ] )"
   ]
  },
  {
   "cell_type": "markdown",
   "id": "e6d61f5c-17f2-4284-868a-c0de2f3dd8c3",
   "metadata": {},
   "source": [
    "---\n",
    "### Naive Allowing Up to Two Mismatches"
   ]
  },
  {
   "cell_type": "code",
   "execution_count": null,
   "id": "d8779612-cd41-4166-aa88-f7a060f3d44f",
   "metadata": {},
   "outputs": [],
   "source": [
    "from naive_mismatches import naive_mismatches\n",
    "\n",
    "from geneReader import geneReader"
   ]
  },
  {
   "cell_type": "code",
   "execution_count": null,
   "id": "2007b3f4-eb54-4e21-8689-b175a4834cf1",
   "metadata": {
    "tags": []
   },
   "outputs": [],
   "source": [
    "filename = 'chr1.GRCh38.excerpt.fasta'\n",
    "\n",
    "data = open ( filename, 'r' )\n",
    "\n",
    "reads = geneReader ( filename )\n",
    "\n",
    "data.close ()"
   ]
  },
  {
   "cell_type": "code",
   "execution_count": null,
   "id": "6f904f20-d144-4fbd-86d7-904c1300eae8",
   "metadata": {
    "tags": []
   },
   "outputs": [],
   "source": [
    "p = 'GGCGCGGTGGCTCACGCCTGTAAT'\n",
    "\n",
    "t = reads\n",
    "    \n",
    "print ( 'Occurences using naive matching with up to 2 mismatches:', len ( naive_mismatches ( p, t ) ) )"
   ]
  },
  {
   "cell_type": "markdown",
   "id": "6eab6268-7151-44c0-90b3-077239cbe804",
   "metadata": {},
   "source": [
    "---\n",
    "\n",
    "### Approximate Matching an Indexed Object, Allowing 2 Mismatches"
   ]
  },
  {
   "cell_type": "code",
   "execution_count": null,
   "id": "1c055fcb-a76d-4f0a-af35-144fc394142a",
   "metadata": {
    "tags": []
   },
   "outputs": [],
   "source": [
    "from kmer_index import Index\n",
    "\n",
    "from approximate_match_idx import approximate_match_idx"
   ]
  },
  {
   "cell_type": "code",
   "execution_count": null,
   "id": "0ed345a9-9d8f-40dc-8047-ec66dcdaf944",
   "metadata": {
    "tags": []
   },
   "outputs": [],
   "source": [
    "from geneReader import geneReader\n",
    "\n",
    "filename = 'chr1.GRCh38.excerpt.fasta'\n",
    "\n",
    "data = open ( filename, 'r' )\n",
    "\n",
    "reads = geneReader ( filename )\n",
    "\n",
    "data.close ()"
   ]
  },
  {
   "cell_type": "code",
   "execution_count": null,
   "id": "bb51efb8-e8db-468d-b3ee-bf9780ce711a",
   "metadata": {
    "tags": []
   },
   "outputs": [],
   "source": [
    "p = 'GGCGCGGTGGCTCACGCCTGTAAT'\n",
    "\n",
    "t = reads\n",
    "\n",
    "approximate_match_idx ( p, t, 2 )"
   ]
  },
  {
   "cell_type": "markdown",
   "id": "042785cd-ce95-4d85-a16d-22ed0d9a503d",
   "metadata": {},
   "source": [
    "---\n",
    "### Approximate Matching with a Boyer Moore Object, Up to 2 Mismatches"
   ]
  },
  {
   "cell_type": "code",
   "execution_count": null,
   "id": "979897be-c46f-4c72-8286-b39f39a8804c",
   "metadata": {
    "tags": []
   },
   "outputs": [],
   "source": [
    "from approximate_match import approximate_match\n",
    "\n",
    "from geneReader import geneReader"
   ]
  },
  {
   "cell_type": "code",
   "execution_count": null,
   "id": "c1936ed1-0f8e-4664-a0b2-9e120a9938e6",
   "metadata": {
    "tags": []
   },
   "outputs": [],
   "source": [
    "filename = 'chr1.GRCh38.excerpt.fasta'\n",
    "\n",
    "data = open ( filename, 'r' )\n",
    "\n",
    "reads = geneReader ( filename )\n",
    "\n",
    "data.close ()"
   ]
  },
  {
   "cell_type": "code",
   "execution_count": null,
   "id": "df223329-823e-4bd2-8065-f4b1730a4a8f",
   "metadata": {
    "tags": []
   },
   "outputs": [],
   "source": [
    "p = 'GGCGCGGTGGCTCACGCCTGTAAT'\n",
    "\n",
    "t = reads\n",
    "\n",
    "print ( 'Matches using Approximate Matching with Boyer Moore Object:', len ( approximate_match ( p, t, 2 ) ) )"
   ]
  },
  {
   "cell_type": "markdown",
   "id": "3b42c255-299f-4558-8f9c-7259beac3a92",
   "metadata": {
    "tags": []
   },
   "source": [
    "---"
   ]
  },
  {
   "cell_type": "markdown",
   "id": "8ba6d046-ca64-4ae0-b864-52492f848276",
   "metadata": {},
   "source": [
    "### Occurences Using a SubseqIndex Object, Up to 2 Mismatches"
   ]
  },
  {
   "cell_type": "code",
   "execution_count": null,
   "id": "957767c0-143c-47f0-adb0-c218cebe8dd2",
   "metadata": {},
   "outputs": [],
   "source": [
    "from SubseqIndex import SubseqIndex\n",
    "\n",
    "from approximate_match_subseq import approximate_match_subseq\n",
    "\n",
    "from geneReader import geneReader"
   ]
  },
  {
   "cell_type": "code",
   "execution_count": null,
   "id": "c16d9818-66aa-4a8d-9b5e-30b5e5f582ea",
   "metadata": {},
   "outputs": [],
   "source": [
    "filename = 'chr1.GRCh38.excerpt.fasta'\n",
    "\n",
    "data = open ( filename, 'r' )\n",
    "\n",
    "reads = geneReader ( filename )\n",
    "\n",
    "data.close ()"
   ]
  },
  {
   "cell_type": "code",
   "execution_count": null,
   "id": "d074556d-6c53-4113-92a3-f1e60221aec0",
   "metadata": {
    "tags": []
   },
   "outputs": [],
   "source": [
    "p = 'GGCGCGGTGGCTCACGCCTGTAAT'\n",
    "\n",
    "t = reads\n",
    "\n",
    "n = 2\n",
    "\n",
    "ival = 3\n",
    "\n",
    "print ( 'Matches with an indexed object using subsequences:', approximate_match_subseq ( p, t, n, ival ) [ 1 ] )"
   ]
  },
  {
   "cell_type": "code",
   "execution_count": null,
   "id": "7ac1e581-e9da-4a28-b570-b54d72ad34e3",
   "metadata": {},
   "outputs": [],
   "source": []
  }
 ],
 "metadata": {
  "kernelspec": {
   "display_name": "Python 3",
   "language": "python",
   "name": "python3"
  },
  "language_info": {
   "codemirror_mode": {
    "name": "ipython",
    "version": 3
   },
   "file_extension": ".py",
   "mimetype": "text/x-python",
   "name": "python",
   "nbconvert_exporter": "python",
   "pygments_lexer": "ipython3",
   "version": "3.8.5"
  }
 },
 "nbformat": 4,
 "nbformat_minor": 5
}
